{
 "cells": [
  {
   "cell_type": "code",
   "execution_count": 16,
   "id": "f027cc33-9fe7-4c08-8d0c-82f7d0616d2c",
   "metadata": {
    "tags": []
   },
   "outputs": [],
   "source": [
    "import requests\n",
    "import json"
   ]
  },
  {
   "cell_type": "code",
   "execution_count": 2,
   "id": "2b160d77-8bc4-46ae-94fe-4c041a8e8fda",
   "metadata": {},
   "outputs": [],
   "source": [
    "def deal_json_invaild(data):\n",
    "    data = data.replace(' ','')\n",
    "    data = data.replace(\"\\n\", \"\\\\n\").replace(\"\\r\", \"\\\\r\").replace(\"\\n\\r\", \"\\\\n\\\\r\") \\\n",
    "        .replace(\"\\r\\n\", \"\\\\r\\\\n\") \\\n",
    "        .replace(\"\\t\", \"\\\\t\")\n",
    "    data = data.replace('\":\"', '&&testPassword1&&')\\\n",
    "        .replace('\":', '&&testPassword2&&')\\\n",
    "        .replace('\",\"', \"$$testPassword$$\")\\\n",
    "        .replace('{\"', \"@@testPassword@@\")\\\n",
    "        .replace('\"}', \"**testPassword**\")\n",
    "    # print(data)\n",
    "\n",
    "    data = data.replace('\"', r'\\\"')\\\n",
    "        .replace('&&testPassword1&&', '\":\"').replace('&&testPassword2&&','\":').replace('$$testPassword$$', '\",\"').replace('@@testPassword@@', '{\"').replace('**testPassword**', '\"}')\n",
    "    # print(data)\n",
    "    return data"
   ]
  },
  {
   "cell_type": "code",
   "execution_count": 4,
   "id": "bfde1e60-20bf-4923-874a-5a3a1997fa6f",
   "metadata": {},
   "outputs": [],
   "source": [
    "import oss2\n",
    "ali_user_name = 'LTAI5tRAbpW9MNjDDnDAVCsq'\n",
    "ali_pwd = '7RguIff46JiTrh43HkULgbXZPiIVqu'\n",
    "auth = oss2.Auth(ali_user_name, ali_pwd)\n",
    "# yourEndpoint填写Bucket所在地域对应的Endpoint。以华东1（杭州）为例，Endpoint填写为https://oss-cn-hangzhou.aliyuncs.com。\n",
    "# 填写Bucket名称。\n",
    "bucket = oss2.Bucket(auth, 'oss-ap-southeast-1.aliyuncs.com', 'aistormy2023')\n",
    "oss_url_prefix = \"https://aistormy2023.oss-ap-southeast-1.aliyuncs.com/\"\n",
    "\n",
    "file_name='test_cv.pdf'\n",
    "content = open(file_name, 'rb').read()\n",
    "ret = bucket.put_object(file_name, content)"
   ]
  },
  {
   "cell_type": "code",
   "execution_count": null,
   "id": "814145a6-babb-4daa-87b1-55d830480a37",
   "metadata": {
    "tags": []
   },
   "outputs": [],
   "source": []
  },
  {
   "cell_type": "markdown",
   "id": "c0aca52a-1a4e-4984-b6c4-bd12058827f3",
   "metadata": {
    "tags": []
   },
   "source": [
    "# v2.0"
   ]
  },
  {
   "cell_type": "code",
   "execution_count": 19,
   "id": "0581726b-2990-40cd-9bc0-9b7e14c6676d",
   "metadata": {},
   "outputs": [],
   "source": [
    "url = 'http://114.248.215.173:32040'\n",
    "api_list = [\n",
    "\"/test\",\n",
    "\"/recruit/job/register\",\n",
    "\"/recruit/job/query\",\n",
    "\"/recruit/account/register\",\n",
    "\"/recruit/account/query\",\n",
    "\"/recruit/account/task/fetch\",\n",
    "\"/recruit/account/task/report\",\n",
    "\"/recruit/candidate/filter\",\n",
    "\"/recruit/candidate/chat\",\n",
    "\"/recruit/candidate/result\"\n",
    "]"
   ]
  },
  {
   "cell_type": "code",
   "execution_count": 20,
   "id": "f58b1166-8fb5-44a2-942c-47b7b336e94b",
   "metadata": {
    "tags": []
   },
   "outputs": [
    {
     "name": "stdout",
     "output_type": "stream",
     "text": [
      "test\t\t\t/test\n",
      "register_job\t\t\t/recruit/job/register\n",
      "query_job\t\t\t/recruit/job/query\n",
      "register_account\t\t\t/recruit/account/register\n",
      "query_account\t\t\t/recruit/account/query\n",
      "fetch_task\t\t\t/recruit/account/task/fetch\n",
      "report_task\t\t\t/recruit/account/task/report\n",
      "filter_candidate\t\t\t/recruit/candidate/filter\n",
      "chat_candidate\t\t\t/recruit/candidate/chat\n",
      "result_candidate\t\t\t/recruit/candidate/result\n"
     ]
    }
   ],
   "source": [
    "api_dict = {}\n",
    "for api in api_list:\n",
    "    sp = api[1:].split('/')\n",
    "    api_key = sp[-1]\n",
    "    if len(sp)>1:\n",
    "        api_key+=f'_{sp[-2]}'\n",
    "    api_dict[api_key]=api\n",
    "    print(f'{api_key}\\t\\t\\t{api}')"
   ]
  },
  {
   "cell_type": "markdown",
   "id": "d8d5c878-c4f3-4065-9c36-d3c3276b1cab",
   "metadata": {},
   "source": [
    "## job op"
   ]
  },
  {
   "cell_type": "code",
   "execution_count": 43,
   "id": "004f0a5e-7e12-4298-856b-5418aca43066",
   "metadata": {
    "tags": []
   },
   "outputs": [
    {
     "data": {
      "text/plain": [
       "'{\"ret\": 0, \"msg\": \"success\", \"data\": {\"jobID\": \"job_Boss_minsheng-kefu-manual-id\"}}'"
      ]
     },
     "execution_count": 43,
     "metadata": {},
     "output_type": "execute_result"
    }
   ],
   "source": [
    "r = requests.post(url+api_dict['register_job'],json={\n",
    "    'platformType': 'Boss',\n",
    "    'platformID': 'minsheng-kefu-manual-id',\n",
    "    'jobName': '民生银行-外呼客服',\n",
    "    'jd': '''银行岗位jd\n",
    "招聘公司：知名大型商业银行\n",
    "岗位名称：外呼客服\n",
    "岗位职责：通过银行外呼系统对已经使用信用卡产生消费账单的用户，让用户办理分期还款，减轻还款压力。\n",
    "岗位要求：年龄18-35周岁，大专及以上学历，普通话标准，良好的沟通表达能力\n",
    "薪资福利：综合薪资8000-20000，上不封顶，入职缴纳北京五险一金，享受法定节假日\n",
    "工作时间：早9晚6''',\n",
    "    'robotApi': '/vision/chat/receive/message/minsheng/v1'\n",
    "})\n",
    "r.text"
   ]
  },
  {
   "cell_type": "code",
   "execution_count": 44,
   "id": "3c51dd80-123c-42f5-8597-1238d64fcfbc",
   "metadata": {
    "tags": []
   },
   "outputs": [
    {
     "data": {
      "text/plain": [
       "'{\"ret\": 0, \"msg\": \"success\", \"data\": {\"jobID\": \"job_Boss_minsheng-kefu-manual-id\"}}'"
      ]
     },
     "execution_count": 44,
     "metadata": {},
     "output_type": "execute_result"
    }
   ],
   "source": [
    "r = requests.post(url+api_dict['query_job'],json={\n",
    "    'platformType': 'Boss',\n",
    "    'platformID': 'minsheng-kefu-manual-id'\n",
    "})\n",
    "r.text"
   ]
  },
  {
   "cell_type": "code",
   "execution_count": 45,
   "id": "77da84c7-ba32-47b3-89e0-28cfe233f452",
   "metadata": {
    "tags": []
   },
   "outputs": [],
   "source": [
    "job_id=\"job_Boss_minsheng-kefu-manual-id\""
   ]
  },
  {
   "cell_type": "code",
   "execution_count": 83,
   "id": "80dfbae5-da2d-46d8-8823-0fa20e20dbe0",
   "metadata": {
    "tags": []
   },
   "outputs": [
    {
     "data": {
      "text/plain": [
       "'{\"ret\": 0, \"msg\": \"success\", \"data\": {\"jobID\": \"job_Boss_unicom-kefu-manual-id\"}}'"
      ]
     },
     "execution_count": 83,
     "metadata": {},
     "output_type": "execute_result"
    }
   ],
   "source": [
    "r = requests.post(url+api_dict['register_job'],json={\n",
    "    'platformType': 'Boss',\n",
    "    'platformID': 'unicom-kefu-manual-id',\n",
    "    'jobName': '联通-客服专员',\n",
    "    'jd': '''招聘公司：知名国企\n",
    "岗位名称：客服专员\n",
    "岗位职责：负责接听热线，解答解决用户的查询、咨询和业务办理及疑难问题\n",
    "岗位要求：38岁以下，中专及以上学历，普通话标准，良好的沟通表达能力\n",
    "薪资福利：综合薪资4000-7000，入职缴纳五险一金，法定节假日三薪\n",
    "工作时间：每天8小时不加班''',\n",
    "    'robotApi': '/vision/chat/receive/message/unicom/v1'\n",
    "})\n",
    "r.text"
   ]
  },
  {
   "cell_type": "code",
   "execution_count": 84,
   "id": "8889ebe3-9229-4e25-a7e0-95dee850d3d8",
   "metadata": {
    "tags": []
   },
   "outputs": [],
   "source": [
    "shijiazhuang_job_id=\"job_Boss_unicom-kefu-manual-id\""
   ]
  },
  {
   "cell_type": "markdown",
   "id": "2cdb5dcb-b5c3-49ab-ac47-4b703a3954fe",
   "metadata": {},
   "source": [
    "## account op"
   ]
  },
  {
   "cell_type": "code",
   "execution_count": 79,
   "id": "cd5f378b-32b5-4899-b14b-70fab444948f",
   "metadata": {
    "tags": []
   },
   "outputs": [
    {
     "data": {
      "text/plain": [
       "'{\"ret\": 0, \"msg\": \"success\", \"data\": {\"accountID\": \"account_Boss_27175761\"}}'"
      ]
     },
     "execution_count": 79,
     "metadata": {},
     "output_type": "execute_result"
    }
   ],
   "source": [
    "r = requests.post(url+api_dict['register_account'],json={\n",
    "    'platformType': 'Boss',\n",
    "    'platformID': '27175761',\n",
    "    'jobs': [job_id]\n",
    "})\n",
    "r.text"
   ]
  },
  {
   "cell_type": "code",
   "execution_count": 80,
   "id": "7a38cb86-3fe4-488d-9966-4bde8766388a",
   "metadata": {
    "tags": []
   },
   "outputs": [
    {
     "data": {
      "text/plain": [
       "'{\"ret\": 0, \"msg\": \"success\", \"data\": {\"accountID\": \"account_Boss_611930762\"}}'"
      ]
     },
     "execution_count": 80,
     "metadata": {},
     "output_type": "execute_result"
    }
   ],
   "source": [
    "r = requests.post(url+api_dict['register_account'],json={\n",
    "    'platformType': 'Boss',\n",
    "    'platformID': '611930762',\n",
    "    'jobs': [job_id]\n",
    "})\n",
    "r.text"
   ]
  },
  {
   "cell_type": "code",
   "execution_count": 67,
   "id": "d6180758-c437-4903-9034-02bfd4da3278",
   "metadata": {
    "tags": []
   },
   "outputs": [
    {
     "data": {
      "text/plain": [
       "'{\"ret\": 0, \"msg\": \"success\", \"data\": {\"accountID\": \"account_Boss_611930762\"}}'"
      ]
     },
     "execution_count": 67,
     "metadata": {},
     "output_type": "execute_result"
    }
   ],
   "source": [
    "r = requests.post(url+api_dict['query_account'],json={\n",
    "    'platformType': 'Boss',\n",
    "    'platformID': '611930762',\n",
    "})\n",
    "r.text"
   ]
  },
  {
   "cell_type": "code",
   "execution_count": null,
   "id": "5e4c6d3a-b3e0-49a2-a835-bd3275663c28",
   "metadata": {},
   "outputs": [],
   "source": []
  },
  {
   "cell_type": "code",
   "execution_count": 85,
   "id": "324a6735-1883-4081-bb9e-9e8c7acf4536",
   "metadata": {
    "tags": []
   },
   "outputs": [
    {
     "data": {
      "text/plain": [
       "'{\"ret\": 0, \"msg\": \"success\", \"data\": {\"accountID\": \"account_Boss_19887133\"}}'"
      ]
     },
     "execution_count": 85,
     "metadata": {},
     "output_type": "execute_result"
    }
   ],
   "source": [
    "r = requests.post(url+api_dict['register_account'],json={\n",
    "    'platformType': 'Boss',\n",
    "    'platformID': '19887133',\n",
    "    'jobs': [shijiazhuang_job_id],\n",
    "    'desc': '陈旭彤'\n",
    "})\n",
    "r.text"
   ]
  },
  {
   "cell_type": "code",
   "execution_count": 86,
   "id": "52b43526-05f3-494b-8a18-9b6622754090",
   "metadata": {
    "tags": []
   },
   "outputs": [
    {
     "data": {
      "text/plain": [
       "'{\"ret\": 0, \"msg\": \"success\", \"data\": {\"accountID\": \"account_Boss_4431156\"}}'"
      ]
     },
     "execution_count": 86,
     "metadata": {},
     "output_type": "execute_result"
    }
   ],
   "source": [
    "r = requests.post(url+api_dict['register_account'],json={\n",
    "    'platformType': 'Boss',\n",
    "    'platformID': '4431156',\n",
    "    'jobs': [shijiazhuang_job_id],\n",
    "    'desc': '田润和'\n",
    "})\n",
    "r.text"
   ]
  },
  {
   "cell_type": "code",
   "execution_count": 62,
   "id": "75a7bee3-a572-4a51-af77-491618b02783",
   "metadata": {
    "tags": []
   },
   "outputs": [],
   "source": [
    "account_id=\"account_Boss_27175761\""
   ]
  },
  {
   "cell_type": "markdown",
   "id": "97799980-e752-4efc-ab88-cd02202fa1f8",
   "metadata": {},
   "source": [
    "## task op"
   ]
  },
  {
   "cell_type": "code",
   "execution_count": 63,
   "id": "e1243385-4bc2-4841-b8b9-5703adc2264b",
   "metadata": {
    "tags": []
   },
   "outputs": [
    {
     "data": {
      "text/plain": [
       "'{\"ret\": 0, \"msg\": \"success\", \"data\": {\"task\": [{\"jobID\": \"job_Boss_minsheng-kefu-manual-id\", \"taskType\": \"batchTouch\", \"helloSum\": 50, \"timeMount\": []}]}}'"
      ]
     },
     "execution_count": 63,
     "metadata": {},
     "output_type": "execute_result"
    }
   ],
   "source": [
    "r = requests.post(url+api_dict['fetch_task'],json={\n",
    "    'accountID': account_id,\n",
    "})\n",
    "r.text"
   ]
  },
  {
   "cell_type": "code",
   "execution_count": 64,
   "id": "79a63eba-bafb-496c-934a-f612fa98eeb9",
   "metadata": {
    "tags": []
   },
   "outputs": [
    {
     "data": {
      "text/plain": [
       "'{\"ret\": 0, \"msg\": \"success\", \"data\": {\"task\": [{\"jobID\": \"job_Boss_minsheng-kefu-manual-id\", \"taskType\": \"batchTouch\", \"helloSum\": 50, \"timeMount\": []}]}}'"
      ]
     },
     "execution_count": 64,
     "metadata": {},
     "output_type": "execute_result"
    }
   ],
   "source": [
    "r = requests.post(url+api_dict['fetch_task'],json={\n",
    "    'accountID':'account_Boss_611930762',\n",
    "})\n",
    "r.text"
   ]
  },
  {
   "cell_type": "code",
   "execution_count": 31,
   "id": "19675278-24b0-464d-bec0-cc760863a59c",
   "metadata": {
    "tags": []
   },
   "outputs": [
    {
     "data": {
      "text/plain": [
       "'{\"ret\": 0, \"msg\": \"success\", \"data\": {\"status\": \"ok\"}}'"
      ]
     },
     "execution_count": 31,
     "metadata": {},
     "output_type": "execute_result"
    }
   ],
   "source": [
    "r = requests.post(url+api_dict['report_task'],json={\n",
    "    'accountID': account_id,\n",
    "    'taskStatus': [{\n",
    "        'taskType': 'batchTouch',\n",
    "        'details': {\n",
    "            'candidateList': ['mock-589791359']\n",
    "        }\n",
    "    }]\n",
    "})\n",
    "r.text"
   ]
  },
  {
   "cell_type": "code",
   "execution_count": 55,
   "id": "75277429-95e8-4c5e-9a16-652fd138c677",
   "metadata": {
    "tags": []
   },
   "outputs": [
    {
     "data": {
      "text/plain": [
       "'{\"ret\": 0, \"msg\": \"success\", \"data\": {\"task\": [{\"helloSum\": 50, \"taskType\": \"batchTouch\", \"timeMount\": [{\"time\": \"09:00\", \"mount\": 25}, {\"time\": \"16:00\", \"mount\": 25}], \"jobID\": \"job_Boss_minsheng-kefu-manual-id\"}]}}'"
      ]
     },
     "execution_count": 55,
     "metadata": {},
     "output_type": "execute_result"
    }
   ],
   "source": [
    "r = requests.post(url+api_dict['fetch_task'],json={\n",
    "    'accountID': account_id,\n",
    "})\n",
    "r.text"
   ]
  },
  {
   "cell_type": "markdown",
   "id": "e50cbaf0-4538-47e6-88ba-f407428028dc",
   "metadata": {},
   "source": [
    "## candidate filter"
   ]
  },
  {
   "cell_type": "code",
   "execution_count": 53,
   "id": "83351a44-b335-4a12-ab92-761f0dc1d5e7",
   "metadata": {
    "tags": []
   },
   "outputs": [],
   "source": [
    "# boss_candidate_info = json.loads(open('test_candidate.json').read())\n",
    "# r = requests.post(url+api_dict['filter_candidate'],json={\n",
    "#     'accountID': account_id,\n",
    "#     'jobID': job_id,\n",
    "#     'candidateInfo': boss_candidate_info,\n",
    "    \n",
    "# })\n",
    "# r.text"
   ]
  },
  {
   "cell_type": "code",
   "execution_count": 75,
   "id": "09d9e594-0db0-4c73-be99-b1a4aceeb8bd",
   "metadata": {
    "tags": []
   },
   "outputs": [
    {
     "name": "stdout",
     "output_type": "stream",
     "text": [
      "item 66140326_周先生.json return {\"ret\": 0, \"msg\": \"success\", \"data\": {\"touch\": true}}\n",
      "item 7320825_范鹏程.json return {\"ret\": 0, \"msg\": \"success\", \"data\": {\"touch\": true}}\n",
      "item 581340655_高伟强.json return {\"ret\": 0, \"msg\": \"success\", \"data\": {\"touch\": false}}\n",
      "item 529524709_李扬.json return {\"ret\": 0, \"msg\": \"success\", \"data\": {\"touch\": true}}\n",
      "item 50728376_单子.json return {\"ret\": 0, \"msg\": \"success\", \"data\": {\"touch\": true}}\n",
      "item 550553063_刘骏.json return {\"ret\": 0, \"msg\": \"success\", \"data\": {\"touch\": false}}\n",
      "item 520885698_王佳妮.json return {\"ret\": 0, \"msg\": \"success\", \"data\": {\"touch\": false}}\n",
      "item 59025635_高女士.json return {\"ret\": 0, \"msg\": \"success\", \"data\": {\"touch\": true}}\n",
      "item 536467792_陈玉如.json return {\"ret\": 0, \"msg\": \"success\", \"data\": {\"touch\": false}}\n",
      "item 611727435_古先生.json return {\"ret\": 0, \"msg\": \"success\", \"data\": {\"touch\": false}}\n",
      "item 552518369_张银增.json return {\"ret\": 0, \"msg\": \"success\", \"data\": {\"touch\": false}}\n",
      "item 107499462_刘德龙.json return {\"ret\": 0, \"msg\": \"success\", \"data\": {\"touch\": false}}\n",
      "item 558183293_王艳苹.json return {\"ret\": 0, \"msg\": \"success\", \"data\": {\"touch\": false}}\n",
      "item 585577969_cccj.json return {\"ret\": 0, \"msg\": \"success\", \"data\": {\"touch\": false}}\n",
      "item 559933823_张雨婷.json return {\"ret\": 0, \"msg\": \"success\", \"data\": {\"touch\": false}}\n",
      "item 548696332_刘蕊.json return {\"ret\": 0, \"msg\": \"success\", \"data\": {\"touch\": false}}\n",
      "item 19600754_张女士.json return {\"ret\": 0, \"msg\": \"success\", \"data\": {\"touch\": false}}\n",
      "item 71896509_陈女士.json return {\"ret\": 0, \"msg\": \"success\", \"data\": {\"touch\": false}}\n",
      "item 66194128_盘燕兰.json return {\"ret\": 0, \"msg\": \"success\", \"data\": {\"touch\": false}}\n",
      "item 425315_宁超.json return {\"ret\": 0, \"msg\": \"success\", \"data\": {\"touch\": false}}\n",
      "item 203193673_小超芷.json return {\"ret\": 0, \"msg\": \"success\", \"data\": {\"touch\": false}}\n",
      "item 566192933_陈欣语.json return {\"ret\": 0, \"msg\": \"success\", \"data\": {\"touch\": false}}\n",
      "item 66310734_崔怀翔.json return {\"ret\": 0, \"msg\": \"success\", \"data\": {\"touch\": false}}\n",
      "item 559464952_罗靖.json return {\"ret\": 0, \"msg\": \"success\", \"data\": {\"touch\": true}}\n",
      "item 77652734_张克强.json return {\"ret\": 0, \"msg\": \"success\", \"data\": {\"touch\": false}}\n",
      "item 543618249_郎旭.json return {\"ret\": 0, \"msg\": \"success\", \"data\": {\"touch\": false}}\n",
      "item 554808229_贾婷婷.json return {\"ret\": 0, \"msg\": \"success\", \"data\": {\"touch\": false}}\n",
      "item 44620945_李明.json return {\"ret\": 0, \"msg\": \"success\", \"data\": {\"touch\": false}}\n",
      "item 519204897_郎彦春.json return {\"ret\": 0, \"msg\": \"success\", \"data\": {\"touch\": false}}\n",
      "item 601927619_张宝达.json return {\"ret\": 0, \"msg\": \"success\", \"data\": {\"touch\": false}}\n",
      "item 55668849_纪晓曼.json return {\"ret\": 0, \"msg\": \"success\", \"data\": {\"touch\": false}}\n",
      "item 67624522_蒋禹铭.json return {\"ret\": 0, \"msg\": \"success\", \"data\": {\"touch\": false}}\n",
      "item 30289697_钱女士.json return {\"ret\": 0, \"msg\": \"success\", \"data\": {\"touch\": true}}\n",
      "item 502353002_车春玲.json return {\"ret\": 0, \"msg\": \"success\", \"data\": {\"touch\": false}}\n",
      "item 48984813_步岩.json return {\"ret\": 0, \"msg\": \"success\", \"data\": {\"touch\": false}}\n",
      "item 591129707_金萍.json return {\"ret\": 0, \"msg\": \"success\", \"data\": {\"touch\": false}}\n",
      "item 121668094_付永杰.json return {\"ret\": 0, \"msg\": \"success\", \"data\": {\"touch\": true}}\n",
      "item 63437506_陈晓冬.json return {\"ret\": 0, \"msg\": \"success\", \"data\": {\"touch\": false}}\n",
      "item 551804737_张尚.json return {\"ret\": 0, \"msg\": \"success\", \"data\": {\"touch\": false}}\n",
      "item 82637829_姜欣.json return {\"ret\": 0, \"msg\": \"success\", \"data\": {\"touch\": true}}\n",
      "item 564320207_王家庆.json return {\"ret\": 0, \"msg\": \"success\", \"data\": {\"touch\": false}}\n",
      "item 553795564_赵珈妮.json return {\"ret\": 0, \"msg\": \"success\", \"data\": {\"touch\": true}}\n",
      "item 504160977_祝金硕.json return {\"ret\": 0, \"msg\": \"success\", \"data\": {\"touch\": false}}\n",
      "item 98879182_张豪.json return {\"ret\": 0, \"msg\": \"success\", \"data\": {\"touch\": true}}\n",
      "item 542055947_小旺.json return {\"ret\": 0, \"msg\": \"success\", \"data\": {\"touch\": false}}\n",
      "item 609788502_要怡肖.json return {\"ret\": 0, \"msg\": \"success\", \"data\": {\"touch\": true}}\n",
      "item 303177_洪军阳.json return {\"ret\": 0, \"msg\": \"success\", \"data\": {\"touch\": false}}\n",
      "item 580735942_李明泽.json return {\"ret\": 0, \"msg\": \"success\", \"data\": {\"touch\": false}}\n",
      "item 71689872_马女士.json return {\"ret\": 0, \"msg\": \"success\", \"data\": {\"touch\": false}}\n",
      "item 6803577_任杰.json return {\"ret\": 0, \"msg\": \"success\", \"data\": {\"touch\": true}}\n",
      "item 607466196_信雪巍.json return {\"ret\": 0, \"msg\": \"success\", \"data\": {\"touch\": false}}\n",
      "item 33600738_胡静.json return {\"ret\": 0, \"msg\": \"success\", \"data\": {\"touch\": false}}\n",
      "item 607108604_小武.json return {\"ret\": 0, \"msg\": \"success\", \"data\": {\"touch\": true}}\n",
      "item 117722976_陈培.json return {\"ret\": 0, \"msg\": \"success\", \"data\": {\"touch\": false}}\n",
      "item 611062808_崔东虎.json return {\"ret\": 0, \"msg\": \"success\", \"data\": {\"touch\": false}}\n",
      "item 577214058_刘颜汐.json return {\"ret\": 0, \"msg\": \"success\", \"data\": {\"touch\": true}}\n",
      "item 64532849_王女士.json return {\"ret\": 0, \"msg\": \"success\", \"data\": {\"touch\": false}}\n",
      "item 515323198_李迎.json return {\"ret\": 0, \"msg\": \"success\", \"data\": {\"touch\": false}}\n",
      "item 547005929_郭利军.json return {\"ret\": 0, \"msg\": \"success\", \"data\": {\"touch\": false}}\n",
      "item 511955538_张立臣.json return {\"ret\": 0, \"msg\": \"success\", \"data\": {\"touch\": true}}\n",
      "item 210576262_李艳霞.json return {\"ret\": 0, \"msg\": \"success\", \"data\": {\"touch\": false}}\n",
      "item 526594843_冯贺威.json return {\"ret\": 0, \"msg\": \"success\", \"data\": {\"touch\": false}}\n",
      "item 117826352_程娅.json return {\"ret\": 0, \"msg\": \"success\", \"data\": {\"touch\": true}}\n",
      "item 48313267_樊荣.json return {\"ret\": 0, \"msg\": \"success\", \"data\": {\"touch\": false}}\n",
      "item 551181753_汲亚超.json return {\"ret\": 0, \"msg\": \"success\", \"data\": {\"touch\": false}}\n",
      "item 604872659_周阳阳.json return {\"ret\": 0, \"msg\": \"success\", \"data\": {\"touch\": false}}\n",
      "item 547033855_于洪达.json return {\"ret\": 0, \"msg\": \"success\", \"data\": {\"touch\": false}}\n",
      "item 11902887_杜璟燚.json return {\"ret\": 0, \"msg\": \"success\", \"data\": {\"touch\": false}}\n"
     ]
    }
   ],
   "source": [
    "import glob\n",
    "for item in glob.glob('*.json'):\n",
    "    boss_candidate_info = json.loads(open(item).read())\n",
    "    r = requests.post(url+api_dict['filter_candidate'],json={\n",
    "        'accountID': 'account_Boss_611930762',\n",
    "        'candidateInfo': boss_candidate_info\n",
    "    })\n",
    "    print(f'item {item} return {r.text}')"
   ]
  },
  {
   "cell_type": "code",
   "execution_count": 77,
   "id": "c874c92b-5e17-4179-b133-8a0d08065db3",
   "metadata": {
    "scrolled": true,
    "tags": []
   },
   "outputs": [
    {
     "name": "stdout",
     "output_type": "stream",
     "text": [
      "item ../success/110901299_张坤.json return {\"ret\": 0, \"msg\": \"success\", \"data\": {\"touch\": false}}\n",
      "item ../success/549282385_赵雪华.json return {\"ret\": 0, \"msg\": \"success\", \"data\": {\"touch\": true}}\n",
      "item ../success/42038072_蒋静茹.json return {\"ret\": 0, \"msg\": \"success\", \"data\": {\"touch\": false}}\n",
      "item ../success/44820815_王婷.json return {\"ret\": 0, \"msg\": \"success\", \"data\": {\"touch\": false}}\n",
      "item ../success/611378388_李立根.json return {\"ret\": 0, \"msg\": \"success\", \"data\": {\"touch\": true}}\n",
      "item ../success/114252114_王子涵.json return {\"ret\": 0, \"msg\": \"success\", \"data\": {\"touch\": false}}\n",
      "item ../success/518626987_赵玉亮.json return {\"ret\": 0, \"msg\": \"success\", \"data\": {\"touch\": false}}\n",
      "item ../success/598295714_陆禹彤.json return {\"ret\": 0, \"msg\": \"success\", \"data\": {\"touch\": false}}\n",
      "item ../success/205972415_朱睿.json return {\"ret\": 0, \"msg\": \"success\", \"data\": {\"touch\": false}}\n",
      "item ../success/554846108_刘宵圆.json return {\"ret\": 0, \"msg\": \"success\", \"data\": {\"touch\": true}}\n",
      "item ../success/30750296_李镔钰.json return {\"ret\": 0, \"msg\": \"success\", \"data\": {\"touch\": false}}\n",
      "item ../success/49328824_樊子杰.json return {\"ret\": 0, \"msg\": \"success\", \"data\": {\"touch\": true}}\n",
      "item ../success/568089795_徐小会.json return {\"ret\": 0, \"msg\": \"success\", \"data\": {\"touch\": false}}\n",
      "item ../success/597236415_黄莉.json return {\"ret\": 0, \"msg\": \"success\", \"data\": {\"touch\": false}}\n",
      "item ../success/105344545_张云启.json return {\"ret\": 0, \"msg\": \"success\", \"data\": {\"touch\": false}}\n",
      "item ../success/61111532_王熠.json return {\"ret\": 0, \"msg\": \"success\", \"data\": {\"touch\": false}}\n",
      "item ../success/28666438_孟欣.json return {\"ret\": 0, \"msg\": \"success\", \"data\": {\"touch\": false}}\n",
      "item ../success/45166846_陈润杰.json return {\"ret\": 0, \"msg\": \"success\", \"data\": {\"touch\": false}}\n",
      "item ../success/602574005_许龙.json return {\"ret\": 0, \"msg\": \"success\", \"data\": {\"touch\": false}}\n",
      "item ../success/516418816_张先生.json return {\"ret\": 0, \"msg\": \"success\", \"data\": {\"touch\": true}}\n",
      "item ../success/1243366_沈先生.json return {\"ret\": 0, \"msg\": \"success\", \"data\": {\"touch\": false}}\n",
      "item ../success/42830524_郑宏鹏.json return {\"ret\": 0, \"msg\": \"success\", \"data\": {\"touch\": true}}\n",
      "item ../success/78882512_韩思雨.json return {\"ret\": 0, \"msg\": \"success\", \"data\": {\"touch\": false}}\n",
      "item ../success/510155085_王鹏超.json return {\"ret\": 0, \"msg\": \"success\", \"data\": {\"touch\": false}}\n",
      "item ../success/523006107_孙秋月.json return {\"ret\": 0, \"msg\": \"success\", \"data\": {\"touch\": false}}\n",
      "item ../success/6669783_李兢兢.json return {\"ret\": 0, \"msg\": \"success\", \"data\": {\"touch\": false}}\n",
      "item ../success/504701788_杨会芳.json return {\"ret\": 0, \"msg\": \"success\", \"data\": {\"touch\": false}}\n",
      "item ../success/531809946_邱哈哈.json return {\"ret\": 0, \"msg\": \"success\", \"data\": {\"touch\": false}}\n",
      "item ../success/596704402_张雨婷.json return {\"ret\": 0, \"msg\": \"success\", \"data\": {\"touch\": false}}\n",
      "item ../success/35422759_海悦.json return {\"ret\": 0, \"msg\": \"success\", \"data\": {\"touch\": true}}\n",
      "item ../success/522049176_psyche.json return {\"ret\": 0, \"msg\": \"success\", \"data\": {\"touch\": false}}\n",
      "item ../success/561008642_成兴慧.json return {\"ret\": 0, \"msg\": \"success\", \"data\": {\"touch\": false}}\n",
      "item ../success/565013066_李晓航.json return {\"ret\": 0, \"msg\": \"success\", \"data\": {\"touch\": false}}\n",
      "item ../success/40336546_李卫杰.json return {\"ret\": 0, \"msg\": \"success\", \"data\": {\"touch\": false}}\n",
      "item ../success/504953593_abby.json return {\"ret\": 0, \"msg\": \"success\", \"data\": {\"touch\": true}}\n",
      "item ../success/5636064_崔立新.json return {\"ret\": 0, \"msg\": \"success\", \"data\": {\"touch\": false}}\n",
      "item ../success/102688868_齐国庆.json return {\"ret\": 0, \"msg\": \"success\", \"data\": {\"touch\": false}}\n",
      "item ../success/574899565_魏女士.json return {\"ret\": 0, \"msg\": \"success\", \"data\": {\"touch\": false}}\n",
      "item ../success/49483325_赵忠义.json return {\"ret\": 0, \"msg\": \"success\", \"data\": {\"touch\": true}}\n",
      "item ../success/94865512_园园.json return {\"ret\": 0, \"msg\": \"success\", \"data\": {\"touch\": false}}\n",
      "item ../success/574689616_陈英君.json return {\"ret\": 0, \"msg\": \"success\", \"data\": {\"touch\": false}}\n",
      "item ../success/553923996_周明.json return {\"ret\": 0, \"msg\": \"success\", \"data\": {\"touch\": false}}\n",
      "item ../success/553632234_李女士.json return {\"ret\": 0, \"msg\": \"success\", \"data\": {\"touch\": false}}\n",
      "item ../success/121361606_刘志文.json return {\"ret\": 0, \"msg\": \"success\", \"data\": {\"touch\": false}}\n",
      "item ../success/594911866_宋薇.json return {\"ret\": 0, \"msg\": \"success\", \"data\": {\"touch\": false}}\n",
      "item ../success/595213064_寇峻豪.json return {\"ret\": 0, \"msg\": \"success\", \"data\": {\"touch\": false}}\n",
      "item ../success/98834066_朱宇涵.json return {\"ret\": 0, \"msg\": \"success\", \"data\": {\"touch\": true}}\n",
      "item ../success/535711355_柯莎莎.json return {\"ret\": 0, \"msg\": \"success\", \"data\": {\"touch\": false}}\n",
      "item ../success/26130989_冯军.json return {\"ret\": 0, \"msg\": \"success\", \"data\": {\"touch\": false}}\n",
      "item ../success/70749892_陈炫蓉.json return {\"ret\": 0, \"msg\": \"success\", \"data\": {\"touch\": false}}\n",
      "item ../success/526898769_邱虹瑞.json return {\"ret\": 0, \"msg\": \"success\", \"data\": {\"touch\": false}}\n",
      "item ../success/37656724_徐晓洁.json return {\"ret\": 0, \"msg\": \"success\", \"data\": {\"touch\": false}}\n",
      "item ../success/21558098_施柏卉.json return {\"ret\": 0, \"msg\": \"success\", \"data\": {\"touch\": false}}\n",
      "item ../success/546714568_金子一.json return {\"ret\": 0, \"msg\": \"success\", \"data\": {\"touch\": false}}\n",
      "item ../success/602153922_侯亚朋.json return {\"ret\": 0, \"msg\": \"success\", \"data\": {\"touch\": true}}\n",
      "item ../success/558630053_刘丽丽.json return {\"ret\": 0, \"msg\": \"success\", \"data\": {\"touch\": false}}\n",
      "item ../success/611756302_张凯.json return {\"ret\": 0, \"msg\": \"success\", \"data\": {\"touch\": false}}\n",
      "item ../success/11894888_刘晓君.json return {\"ret\": 0, \"msg\": \"success\", \"data\": {\"touch\": false}}\n",
      "item ../success/20729702_王维.json return {\"ret\": 0, \"msg\": \"success\", \"data\": {\"touch\": false}}\n",
      "item ../success/35882092_王鑫.json return {\"ret\": 0, \"msg\": \"success\", \"data\": {\"touch\": false}}\n",
      "item ../success/573606098_崔雪峰.json return {\"ret\": 0, \"msg\": \"success\", \"data\": {\"touch\": false}}\n",
      "item ../success/541911458_任洪鹍.json return {\"ret\": 0, \"msg\": \"success\", \"data\": {\"touch\": false}}\n",
      "item ../success/516261107_许亚格.json return {\"ret\": 0, \"msg\": \"success\", \"data\": {\"touch\": false}}\n",
      "item ../success/575725987_王红玉.json return {\"ret\": 0, \"msg\": \"success\", \"data\": {\"touch\": false}}\n",
      "item ../success/553334266_张亚爽.json return {\"ret\": 0, \"msg\": \"success\", \"data\": {\"touch\": false}}\n",
      "item ../success/29755773_白隽仪.json return {\"ret\": 0, \"msg\": \"success\", \"data\": {\"touch\": false}}\n",
      "item ../success/19492755_许亮.json return {\"ret\": 0, \"msg\": \"success\", \"data\": {\"touch\": false}}\n",
      "item ../success/593001467_曹泽宇.json return {\"ret\": 0, \"msg\": \"success\", \"data\": {\"touch\": true}}\n",
      "item ../success/64196027_小李.json return {\"ret\": 0, \"msg\": \"success\", \"data\": {\"touch\": true}}\n",
      "item ../success/590408485_baygod.json return {\"ret\": 0, \"msg\": \"success\", \"data\": {\"touch\": false}}\n",
      "item ../success/7314695_武佳文.json return {\"ret\": 0, \"msg\": \"success\", \"data\": {\"touch\": true}}\n",
      "item ../success/49038778_麻墨缘.json return {\"ret\": 0, \"msg\": \"success\", \"data\": {\"touch\": false}}\n",
      "item ../success/543281145_王含冰.json return {\"ret\": 0, \"msg\": \"success\", \"data\": {\"touch\": true}}\n",
      "item ../success/69155524_张女士.json return {\"ret\": 0, \"msg\": \"success\", \"data\": {\"touch\": false}}\n",
      "item ../success/569838156_白雪.json return {\"ret\": 0, \"msg\": \"success\", \"data\": {\"touch\": false}}\n",
      "item ../success/124307217_李增勇.json return {\"ret\": 0, \"msg\": \"success\", \"data\": {\"touch\": false}}\n",
      "item ../success/45042996_李娇阳.json return {\"ret\": 0, \"msg\": \"success\", \"data\": {\"touch\": false}}\n",
      "item ../success/589303158_李XM.json return {\"ret\": 0, \"msg\": \"success\", \"data\": {\"touch\": false}}\n",
      "item ../success/6891108_杨巨琨.json return {\"ret\": 0, \"msg\": \"success\", \"data\": {\"touch\": false}}\n",
      "item ../success/67874319_代进.json return {\"ret\": 0, \"msg\": \"success\", \"data\": {\"touch\": false}}\n",
      "item ../success/593625726_崔靖雯.json return {\"ret\": 0, \"msg\": \"success\", \"data\": {\"touch\": false}}\n",
      "item ../success/611641919_乔欣昊.json return {\"ret\": 0, \"msg\": \"success\", \"data\": {\"touch\": false}}\n",
      "item ../success/557119223_张佳.json return {\"ret\": 0, \"msg\": \"success\", \"data\": {\"touch\": false}}\n",
      "item ../success/76585416_都书辉.json return {\"ret\": 0, \"msg\": \"success\", \"data\": {\"touch\": false}}\n",
      "item ../success/61495118_谢震有.json return {\"ret\": 0, \"msg\": \"success\", \"data\": {\"touch\": false}}\n",
      "item ../success/21803045_陈玉瑶.json return {\"ret\": 0, \"msg\": \"success\", \"data\": {\"touch\": true}}\n",
      "item ../success/53884845_武岩冰.json return {\"ret\": 0, \"msg\": \"success\", \"data\": {\"touch\": false}}\n",
      "item ../success/48149702_王恒.json return {\"ret\": 0, \"msg\": \"success\", \"data\": {\"touch\": false}}\n",
      "item ../success/102150497_闫鑫煜.json return {\"ret\": 0, \"msg\": \"success\", \"data\": {\"touch\": false}}\n",
      "item ../success/525185276_李杨烂.json return {\"ret\": 0, \"msg\": \"success\", \"data\": {\"touch\": false}}\n",
      "item ../success/20163152_徐凤琦.json return {\"ret\": 0, \"msg\": \"success\", \"data\": {\"touch\": false}}\n",
      "item ../success/552144159_王威.json return {\"ret\": 0, \"msg\": \"success\", \"data\": {\"touch\": false}}\n",
      "item ../success/509498435_冯一鹏.json return {\"ret\": 0, \"msg\": \"success\", \"data\": {\"touch\": false}}\n",
      "item ../success/523383798_韦芬莲.json return {\"ret\": 0, \"msg\": \"success\", \"data\": {\"touch\": false}}\n",
      "item ../success/605116866_李婧.json return {\"ret\": 0, \"msg\": \"success\", \"data\": {\"touch\": true}}\n",
      "item ../success/596492822_张梦瑶.json return {\"ret\": 0, \"msg\": \"success\", \"data\": {\"touch\": true}}\n",
      "item ../success/557029908_刘丹.json return {\"ret\": 0, \"msg\": \"success\", \"data\": {\"touch\": true}}\n",
      "item ../success/36691085_李东梅.json return {\"ret\": 0, \"msg\": \"success\", \"data\": {\"touch\": false}}\n",
      "item ../success/589820655_Cindy.json return {\"ret\": 0, \"msg\": \"success\", \"data\": {\"touch\": false}}\n",
      "item ../success/43353514_周文嫣.json return {\"ret\": 0, \"msg\": \"success\", \"data\": {\"touch\": true}}\n",
      "item ../success/96410938_阿力木.json return {\"ret\": 0, \"msg\": \"success\", \"data\": {\"touch\": false}}\n",
      "item ../success/613340807_瑞瑞.json return {\"ret\": 0, \"msg\": \"success\", \"data\": {\"touch\": false}}\n",
      "item ../success/42454317_李女士.json return {\"ret\": 0, \"msg\": \"success\", \"data\": {\"touch\": false}}\n",
      "item ../success/59945302_姗姗.json return {\"ret\": 0, \"msg\": \"success\", \"data\": {\"touch\": true}}\n",
      "item ../success/612705504_孙世杰.json return {\"ret\": 0, \"msg\": \"success\", \"data\": {\"touch\": false}}\n",
      "item ../success/91940165_鞠梦雅.json return {\"ret\": 0, \"msg\": \"success\", \"data\": {\"touch\": false}}\n",
      "item ../success/575407233_王丽丽.json return {\"ret\": 0, \"msg\": \"success\", \"data\": {\"touch\": false}}\n",
      "item ../success/578737155_薛先生.json return {\"ret\": 0, \"msg\": \"success\", \"data\": {\"touch\": true}}\n",
      "item ../success/215362127_刘利贤.json return {\"ret\": 0, \"msg\": \"success\", \"data\": {\"touch\": false}}\n",
      "item ../success/114507639_和女士.json return {\"ret\": 0, \"msg\": \"success\", \"data\": {\"touch\": false}}\n",
      "item ../success/527913832_侯彦鑫.json return {\"ret\": 0, \"msg\": \"success\", \"data\": {\"touch\": true}}\n",
      "item ../success/613528054_罗珊珊.json return {\"ret\": 0, \"msg\": \"success\", \"data\": {\"touch\": true}}\n",
      "item ../success/515149398_宏斌.json return {\"ret\": 0, \"msg\": \"success\", \"data\": {\"touch\": false}}\n",
      "item ../success/72846032_韩耀亮.json return {\"ret\": 0, \"msg\": \"success\", \"data\": {\"touch\": false}}\n",
      "item ../success/604580837_任瑞改.json return {\"ret\": 0, \"msg\": \"success\", \"data\": {\"touch\": false}}\n",
      "item ../success/539573136_戴士鑫.json return {\"ret\": 0, \"msg\": \"success\", \"data\": {\"touch\": false}}\n",
      "item ../success/613822212_李典.json return {\"ret\": 0, \"msg\": \"success\", \"data\": {\"touch\": false}}\n",
      "item ../success/26639365_杨景瑞.json return {\"ret\": 0, \"msg\": \"success\", \"data\": {\"touch\": false}}\n",
      "item ../success/555114666_王女士.json return {\"ret\": 0, \"msg\": \"success\", \"data\": {\"touch\": true}}\n",
      "item ../success/32545054_沐森.json return {\"ret\": 0, \"msg\": \"success\", \"data\": {\"touch\": false}}\n",
      "item ../success/562025835_孙广鹏.json return {\"ret\": 0, \"msg\": \"success\", \"data\": {\"touch\": true}}\n",
      "item ../success/59224369_王金鹏.json return {\"ret\": 0, \"msg\": \"success\", \"data\": {\"touch\": false}}\n",
      "item ../success/516971975_张迪.json return {\"ret\": 0, \"msg\": \"success\", \"data\": {\"touch\": true}}\n",
      "item ../success/573831543_金广日.json return {\"ret\": 0, \"msg\": \"success\", \"data\": {\"touch\": false}}\n",
      "item ../success/553058614_靳明雪.json return {\"ret\": 0, \"msg\": \"success\", \"data\": {\"touch\": true}}\n",
      "item ../success/7300805_林楠.json return {\"ret\": 0, \"msg\": \"success\", \"data\": {\"touch\": true}}\n",
      "item ../success/559518459_伊海富.json return {\"ret\": 0, \"msg\": \"success\", \"data\": {\"touch\": true}}\n",
      "item ../success/563047936_孙女士.json return {\"ret\": 0, \"msg\": \"success\", \"data\": {\"touch\": false}}\n",
      "item ../success/41390575_余春东.json return {\"ret\": 0, \"msg\": \"success\", \"data\": {\"touch\": false}}\n",
      "item ../success/111500214_王丹丹.json return {\"ret\": 0, \"msg\": \"success\", \"data\": {\"touch\": false}}\n",
      "item ../success/31331146_牛歌.json return {\"ret\": 0, \"msg\": \"success\", \"data\": {\"touch\": false}}\n",
      "item ../success/569706143_包振坤.json return {\"ret\": 0, \"msg\": \"success\", \"data\": {\"touch\": false}}\n",
      "item ../success/112536576_张先生.json return {\"ret\": 0, \"msg\": \"success\", \"data\": {\"touch\": true}}\n",
      "item ../success/607717799_MD MOSTOFA KAMAL.json return {\"ret\": 0, \"msg\": \"success\", \"data\": {\"touch\": true}}\n",
      "item ../success/613828414_陈欣.json return {\"ret\": 0, \"msg\": \"success\", \"data\": {\"touch\": false}}\n",
      "item ../success/583115203_张岩.json return {\"ret\": 0, \"msg\": \"success\", \"data\": {\"touch\": true}}\n",
      "item ../success/532126238_徐子健.json return {\"ret\": 0, \"msg\": \"success\", \"data\": {\"touch\": false}}\n",
      "item ../success/605253749_飞飞.json return {\"ret\": 0, \"msg\": \"success\", \"data\": {\"touch\": false}}\n",
      "item ../success/594091577_李想.json return {\"ret\": 0, \"msg\": \"success\", \"data\": {\"touch\": false}}\n",
      "item ../success/612182207_闫鹏辉.json return {\"ret\": 0, \"msg\": \"success\", \"data\": {\"touch\": false}}\n",
      "item ../success/595285892_王完梁.json return {\"ret\": 0, \"msg\": \"success\", \"data\": {\"touch\": false}}\n",
      "item ../success/119627294_郭帅.json return {\"ret\": 0, \"msg\": \"success\", \"data\": {\"touch\": false}}\n",
      "item ../success/82639767_刘冰.json return {\"ret\": 0, \"msg\": \"success\", \"data\": {\"touch\": false}}\n",
      "item ../success/603657616_董天奥.json return {\"ret\": 0, \"msg\": \"success\", \"data\": {\"touch\": false}}\n",
      "item ../success/37915315_韩佳轩.json return {\"ret\": 0, \"msg\": \"success\", \"data\": {\"touch\": false}}\n",
      "item ../success/96724576_牟琳.json return {\"ret\": 0, \"msg\": \"success\", \"data\": {\"touch\": false}}\n",
      "item ../success/112850549_祝新.json return {\"ret\": 0, \"msg\": \"success\", \"data\": {\"touch\": false}}\n",
      "item ../success/55842597_卫卫.json return {\"ret\": 0, \"msg\": \"success\", \"data\": {\"touch\": false}}\n",
      "item ../success/578237426_陈雪.json return {\"ret\": 0, \"msg\": \"success\", \"data\": {\"touch\": false}}\n",
      "item ../success/549446243_赵女士.json return {\"ret\": 0, \"msg\": \"success\", \"data\": {\"touch\": true}}\n",
      "item ../success/557275896_祝爽.json return {\"ret\": 0, \"msg\": \"success\", \"data\": {\"touch\": false}}\n",
      "item ../success/562165307_杨忠于.json return {\"ret\": 0, \"msg\": \"success\", \"data\": {\"touch\": true}}\n",
      "item ../success/56127222_杨子宣.json return {\"ret\": 0, \"msg\": \"success\", \"data\": {\"touch\": true}}\n",
      "item ../success/608114624_马卓.json return {\"ret\": 0, \"msg\": \"success\", \"data\": {\"touch\": false}}\n",
      "item ../success/595119859_王志宁.json return {\"ret\": 0, \"msg\": \"success\", \"data\": {\"touch\": false}}\n",
      "item ../success/70237762_王晓可.json return {\"ret\": 0, \"msg\": \"success\", \"data\": {\"touch\": false}}\n",
      "item ../success/594785597_何传奥.json return {\"ret\": 0, \"msg\": \"success\", \"data\": {\"touch\": false}}\n",
      "item ../success/578178926_刘思妙.json return {\"ret\": 0, \"msg\": \"success\", \"data\": {\"touch\": false}}\n",
      "item ../success/64276854_汪晓琦.json return {\"ret\": 0, \"msg\": \"success\", \"data\": {\"touch\": false}}\n",
      "item ../success/500172449_QMXY.json return {\"ret\": 0, \"msg\": \"success\", \"data\": {\"touch\": false}}\n",
      "item ../success/558874814_潘菊.json return {\"ret\": 0, \"msg\": \"success\", \"data\": {\"touch\": false}}\n",
      "item ../success/20336317_阿珊.json return {\"ret\": 0, \"msg\": \"success\", \"data\": {\"touch\": true}}\n",
      "item ../success/49601673_李先生.json return {\"ret\": 0, \"msg\": \"success\", \"data\": {\"touch\": true}}\n",
      "item ../success/5272018_杨东尼亚.json return {\"ret\": 0, \"msg\": \"success\", \"data\": {\"touch\": true}}\n",
      "item ../success/591040836_好多鱼.json return {\"ret\": 0, \"msg\": \"success\", \"data\": {\"touch\": false}}\n",
      "item ../success/612855154_鲁晓.json return {\"ret\": 0, \"msg\": \"success\", \"data\": {\"touch\": true}}\n",
      "item ../success/608549336_栾蓝.json return {\"ret\": 0, \"msg\": \"success\", \"data\": {\"touch\": false}}\n",
      "item ../success/47023583_王先生.json return {\"ret\": 0, \"msg\": \"success\", \"data\": {\"touch\": false}}\n",
      "item ../success/590869934_叶云.json return {\"ret\": 0, \"msg\": \"success\", \"data\": {\"touch\": false}}\n",
      "item ../success/605910293_张培源.json return {\"ret\": 0, \"msg\": \"success\", \"data\": {\"touch\": false}}\n",
      "item ../success/592232197_杨鑫君.json return {\"ret\": 0, \"msg\": \"success\", \"data\": {\"touch\": false}}\n",
      "item ../success/48758506_谢想平.json return {\"ret\": 0, \"msg\": \"success\", \"data\": {\"touch\": false}}\n",
      "item ../success/584801459_李彪.json return {\"ret\": 0, \"msg\": \"success\", \"data\": {\"touch\": true}}\n",
      "item ../success/26897568_崔彦龙.json return {\"ret\": 0, \"msg\": \"success\", \"data\": {\"touch\": false}}\n",
      "item ../success/6134777_关真子.json return {\"ret\": 0, \"msg\": \"success\", \"data\": {\"touch\": false}}\n",
      "item ../success/529423898_姜辰.json return {\"ret\": 0, \"msg\": \"success\", \"data\": {\"touch\": true}}\n",
      "item ../success/62027457_吕天勇.json return {\"ret\": 0, \"msg\": \"success\", \"data\": {\"touch\": false}}\n",
      "item ../success/30054305_赵景微.json return {\"ret\": 0, \"msg\": \"success\", \"data\": {\"touch\": false}}\n",
      "item ../success/613033987_史文博.json return {\"ret\": 0, \"msg\": \"success\", \"data\": {\"touch\": false}}\n",
      "item ../success/543189793_谷旭东.json return {\"ret\": 0, \"msg\": \"success\", \"data\": {\"touch\": false}}\n",
      "item ../success/54708548_张蕊.json return {\"ret\": 0, \"msg\": \"success\", \"data\": {\"touch\": false}}\n",
      "item ../success/529098728_曹世文.json return {\"ret\": 0, \"msg\": \"success\", \"data\": {\"touch\": true}}\n",
      "item ../success/589750537_包蕾.json return {\"ret\": 0, \"msg\": \"success\", \"data\": {\"touch\": false}}\n",
      "item ../success/113762172_籽怡.json return {\"ret\": 0, \"msg\": \"success\", \"data\": {\"touch\": false}}\n",
      "item ../success/12957405_昌燕娜.json return {\"ret\": 0, \"msg\": \"success\", \"data\": {\"touch\": false}}\n",
      "item ../success/509796843_闫硕.json return {\"ret\": 0, \"msg\": \"success\", \"data\": {\"touch\": false}}\n",
      "item ../success/549387918_黄凯.json return {\"ret\": 0, \"msg\": \"success\", \"data\": {\"touch\": false}}\n",
      "item ../success/602971898_彭璐华.json return {\"ret\": 0, \"msg\": \"success\", \"data\": {\"touch\": false}}\n",
      "item ../success/612585773_于红彪.json return {\"ret\": 0, \"msg\": \"success\", \"data\": {\"touch\": true}}\n",
      "item ../success/35449733_陈城程.json return {\"ret\": 0, \"msg\": \"success\", \"data\": {\"touch\": false}}\n",
      "item ../success/513036208_黄冠捷.json return {\"ret\": 0, \"msg\": \"success\", \"data\": {\"touch\": false}}\n",
      "item ../success/576253188_莘佳文.json return {\"ret\": 0, \"msg\": \"success\", \"data\": {\"touch\": false}}\n",
      "item ../success/548636896_李金娟.json return {\"ret\": 0, \"msg\": \"success\", \"data\": {\"touch\": true}}\n",
      "item ../success/556557358_李丹.json return {\"ret\": 0, \"msg\": \"success\", \"data\": {\"touch\": false}}\n",
      "item ../success/528328712_张昊.json return {\"ret\": 0, \"msg\": \"success\", \"data\": {\"touch\": false}}\n",
      "item ../success/546136906_艾雨.json return {\"ret\": 0, \"msg\": \"success\", \"data\": {\"touch\": false}}\n",
      "item ../success/557263637_费春娇.json return {\"ret\": 0, \"msg\": \"success\", \"data\": {\"touch\": true}}\n",
      "item ../success/204542533_王艳琳.json return {\"ret\": 0, \"msg\": \"success\", \"data\": {\"touch\": false}}\n",
      "item ../success/561788377_黄薇.json return {\"ret\": 0, \"msg\": \"success\", \"data\": {\"touch\": false}}\n",
      "item ../success/586547866_李飞.json return {\"ret\": 0, \"msg\": \"success\", \"data\": {\"touch\": false}}\n",
      "item ../success/612062306_贾须森.json return {\"ret\": 0, \"msg\": \"success\", \"data\": {\"touch\": true}}\n",
      "item ../success/214783873_徐晓敏.json return {\"ret\": 0, \"msg\": \"success\", \"data\": {\"touch\": false}}\n",
      "item ../success/588358992_庞宇洋.json return {\"ret\": 0, \"msg\": \"success\", \"data\": {\"touch\": true}}\n",
      "item ../success/576057243_李冬阳.json return {\"ret\": 0, \"msg\": \"success\", \"data\": {\"touch\": true}}\n",
      "item ../success/576817509_及至昊.json return {\"ret\": 0, \"msg\": \"success\", \"data\": {\"touch\": false}}\n",
      "item ../success/580637817_冷浩楠.json return {\"ret\": 0, \"msg\": \"success\", \"data\": {\"touch\": true}}\n",
      "item ../success/613382844_傅景玥.json return {\"ret\": 0, \"msg\": \"success\", \"data\": {\"touch\": true}}\n",
      "item ../success/51977147_尹梦苗.json return {\"ret\": 0, \"msg\": \"success\", \"data\": {\"touch\": false}}\n",
      "item ../success/549897904_杨慧婷.json return {\"ret\": 0, \"msg\": \"success\", \"data\": {\"touch\": false}}\n",
      "item ../success/113987975_王楚迪.json return {\"ret\": 0, \"msg\": \"success\", \"data\": {\"touch\": false}}\n",
      "item ../success/102274589_王学红.json return {\"ret\": 0, \"msg\": \"success\", \"data\": {\"touch\": true}}\n",
      "item ../success/583344213_苏珊.json return {\"ret\": 0, \"msg\": \"success\", \"data\": {\"touch\": false}}\n",
      "item ../success/110899963_王震.json return {\"ret\": 0, \"msg\": \"success\", \"data\": {\"touch\": false}}\n",
      "item ../success/26312459_阿曲.json return {\"ret\": 0, \"msg\": \"success\", \"data\": {\"touch\": false}}\n",
      "item ../success/113160447_王颖.json return {\"ret\": 0, \"msg\": \"success\", \"data\": {\"touch\": false}}\n",
      "item ../success/545739099_杜子龙.json return {\"ret\": 0, \"msg\": \"success\", \"data\": {\"touch\": false}}\n",
      "item ../success/67706636_姚义航.json return {\"ret\": 0, \"msg\": \"success\", \"data\": {\"touch\": false}}\n",
      "item ../success/36544018_周浩.json return {\"ret\": 0, \"msg\": \"success\", \"data\": {\"touch\": true}}\n",
      "item ../success/73230729_由娜.json return {\"ret\": 0, \"msg\": \"success\", \"data\": {\"touch\": false}}\n",
      "item ../success/68881229_郑泽宇.json return {\"ret\": 0, \"msg\": \"success\", \"data\": {\"touch\": false}}\n",
      "item ../success/528951153_赵林杰.json return {\"ret\": 0, \"msg\": \"success\", \"data\": {\"touch\": false}}\n",
      "item ../success/564849915_唐阁.json return {\"ret\": 0, \"msg\": \"success\", \"data\": {\"touch\": false}}\n",
      "item ../success/501507966_杨晓飞.json return {\"ret\": 0, \"msg\": \"success\", \"data\": {\"touch\": true}}\n",
      "item ../success/70924332_刘靖.json return {\"ret\": 0, \"msg\": \"success\", \"data\": {\"touch\": true}}\n",
      "item ../success/39618865_高翰威.json return {\"ret\": 0, \"msg\": \"success\", \"data\": {\"touch\": false}}\n",
      "item ../success/78002814_王璐.json return {\"ret\": 0, \"msg\": \"success\", \"data\": {\"touch\": true}}\n",
      "item ../success/578196527_沈世卫.json return {\"ret\": 0, \"msg\": \"success\", \"data\": {\"touch\": false}}\n",
      "item ../success/587908745_周兆强.json return {\"ret\": 0, \"msg\": \"success\", \"data\": {\"touch\": false}}\n",
      "item ../success/117717275_武志龙.json return {\"ret\": 0, \"msg\": \"success\", \"data\": {\"touch\": true}}\n",
      "item ../success/548003488_王振.json return {\"ret\": 0, \"msg\": \"success\", \"data\": {\"touch\": false}}\n",
      "item ../success/71858467_宝丽娜.json return {\"ret\": 0, \"msg\": \"success\", \"data\": {\"touch\": false}}\n",
      "item ../success/82433499_张超.json return {\"ret\": 0, \"msg\": \"success\", \"data\": {\"touch\": false}}\n",
      "item ../success/584688246_陈明欣.json return {\"ret\": 0, \"msg\": \"success\", \"data\": {\"touch\": true}}\n",
      "item ../success/574844625_李元桢.json return {\"ret\": 0, \"msg\": \"success\", \"data\": {\"touch\": false}}\n",
      "item ../success/577500978_甄女士.json return {\"ret\": 0, \"msg\": \"success\", \"data\": {\"touch\": false}}\n",
      "item ../success/28642375_薛女士.json return {\"ret\": 0, \"msg\": \"success\", \"data\": {\"touch\": false}}\n",
      "item ../success/598539107_曹庆伟.json return {\"ret\": 0, \"msg\": \"success\", \"data\": {\"touch\": false}}\n",
      "item ../success/12757272_刘静.json return {\"ret\": 0, \"msg\": \"success\", \"data\": {\"touch\": false}}\n",
      "item ../success/517425083_周艳艳.json return {\"ret\": 0, \"msg\": \"success\", \"data\": {\"touch\": false}}\n",
      "item ../success/46385467_胡晓伟.json return {\"ret\": 0, \"msg\": \"success\", \"data\": {\"touch\": false}}\n",
      "item ../success/513976402_糖糖.json return {\"ret\": 0, \"msg\": \"success\", \"data\": {\"touch\": false}}\n",
      "item ../success/38394178_张旭.json return {\"ret\": 0, \"msg\": \"success\", \"data\": {\"touch\": false}}\n",
      "item ../success/121808685_裴向南.json return {\"ret\": 0, \"msg\": \"success\", \"data\": {\"touch\": false}}\n",
      "item ../success/574310874_王慧珍.json return {\"ret\": 0, \"msg\": \"success\", \"data\": {\"touch\": false}}\n",
      "item ../success/568164322_侯小倩.json return {\"ret\": 0, \"msg\": \"success\", \"data\": {\"touch\": true}}\n",
      "item ../success/99923497_郝亚东.json return {\"ret\": 0, \"msg\": \"success\", \"data\": {\"touch\": false}}\n",
      "item ../success/65876196_刘丹妮.json return {\"ret\": 0, \"msg\": \"success\", \"data\": {\"touch\": true}}\n",
      "item ../success/558681623_刘女士.json return {\"ret\": 0, \"msg\": \"success\", \"data\": {\"touch\": false}}\n",
      "item ../success/513195644_张腾.json return {\"ret\": 0, \"msg\": \"success\", \"data\": {\"touch\": false}}\n",
      "item ../success/100761679_晨曦.json return {\"ret\": 0, \"msg\": \"success\", \"data\": {\"touch\": false}}\n",
      "item ../success/581580059_刘华.json return {\"ret\": 0, \"msg\": \"success\", \"data\": {\"touch\": false}}\n",
      "item ../success/35206223_王韬.json return {\"ret\": 0, \"msg\": \"success\", \"data\": {\"touch\": false}}\n",
      "item ../success/41503129_韦澳.json return {\"ret\": 0, \"msg\": \"success\", \"data\": {\"touch\": true}}\n",
      "item ../success/64934218_苗家菊.json return {\"ret\": 0, \"msg\": \"success\", \"data\": {\"touch\": false}}\n",
      "item ../success/567802378_王晓燕.json return {\"ret\": 0, \"msg\": \"success\", \"data\": {\"touch\": true}}\n",
      "item ../success/550073086_杜佳明.json return {\"ret\": 0, \"msg\": \"success\", \"data\": {\"touch\": false}}\n",
      "item ../success/13115609_汤帅.json return {\"ret\": 0, \"msg\": \"success\", \"data\": {\"touch\": false}}\n",
      "item ../success/102763642_耿女士.json return {\"ret\": 0, \"msg\": \"success\", \"data\": {\"touch\": false}}\n",
      "item ../success/611771548_张建.json return {\"ret\": 0, \"msg\": \"success\", \"data\": {\"touch\": false}}\n",
      "item ../success/64561266_李先生.json return {\"ret\": 0, \"msg\": \"success\", \"data\": {\"touch\": false}}\n",
      "item ../success/57605276_Momsen.json return {\"ret\": 0, \"msg\": \"success\", \"data\": {\"touch\": false}}\n",
      "item ../success/58868236_赵玉国.json return {\"ret\": 0, \"msg\": \"success\", \"data\": {\"touch\": false}}\n",
      "item ../success/608715478_朱苗苗.json return {\"ret\": 0, \"msg\": \"success\", \"data\": {\"touch\": false}}\n",
      "item ../success/35063019_邹爽.json return {\"ret\": 0, \"msg\": \"success\", \"data\": {\"touch\": true}}\n",
      "item ../success/47802628_Catherine.json return {\"ret\": 0, \"msg\": \"success\", \"data\": {\"touch\": false}}\n",
      "item ../success/61961028_徐悦.json return {\"ret\": 0, \"msg\": \"success\", \"data\": {\"touch\": true}}\n",
      "item ../success/571621209_杨晓薇.json return {\"ret\": 0, \"msg\": \"success\", \"data\": {\"touch\": true}}\n",
      "item ../success/566735967_范波.json return {\"ret\": 0, \"msg\": \"success\", \"data\": {\"touch\": false}}\n",
      "item ../success/45571298_闻吴泰杰.json return {\"ret\": 0, \"msg\": \"success\", \"data\": {\"touch\": false}}\n",
      "item ../success/66251433_杨秀梅.json return {\"ret\": 0, \"msg\": \"success\", \"data\": {\"touch\": false}}\n",
      "item ../success/568973292_王绍朋.json return {\"ret\": 0, \"msg\": \"success\", \"data\": {\"touch\": false}}\n",
      "item ../success/62602102_徐女士.json return {\"ret\": 0, \"msg\": \"success\", \"data\": {\"touch\": true}}\n",
      "item ../success/501803359_陈思翰.json return {\"ret\": 0, \"msg\": \"success\", \"data\": {\"touch\": true}}\n",
      "item ../success/530859056_英可.json return {\"ret\": 0, \"msg\": \"success\", \"data\": {\"touch\": false}}\n",
      "item ../success/515752985_李洋洋.json return {\"ret\": 0, \"msg\": \"success\", \"data\": {\"touch\": false}}\n",
      "item ../success/593591487_庞海宁.json return {\"ret\": 0, \"msg\": \"success\", \"data\": {\"touch\": false}}\n",
      "item ../success/104446473_温舒.json return {\"ret\": 0, \"msg\": \"success\", \"data\": {\"touch\": false}}\n",
      "item ../success/608885743_张鑫蕊.json return {\"ret\": 0, \"msg\": \"success\", \"data\": {\"touch\": false}}\n",
      "item ../success/70977259_孙家祥.json return {\"ret\": 0, \"msg\": \"success\", \"data\": {\"touch\": false}}\n",
      "item ../success/68578545_杜常壮.json return {\"ret\": 0, \"msg\": \"success\", \"data\": {\"touch\": false}}\n",
      "item ../success/538422154_安先生.json return {\"ret\": 0, \"msg\": \"success\", \"data\": {\"touch\": false}}\n",
      "item ../success/575432735_王宾.json return {\"ret\": 0, \"msg\": \"success\", \"data\": {\"touch\": false}}\n",
      "item ../success/75933743_魏朝晖.json return {\"ret\": 0, \"msg\": \"success\", \"data\": {\"touch\": false}}\n",
      "item ../success/552701512_王杨.json return {\"ret\": 0, \"msg\": \"success\", \"data\": {\"touch\": false}}\n",
      "item ../success/577374607_于莹莹.json return {\"ret\": 0, \"msg\": \"success\", \"data\": {\"touch\": true}}\n",
      "item ../success/75293242_王旨怡.json return {\"ret\": 0, \"msg\": \"success\", \"data\": {\"touch\": false}}\n",
      "item ../success/100197957_崔嘉骏.json return {\"ret\": 0, \"msg\": \"success\", \"data\": {\"touch\": false}}\n",
      "item ../success/41086534_赵斌.json return {\"ret\": 0, \"msg\": \"success\", \"data\": {\"touch\": false}}\n",
      "item ../success/602113983_王旭良.json return {\"ret\": 0, \"msg\": \"success\", \"data\": {\"touch\": false}}\n",
      "item ../success/208571955_时间证明.json return {\"ret\": 0, \"msg\": \"success\", \"data\": {\"touch\": true}}\n",
      "item ../success/608945186_刘鸿.json return {\"ret\": 0, \"msg\": \"success\", \"data\": {\"touch\": false}}\n",
      "item ../success/595883434_李小伟.json return {\"ret\": 0, \"msg\": \"success\", \"data\": {\"touch\": false}}\n",
      "item ../success/12071025_王女士.json return {\"ret\": 0, \"msg\": \"success\", \"data\": {\"touch\": true}}\n",
      "item ../success/60939176_李盼盼.json return {\"ret\": 0, \"msg\": \"success\", \"data\": {\"touch\": false}}\n",
      "item ../success/11588355_王进成.json return {\"ret\": 0, \"msg\": \"success\", \"data\": {\"touch\": false}}\n",
      "item ../success/35142892_刘素.json return {\"ret\": 0, \"msg\": \"success\", \"data\": {\"touch\": true}}\n",
      "item ../success/548905038_宋健男.json return {\"ret\": 0, \"msg\": \"success\", \"data\": {\"touch\": true}}\n",
      "item ../success/107228774_刘先生.json return {\"ret\": 0, \"msg\": \"success\", \"data\": {\"touch\": false}}\n",
      "item ../success/569231972_余方丽.json return {\"ret\": 0, \"msg\": \"success\", \"data\": {\"touch\": true}}\n",
      "item ../success/28922605_王霞.json return {\"ret\": 0, \"msg\": \"success\", \"data\": {\"touch\": true}}\n",
      "item ../success/42257908_张润泽.json return {\"ret\": 0, \"msg\": \"success\", \"data\": {\"touch\": false}}\n",
      "item ../success/45580487_张晶.json return {\"ret\": 0, \"msg\": \"success\", \"data\": {\"touch\": true}}\n",
      "item ../success/568341753_小朱.json return {\"ret\": 0, \"msg\": \"success\", \"data\": {\"touch\": false}}\n",
      "item ../success/92309082_Wendy.json return {\"ret\": 0, \"msg\": \"success\", \"data\": {\"touch\": false}}\n",
      "item ../success/586098894_尹金鹏.json return {\"ret\": 0, \"msg\": \"success\", \"data\": {\"touch\": false}}\n",
      "item ../success/609103972_王伟旭.json return {\"ret\": 0, \"msg\": \"success\", \"data\": {\"touch\": true}}\n",
      "item ../success/608635175_吴钟秀.json return {\"ret\": 0, \"msg\": \"success\", \"data\": {\"touch\": true}}\n",
      "item ../success/21353586_王承元.json return {\"ret\": 0, \"msg\": \"success\", \"data\": {\"touch\": true}}\n",
      "item ../success/30008093_常腾霄.json return {\"ret\": 0, \"msg\": \"success\", \"data\": {\"touch\": false}}\n",
      "item ../success/7324015_刘雨佳.json return {\"ret\": 0, \"msg\": \"success\", \"data\": {\"touch\": false}}\n",
      "item ../success/605836653_任志恒.json return {\"ret\": 0, \"msg\": \"success\", \"data\": {\"touch\": false}}\n",
      "item ../success/613694019_孙盛楠.json return {\"ret\": 0, \"msg\": \"success\", \"data\": {\"touch\": true}}\n",
      "item ../success/613694677_梁晓霞.json return {\"ret\": 0, \"msg\": \"success\", \"data\": {\"touch\": false}}\n",
      "item ../success/517435452_宋洋.json return {\"ret\": 0, \"msg\": \"success\", \"data\": {\"touch\": true}}\n",
      "item ../success/612721248_张慧莉.json return {\"ret\": 0, \"msg\": \"success\", \"data\": {\"touch\": false}}\n",
      "item ../success/73975776_高晓雪.json return {\"ret\": 0, \"msg\": \"success\", \"data\": {\"touch\": false}}\n",
      "item ../success/587090307_郭亚萌.json return {\"ret\": 0, \"msg\": \"success\", \"data\": {\"touch\": true}}\n",
      "item ../success/42279969_杜嘉.json return {\"ret\": 0, \"msg\": \"success\", \"data\": {\"touch\": false}}\n",
      "item ../success/31441683_吴美玲.json return {\"ret\": 0, \"msg\": \"success\", \"data\": {\"touch\": false}}\n",
      "item ../success/563810024_赵婉晴.json return {\"ret\": 0, \"msg\": \"success\", \"data\": {\"touch\": true}}\n",
      "item ../success/546705887_张威.json return {\"ret\": 0, \"msg\": \"success\", \"data\": {\"touch\": false}}\n",
      "item ../success/64790922_张婉莹.json return {\"ret\": 0, \"msg\": \"success\", \"data\": {\"touch\": true}}\n",
      "item ../success/597938458_可笛.json return {\"ret\": 0, \"msg\": \"success\", \"data\": {\"touch\": false}}\n",
      "item ../success/100638736_徐悦.json return {\"ret\": 0, \"msg\": \"success\", \"data\": {\"touch\": true}}\n",
      "item ../success/597473562_刘旭.json return {\"ret\": 0, \"msg\": \"success\", \"data\": {\"touch\": false}}\n",
      "item ../success/21259697_胡序.json return {\"ret\": 0, \"msg\": \"success\", \"data\": {\"touch\": false}}\n",
      "item ../success/55269797_小五.json return {\"ret\": 0, \"msg\": \"success\", \"data\": {\"touch\": true}}\n",
      "item ../success/534760143_许洪雪.json return {\"ret\": 0, \"msg\": \"success\", \"data\": {\"touch\": true}}\n",
      "item ../success/538834698_天南星.json return {\"ret\": 0, \"msg\": \"success\", \"data\": {\"touch\": false}}\n",
      "item ../success/70780416_孙园.json return {\"ret\": 0, \"msg\": \"success\", \"data\": {\"touch\": false}}\n",
      "item ../success/581292254_杨彩云.json return {\"ret\": 0, \"msg\": \"success\", \"data\": {\"touch\": false}}\n",
      "item ../success/555938384_葉然.json return {\"ret\": 0, \"msg\": \"success\", \"data\": {\"touch\": false}}\n",
      "item ../success/48014122_刘金萍.json return {\"ret\": 0, \"msg\": \"success\", \"data\": {\"touch\": false}}\n",
      "item ../success/537887507_陈梓川.json return {\"ret\": 0, \"msg\": \"success\", \"data\": {\"touch\": false}}\n",
      "item ../success/38994973_王甜甜.json return {\"ret\": 0, \"msg\": \"success\", \"data\": {\"touch\": false}}\n",
      "item ../success/536931082_吕澎湃.json return {\"ret\": 0, \"msg\": \"success\", \"data\": {\"touch\": true}}\n",
      "item ../success/613116387_王琦.json return {\"ret\": 0, \"msg\": \"success\", \"data\": {\"touch\": false}}\n",
      "item ../success/93032045_颜景霞.json return {\"ret\": 0, \"msg\": \"success\", \"data\": {\"touch\": false}}\n",
      "item ../success/607838055_jlin.json return {\"ret\": 0, \"msg\": \"success\", \"data\": {\"touch\": false}}\n",
      "item ../success/508237397_常志涛.json return {\"ret\": 0, \"msg\": \"success\", \"data\": {\"touch\": false}}\n",
      "item ../success/112236932_关大鹏.json return {\"ret\": 0, \"msg\": \"success\", \"data\": {\"touch\": false}}\n",
      "item ../success/529949568_李兆强.json return {\"ret\": 0, \"msg\": \"success\", \"data\": {\"touch\": false}}\n",
      "item ../success/526573393_王女士.json return {\"ret\": 0, \"msg\": \"success\", \"data\": {\"touch\": false}}\n",
      "item ../success/509947774_李皓.json return {\"ret\": 0, \"msg\": \"success\", \"data\": {\"touch\": false}}\n",
      "item ../success/502729776_朱昕玉.json return {\"ret\": 0, \"msg\": \"success\", \"data\": {\"touch\": false}}\n",
      "item ../success/611665786_张子健.json return {\"ret\": 0, \"msg\": \"success\", \"data\": {\"touch\": true}}\n",
      "item ../success/70212045_周常珍.json return {\"ret\": 0, \"msg\": \"success\", \"data\": {\"touch\": false}}\n",
      "item ../success/540622563_知味.json return {\"ret\": 0, \"msg\": \"success\", \"data\": {\"touch\": false}}\n",
      "item ../success/592494813_烊烊.json return {\"ret\": 0, \"msg\": \"success\", \"data\": {\"touch\": false}}\n",
      "item ../success/64674157_温薪妙.json return {\"ret\": 0, \"msg\": \"success\", \"data\": {\"touch\": true}}\n",
      "item ../success/594418639_王和兴.json return {\"ret\": 0, \"msg\": \"success\", \"data\": {\"touch\": false}}\n",
      "item ../success/598198014_李伟.json return {\"ret\": 0, \"msg\": \"success\", \"data\": {\"touch\": false}}\n",
      "item ../success/37259406_赵先生.json return {\"ret\": 0, \"msg\": \"success\", \"data\": {\"touch\": false}}\n",
      "item ../success/608143542_陆露.json return {\"ret\": 0, \"msg\": \"success\", \"data\": {\"touch\": true}}\n",
      "item ../success/559504325_杨忠行.json return {\"ret\": 0, \"msg\": \"success\", \"data\": {\"touch\": false}}\n",
      "item ../success/57026848_孙赫.json return {\"ret\": 0, \"msg\": \"success\", \"data\": {\"touch\": false}}\n",
      "item ../success/518102497_刘可晴.json return {\"ret\": 0, \"msg\": \"success\", \"data\": {\"touch\": false}}\n",
      "item ../success/547962679_黄永昊.json return {\"ret\": 0, \"msg\": \"success\", \"data\": {\"touch\": false}}\n",
      "item ../success/6987554_张杰.json return {\"ret\": 0, \"msg\": \"success\", \"data\": {\"touch\": false}}\n",
      "item ../success/72465476_彭博华.json return {\"ret\": 0, \"msg\": \"success\", \"data\": {\"touch\": false}}\n",
      "item ../success/613308786_富华.json return {\"ret\": 0, \"msg\": \"success\", \"data\": {\"touch\": false}}\n"
     ]
    }
   ],
   "source": [
    "import glob\n",
    "for item in glob.glob('../success/*.json'):\n",
    "    boss_candidate_info = json.loads(open(item).read())\n",
    "    r = requests.post(url+api_dict['filter_candidate'],json={\n",
    "        'accountID': 'account_Boss_611930762',\n",
    "        'candidateInfo': boss_candidate_info\n",
    "    })\n",
    "    print(f'item {item} return {r.text}')"
   ]
  },
  {
   "cell_type": "markdown",
   "id": "75370539-ad84-449b-a38d-57a8f3c707de",
   "metadata": {},
   "source": [
    "## chat"
   ]
  },
  {
   "cell_type": "markdown",
   "id": "4669cf00-bd88-40e1-b098-6de8d4c5a644",
   "metadata": {},
   "source": [
    "### search chat"
   ]
  },
  {
   "cell_type": "code",
   "execution_count": 38,
   "id": "16b910e4-0e89-47e2-a732-883fb9dd6867",
   "metadata": {
    "tags": []
   },
   "outputs": [
    {
     "data": {
      "text/plain": [
       "'{\"ret\": 0, \"msg\": \"success\", \"data\": {\"nextStep\": \"normal_chat\", \"nextStepContent\": \"\"}}'"
      ]
     },
     "execution_count": 38,
     "metadata": {},
     "output_type": "execute_result"
    }
   ],
   "source": [
    "candidate_id='mock-589791359'\n",
    "candidate_name=candidate_id\n",
    "history=[{'speaker': 'robot','msg':'这里是一家很牛逼的企业，看上你了，来吧老弟'}, {'speaker':'user','msg':'滚'}]\n",
    "r = requests.post(url+api_dict['chat_candidate'],json={\n",
    "    'accountID': account_id,\n",
    "    'jobID': job_id,\n",
    "    'candidateID': candidate_id,\n",
    "    'candidateName': candidate_name,\n",
    "    'historyMsg': history\n",
    "})\n",
    "r.text"
   ]
  },
  {
   "cell_type": "code",
   "execution_count": null,
   "id": "dd212b7f-f87b-4e02-9b41-34d67446d08d",
   "metadata": {},
   "outputs": [],
   "source": []
  },
  {
   "cell_type": "markdown",
   "id": "d61d5ab5-4b77-4a73-bad7-f83cc1020d6e",
   "metadata": {},
   "source": [
    "### user ask chat"
   ]
  },
  {
   "cell_type": "code",
   "execution_count": 54,
   "id": "7c1f3ef9-f16c-4417-9cfa-f85beddf39ff",
   "metadata": {
    "tags": []
   },
   "outputs": [
    {
     "data": {
      "text/plain": [
       "'{\"ret\": 0, \"msg\": \"success\", \"data\": {\"nextStep\": \"need_contact\", \"nextStepContent\": \"\\\\u8bd5\\\\u7528\\\\u671f\\\\u4fdd\\\\u5e955000\\\\uff0c\\\\u8f6c\\\\u6b63\\\\u540e8000-20000\\\\uff0c\\\\u624b\\\\u7eed\\\\u8d39\\\\u63d0\\\\u62100.5%-1.5%\\\\u3002\\\\u54b1\\\\u80fd\\\\u4e0d\\\\u80fd\\\\u7559\\\\u4e2a\\\\u7b80\\\\u5386\\\\u548c\\\\u8054\\\\u7cfb\\\\u65b9\\\\u5f0f\\\\u5462\"}}'"
      ]
     },
     "execution_count": 54,
     "metadata": {},
     "output_type": "execute_result"
    }
   ],
   "source": [
    "candidate_id='mock-589791359'\n",
    "candidate_name=candidate_id\n",
    "history=[{'speaker': 'user','msg':'你们这里客服薪资什么样呢'}]\n",
    "r = requests.post(url+api_dict['chat_candidate'],json={\n",
    "    'accountID': account_id,\n",
    "    'jobID': job_id,\n",
    "    'candidateID': candidate_id,\n",
    "    'candidateName': candidate_name,\n",
    "    'historyMsg': history\n",
    "})\n",
    "r.text"
   ]
  },
  {
   "cell_type": "markdown",
   "id": "693f9495-04f9-469b-abee-1fc9216af7d9",
   "metadata": {},
   "source": [
    "## chat result"
   ]
  },
  {
   "cell_type": "code",
   "execution_count": 41,
   "id": "b4513ce1-73fa-45a8-a881-3508a5ba0eba",
   "metadata": {
    "tags": []
   },
   "outputs": [
    {
     "data": {
      "text/plain": [
       "'{\"ret\": 0, \"msg\": \"success\", \"data\": {\"status\": \"ok\"}}'"
      ]
     },
     "execution_count": 41,
     "metadata": {},
     "output_type": "execute_result"
    }
   ],
   "source": [
    "candidate_id='mock-589791359'\n",
    "candidate_name=candidate_id\n",
    "files = {'cv': open('test_cv.pdf','rb')}\n",
    "r = requests.post(url+api_dict['result_candidate'], data={\n",
    "    'accountID': account_id,\n",
    "    'jobID': job_id,\n",
    "    'candidateID': candidate_id,\n",
    "    'candidateName': candidate_name,\n",
    "    'phone': '139xxxx5556',\n",
    "    'wechat': '139xxxx5556'\n",
    "},files=files)\n",
    "r.text\n"
   ]
  },
  {
   "cell_type": "code",
   "execution_count": 82,
   "id": "a34ae427-05ce-47a8-979f-dddbd7af5f17",
   "metadata": {
    "tags": []
   },
   "outputs": [
    {
     "data": {
      "text/plain": [
       "'{\"ret\": 0, \"msg\": \"success\", \"data\": {\"status\": \"ok\"}}'"
      ]
     },
     "execution_count": 82,
     "metadata": {},
     "output_type": "execute_result"
    }
   ],
   "source": [
    "files = {'cv': open('test_cv.pdf','rb')}\n",
    "r = requests.post(url+api_dict['result_candidate'], data={\n",
    "    'accountID': 'account_Boss_27175761',\n",
    "    'candidateID': '111735749',\n",
    "    'candidateName': '李顺东',\n",
    "},files=files)\n",
    "r.text"
   ]
  },
  {
   "cell_type": "code",
   "execution_count": 273,
   "id": "5e1c3e94-9f4f-4209-8402-a73b53bce60a",
   "metadata": {
    "tags": []
   },
   "outputs": [],
   "source": []
  },
  {
   "cell_type": "code",
   "execution_count": 273,
   "id": "46336d7b-9d57-4c58-abdf-3969c034be26",
   "metadata": {
    "tags": []
   },
   "outputs": [],
   "source": []
  },
  {
   "cell_type": "code",
   "execution_count": 273,
   "id": "754087f2-c5a0-40b1-a1ec-c6db3e728582",
   "metadata": {
    "tags": []
   },
   "outputs": [],
   "source": []
  },
  {
   "cell_type": "code",
   "execution_count": 273,
   "id": "616734b6-33ee-4274-ade3-49b8170008e6",
   "metadata": {
    "tags": []
   },
   "outputs": [],
   "source": []
  },
  {
   "cell_type": "code",
   "execution_count": 273,
   "id": "d6755340-3378-4d6e-ab8a-6687d0235c92",
   "metadata": {
    "tags": []
   },
   "outputs": [],
   "source": []
  },
  {
   "cell_type": "code",
   "execution_count": 273,
   "id": "bdfe451b-9428-43d8-bd2e-555a5ecda4d9",
   "metadata": {
    "tags": []
   },
   "outputs": [],
   "source": []
  },
  {
   "cell_type": "code",
   "execution_count": 273,
   "id": "c0642146-7e06-4043-a0b7-cd592d178942",
   "metadata": {
    "tags": []
   },
   "outputs": [],
   "source": []
  },
  {
   "cell_type": "code",
   "execution_count": 273,
   "id": "ede0c966-e733-48a1-b49c-21876c65e8b4",
   "metadata": {
    "tags": []
   },
   "outputs": [],
   "source": []
  },
  {
   "cell_type": "code",
   "execution_count": 273,
   "id": "a3ff317d-c4fd-4ddc-9090-06c79f02b0a3",
   "metadata": {
    "tags": []
   },
   "outputs": [],
   "source": []
  },
  {
   "cell_type": "code",
   "execution_count": 273,
   "id": "cbf3b0ae-441a-4bf9-9017-f0b6b85938e4",
   "metadata": {
    "tags": []
   },
   "outputs": [],
   "source": []
  },
  {
   "cell_type": "code",
   "execution_count": 273,
   "id": "7118d632-2024-4d51-b7f5-72da0daf2445",
   "metadata": {
    "tags": []
   },
   "outputs": [],
   "source": []
  },
  {
   "cell_type": "code",
   "execution_count": 273,
   "id": "6ac330f2-9b94-4736-8ecd-224f54e3e297",
   "metadata": {
    "tags": []
   },
   "outputs": [],
   "source": []
  },
  {
   "cell_type": "code",
   "execution_count": 273,
   "id": "ece4c3aa-3896-4969-9163-a9817d7e3fdc",
   "metadata": {
    "tags": []
   },
   "outputs": [],
   "source": []
  },
  {
   "cell_type": "code",
   "execution_count": 273,
   "id": "c2cf3983-33d4-4a28-9e51-f700087047ab",
   "metadata": {
    "tags": []
   },
   "outputs": [],
   "source": []
  },
  {
   "cell_type": "code",
   "execution_count": 273,
   "id": "77268484-feae-43e6-8d5e-5e76db17d35f",
   "metadata": {
    "tags": []
   },
   "outputs": [],
   "source": []
  },
  {
   "cell_type": "code",
   "execution_count": 273,
   "id": "02d60545-d73c-444b-bb4d-4fb277c847b4",
   "metadata": {
    "tags": []
   },
   "outputs": [],
   "source": []
  },
  {
   "cell_type": "code",
   "execution_count": 273,
   "id": "b7a419d5-4e77-412b-b2e8-c0da9056f600",
   "metadata": {
    "tags": []
   },
   "outputs": [],
   "source": []
  },
  {
   "cell_type": "code",
   "execution_count": 273,
   "id": "f68624f9-848d-4562-9897-1a6ad0a349ac",
   "metadata": {
    "tags": []
   },
   "outputs": [],
   "source": []
  },
  {
   "cell_type": "code",
   "execution_count": 273,
   "id": "3c556d09-a6b7-4680-839e-9c59689c44b0",
   "metadata": {
    "tags": []
   },
   "outputs": [],
   "source": []
  },
  {
   "cell_type": "code",
   "execution_count": 273,
   "id": "2333d1c7-a716-4dc3-b43f-8be849f5e2bf",
   "metadata": {
    "tags": []
   },
   "outputs": [],
   "source": []
  },
  {
   "cell_type": "code",
   "execution_count": 273,
   "id": "96ddfd44-8a6f-478c-9c9c-c16ca99538db",
   "metadata": {
    "tags": []
   },
   "outputs": [],
   "source": []
  },
  {
   "cell_type": "code",
   "execution_count": null,
   "id": "46f43631-132a-4449-a670-71876a1447ee",
   "metadata": {
    "tags": []
   },
   "outputs": [],
   "source": []
  },
  {
   "cell_type": "code",
   "execution_count": null,
   "id": "b1240c44-3459-4594-a2d5-e3524cd8da72",
   "metadata": {
    "tags": []
   },
   "outputs": [],
   "source": []
  },
  {
   "cell_type": "code",
   "execution_count": null,
   "id": "a5fc36dc-9d0a-4018-bcf4-de5338f141c8",
   "metadata": {
    "tags": []
   },
   "outputs": [],
   "source": []
  },
  {
   "cell_type": "code",
   "execution_count": null,
   "id": "cee4f723-62be-4d4c-9e91-9def56586029",
   "metadata": {},
   "outputs": [],
   "source": []
  }
 ],
 "metadata": {
  "kernelspec": {
   "display_name": "audio_ana",
   "language": "python",
   "name": "audio_ana"
  },
  "language_info": {
   "codemirror_mode": {
    "name": "ipython",
    "version": 3
   },
   "file_extension": ".py",
   "mimetype": "text/x-python",
   "name": "python",
   "nbconvert_exporter": "python",
   "pygments_lexer": "ipython3",
   "version": "3.10.11"
  }
 },
 "nbformat": 4,
 "nbformat_minor": 5
}
