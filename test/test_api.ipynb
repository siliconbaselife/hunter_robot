{
 "cells": [
  {
   "cell_type": "code",
   "execution_count": 127,
   "id": "f027cc33-9fe7-4c08-8d0c-82f7d0616d2c",
   "metadata": {
    "tags": []
   },
   "outputs": [],
   "source": [
    "import requests"
   ]
  },
  {
   "cell_type": "code",
   "execution_count": null,
   "id": "2b160d77-8bc4-46ae-94fe-4c041a8e8fda",
   "metadata": {},
   "outputs": [],
   "source": [
    "def deal_json_invaild(data):\n",
    "    data = data.replace(' ','')\n",
    "    data = data.replace(\"\\n\", \"\\\\n\").replace(\"\\r\", \"\\\\r\").replace(\"\\n\\r\", \"\\\\n\\\\r\") \\\n",
    "        .replace(\"\\r\\n\", \"\\\\r\\\\n\") \\\n",
    "        .replace(\"\\t\", \"\\\\t\")\n",
    "    data = data.replace('\":\"', '&&testPassword1&&')\\\n",
    "        .replace('\":', '&&testPassword2&&')\\\n",
    "        .replace('\",\"', \"$$testPassword$$\")\\\n",
    "        .replace('{\"', \"@@testPassword@@\")\\\n",
    "        .replace('\"}', \"**testPassword**\")\n",
    "    # print(data)\n",
    "\n",
    "    data = data.replace('\"', r'\\\"')\\\n",
    "        .replace('&&testPassword1&&', '\":\"').replace('&&testPassword2&&','\":').replace('$$testPassword$$', '\",\"').replace('@@testPassword@@', '{\"').replace('**testPassword**', '\"}')\n",
    "    # print(data)\n",
    "    return data"
   ]
  },
  {
   "cell_type": "code",
   "execution_count": null,
   "id": "bfde1e60-20bf-4923-874a-5a3a1997fa6f",
   "metadata": {},
   "outputs": [],
   "source": [
    "import oss2\n",
    "ali_user_name = 'LTAI5tRAbpW9MNjDDnDAVCsq'\n",
    "ali_pwd = '7RguIff46JiTrh43HkULgbXZPiIVqu'\n",
    "auth = oss2.Auth(ali_user_name, ali_pwd)\n",
    "# yourEndpoint填写Bucket所在地域对应的Endpoint。以华东1（杭州）为例，Endpoint填写为https://oss-cn-hangzhou.aliyuncs.com。\n",
    "# 填写Bucket名称。\n",
    "bucket = oss2.Bucket(auth, 'oss-ap-southeast-1.aliyuncs.com', 'aistormy2023')\n",
    "oss_url_prefix = \"https://aistormy2023.oss-ap-southeast-1.aliyuncs.com/\"\n",
    "\n",
    "ret = bucket.put_object(file_name, content)"
   ]
  },
  {
   "cell_type": "code",
   "execution_count": null,
   "id": "814145a6-babb-4daa-87b1-55d830480a37",
   "metadata": {
    "tags": []
   },
   "outputs": [],
   "source": []
  },
  {
   "cell_type": "markdown",
   "id": "c0aca52a-1a4e-4984-b6c4-bd12058827f3",
   "metadata": {
    "tags": []
   },
   "source": [
    "# v2.0"
   ]
  },
  {
   "cell_type": "code",
   "execution_count": 165,
   "id": "0581726b-2990-40cd-9bc0-9b7e14c6676d",
   "metadata": {},
   "outputs": [],
   "source": [
    "url = 'http://114.248.215.173:32040'\n",
    "api_list = [\n",
    "\"/test\",\n",
    "\"/recruit/job/register\",\n",
    "\"/recruit/job/query\",\n",
    "\"/recruit/account/register\",\n",
    "\"/recruit/account/query\",\n",
    "\"/recruit/account/task/fetch\",\n",
    "\"/recruit/candidate/filter\",\n",
    "\"/recruit/candidate/chat\",\n",
    "\"/recruit/candidate/result\"\n",
    "]"
   ]
  },
  {
   "cell_type": "code",
   "execution_count": 166,
   "id": "f58b1166-8fb5-44a2-942c-47b7b336e94b",
   "metadata": {
    "tags": []
   },
   "outputs": [
    {
     "name": "stdout",
     "output_type": "stream",
     "text": [
      "test\t\t\t/test\n",
      "register_job\t\t\t/recruit/job/register\n",
      "query_job\t\t\t/recruit/job/query\n",
      "register_account\t\t\t/recruit/account/register\n",
      "query_account\t\t\t/recruit/account/query\n",
      "fetch_task\t\t\t/recruit/account/task/fetch\n",
      "filter_candidate\t\t\t/recruit/candidate/filter\n",
      "chat_candidate\t\t\t/recruit/candidate/chat\n",
      "result_candidate\t\t\t/recruit/candidate/result\n"
     ]
    }
   ],
   "source": [
    "api_dict = {}\n",
    "for api in api_list:\n",
    "    sp = api[1:].split('/')\n",
    "    api_key = sp[-1]\n",
    "    if len(sp)>1:\n",
    "        api_key+=f'_{sp[-2]}'\n",
    "    api_dict[api_key]=api\n",
    "    print(f'{api_key}\\t\\t\\t{api}')"
   ]
  },
  {
   "cell_type": "markdown",
   "id": "d8d5c878-c4f3-4065-9c36-d3c3276b1cab",
   "metadata": {},
   "source": [
    "## job op"
   ]
  },
  {
   "cell_type": "code",
   "execution_count": 175,
   "id": "004f0a5e-7e12-4298-856b-5418aca43066",
   "metadata": {
    "tags": []
   },
   "outputs": [],
   "source": [
    "r = requests.post(url+api_dict['register_job'],json={\n",
    "    'jobName': '联通-客服专员',\n",
    "    'jobJD': '''招聘公司：知名国企\n",
    "岗位名称：客服专员\n",
    "岗位职责：负责接听热线，解答解决用户的查询、咨询和业务办理及疑难问题\n",
    "岗位要求：38岁以下，中专及以上学历，普通话标准，良好的沟通表达能力\n",
    "薪资福利：综合薪资4000-7000，入职缴纳五险一金，法定节假日三薪\n",
    "工作时间：每天8小时不加班''',\n",
    "    'robotApi': '/vision/chat/receive/message/unicom/v1'\n",
    "})\n",
    "r.text"
   ]
  },
  {
   "cell_type": "code",
   "execution_count": 176,
   "id": "3c51dd80-123c-42f5-8597-1238d64fcfbc",
   "metadata": {
    "tags": []
   },
   "outputs": [
    {
     "data": {
      "text/plain": [
       "'{\"ret\": 0, \"msg\": \"success\", \"data\": {\"jobID\": \"8eb9468c-30f6-11ee-acb3-9cb6d0f3a325\"}}'"
      ]
     },
     "execution_count": 176,
     "metadata": {},
     "output_type": "execute_result"
    }
   ],
   "source": [
    "r = requests.post(url+api_dict['query_job'],json={\n",
    "    'jobName': '联通-客服专员'\n",
    "})\n",
    "r.text"
   ]
  },
  {
   "cell_type": "code",
   "execution_count": 183,
   "id": "77da84c7-ba32-47b3-89e0-28cfe233f452",
   "metadata": {
    "tags": []
   },
   "outputs": [],
   "source": [
    "job_id=\"8eb9468c-30f6-11ee-acb3-9cb6d0f3a325\""
   ]
  },
  {
   "cell_type": "markdown",
   "id": "2cdb5dcb-b5c3-49ab-ac47-4b703a3954fe",
   "metadata": {},
   "source": [
    "## account op"
   ]
  },
  {
   "cell_type": "code",
   "execution_count": 201,
   "id": "cd5f378b-32b5-4899-b14b-70fab444948f",
   "metadata": {
    "tags": []
   },
   "outputs": [
    {
     "data": {
      "text/plain": [
       "'{\"ret\": 0, \"msg\": \"success\", \"data\": {\"accountID\": \"19cc551c-3105-11ee-8174-9cb6d0f3a325\"}}'"
      ]
     },
     "execution_count": 201,
     "metadata": {},
     "output_type": "execute_result"
    }
   ],
   "source": [
    "r = requests.post(url+api_dict['register_account'],json={\n",
    "    'platformType': 'boss',\n",
    "    'platformID': '4431156',\n",
    "    'jobs': [job_id]\n",
    "})\n",
    "r.text"
   ]
  },
  {
   "cell_type": "code",
   "execution_count": 202,
   "id": "d6180758-c437-4903-9034-02bfd4da3278",
   "metadata": {
    "tags": []
   },
   "outputs": [
    {
     "data": {
      "text/plain": [
       "'{\"ret\": 0, \"msg\": \"success\", \"data\": {\"accountID\": \"19cc551c-3105-11ee-8174-9cb6d0f3a325\"}}'"
      ]
     },
     "execution_count": 202,
     "metadata": {},
     "output_type": "execute_result"
    }
   ],
   "source": [
    "r = requests.post(url+api_dict['query_account'],json={\n",
    "    'platformType': 'boss',\n",
    "    'platformID': '4431156',\n",
    "})\n",
    "r.text"
   ]
  },
  {
   "cell_type": "code",
   "execution_count": 203,
   "id": "75a7bee3-a572-4a51-af77-491618b02783",
   "metadata": {
    "tags": []
   },
   "outputs": [],
   "source": [
    "account_id=\"19cc551c-3105-11ee-8174-9cb6d0f3a325\""
   ]
  },
  {
   "cell_type": "markdown",
   "id": "97799980-e752-4efc-ab88-cd02202fa1f8",
   "metadata": {},
   "source": [
    "## task op"
   ]
  },
  {
   "cell_type": "code",
   "execution_count": 204,
   "id": "e1243385-4bc2-4841-b8b9-5703adc2264b",
   "metadata": {
    "tags": []
   },
   "outputs": [
    {
     "data": {
      "text/plain": [
       "'{\"ret\": 0, \"msg\": \"success\", \"data\": {\"task\": [{\"hello_sum\": 50, \"time_percent\": [{\"time\": \"09:00\", \"percent\": 50}, {\"time\": \"16:00\", \"percent\": 50}], \"task_type\": \"batchTouch\", \"job_id\": \"8eb9468c-30f6-11ee-acb3-9cb6d0f3a325\"}]}}'"
      ]
     },
     "execution_count": 204,
     "metadata": {},
     "output_type": "execute_result"
    }
   ],
   "source": [
    "r = requests.post(url+api_dict['fetch_task'],json={\n",
    "    'accountID': account_id,\n",
    "})\n",
    "r.text"
   ]
  },
  {
   "cell_type": "code",
   "execution_count": 212,
   "id": "19675278-24b0-464d-bec0-cc760863a59c",
   "metadata": {
    "tags": []
   },
   "outputs": [
    {
     "data": {
      "text/plain": [
       "'{\"ret\": 0, \"msg\": \"success\", \"data\": {\"task\": [{\"job_id\": \"8eb9468c-30f6-11ee-acb3-9cb6d0f3a325\", \"task_type\": \"batchTouch\", \"hello_sum\": 49, \"time_percent\": [{\"time\": \"16:00\", \"percent\": 100}]}]}}'"
      ]
     },
     "execution_count": 212,
     "metadata": {},
     "output_type": "execute_result"
    }
   ],
   "source": [
    "r = requests.post(url+api_dict['fetch_task'],json={\n",
    "    'accountID': account_id,\n",
    "})\n",
    "r.text"
   ]
  },
  {
   "cell_type": "markdown",
   "id": "e50cbaf0-4538-47e6-88ba-f407428028dc",
   "metadata": {},
   "source": [
    "## candidate filter"
   ]
  },
  {
   "cell_type": "code",
   "execution_count": 208,
   "id": "83351a44-b335-4a12-ab92-761f0dc1d5e7",
   "metadata": {
    "tags": []
   },
   "outputs": [
    {
     "data": {
      "text/plain": [
       "'{\"ret\": 0, \"msg\": \"success\", \"data\": {\"touch\": false}}'"
      ]
     },
     "execution_count": 208,
     "metadata": {},
     "output_type": "execute_result"
    }
   ],
   "source": [
    "boss_candidate_info = json.loads(open('test_candidate.json').read())\n",
    "r = requests.post(url+api_dict['filter_candidate'],json={\n",
    "    'accountID': account_id,\n",
    "    'jobID': job_id,\n",
    "    'candidateInfo': boss_candidate_info,\n",
    "    \n",
    "})\n",
    "r.text"
   ]
  },
  {
   "cell_type": "code",
   "execution_count": 209,
   "id": "09d9e594-0db0-4c73-be99-b1a4aceeb8bd",
   "metadata": {
    "tags": []
   },
   "outputs": [
    {
     "data": {
      "text/plain": [
       "'{\"ret\": 0, \"msg\": \"success\", \"data\": {\"touch\": true}}'"
      ]
     },
     "execution_count": 209,
     "metadata": {},
     "output_type": "execute_result"
    }
   ],
   "source": [
    "boss_candidate_info = json.loads(open('test_candidate_touch.json').read())\n",
    "r = requests.post(url+api_dict['filter_candidate'],json={\n",
    "    'accountID': account_id,\n",
    "    'jobID': job_id,\n",
    "    'candidateInfo': boss_candidate_info,\n",
    "    \n",
    "})\n",
    "r.text"
   ]
  },
  {
   "cell_type": "markdown",
   "id": "75370539-ad84-449b-a38d-57a8f3c707de",
   "metadata": {},
   "source": [
    "## chat"
   ]
  },
  {
   "cell_type": "markdown",
   "id": "4669cf00-bd88-40e1-b098-6de8d4c5a644",
   "metadata": {},
   "source": [
    "### search chat"
   ]
  },
  {
   "cell_type": "code",
   "execution_count": 215,
   "id": "16b910e4-0e89-47e2-a732-883fb9dd6867",
   "metadata": {
    "tags": []
   },
   "outputs": [
    {
     "data": {
      "text/plain": [
       "'{\"ret\": 0, \"msg\": \"success\", \"data\": {\"nextStep\": \"normal_chat\", \"nextStepContent\": \"\"}}'"
      ]
     },
     "execution_count": 215,
     "metadata": {},
     "output_type": "execute_result"
    }
   ],
   "source": [
    "candidate_id='test_candidate1'\n",
    "candidate_name=candidate_id\n",
    "history=[{'speaker': 'robot','msg':'这里是一家很牛逼的企业，看上你了，来吧老弟'}, {'speaker':'user','msg':'滚'}]\n",
    "r = requests.post(url+api_dict['chat_candidate'],json={\n",
    "    'accountID': account_id,\n",
    "    'jobID': job_id,\n",
    "    'candidateID': candidate_id,\n",
    "    'candidateName': candidate_name,\n",
    "    'historyMsg': history\n",
    "})\n",
    "r.text"
   ]
  },
  {
   "cell_type": "code",
   "execution_count": null,
   "id": "dd212b7f-f87b-4e02-9b41-34d67446d08d",
   "metadata": {},
   "outputs": [],
   "source": []
  },
  {
   "cell_type": "markdown",
   "id": "d61d5ab5-4b77-4a73-bad7-f83cc1020d6e",
   "metadata": {},
   "source": [
    "### user ask chat"
   ]
  },
  {
   "cell_type": "code",
   "execution_count": 221,
   "id": "7c1f3ef9-f16c-4417-9cfa-f85beddf39ff",
   "metadata": {
    "tags": []
   },
   "outputs": [
    {
     "data": {
      "text/plain": [
       "'{\"ret\": 0, \"msg\": \"success\", \"data\": {\"nextStep\": \"need_contact\", \"nextStepContent\": \"\\\\u54b1\\\\u80fd\\\\u4e0d\\\\u80fd\\\\u7559\\\\u4e2a\\\\u7b80\\\\u5386\\\\u548c\\\\u8054\\\\u7cfb\\\\u65b9\\\\u5f0f\\\\u5462\"}}'"
      ]
     },
     "execution_count": 221,
     "metadata": {},
     "output_type": "execute_result"
    }
   ],
   "source": [
    "candidate_id='test_candidate3'\n",
    "candidate_name=candidate_id\n",
    "history=[{'speaker': 'user','msg':'你们这里上班月薪有100万么'}]\n",
    "r = requests.post(url+api_dict['chat_candidate'],json={\n",
    "    'accountID': account_id,\n",
    "    'jobID': job_id,\n",
    "    'candidateID': candidate_id,\n",
    "    'candidateName': candidate_name,\n",
    "    'historyMsg': history\n",
    "})\n",
    "r.text"
   ]
  },
  {
   "cell_type": "markdown",
   "id": "693f9495-04f9-469b-abee-1fc9216af7d9",
   "metadata": {},
   "source": [
    "## chat result"
   ]
  },
  {
   "cell_type": "code",
   "execution_count": 300,
   "id": "b4513ce1-73fa-45a8-a881-3508a5ba0eba",
   "metadata": {
    "tags": []
   },
   "outputs": [
    {
     "data": {
      "text/plain": [
       "'{\"ret\": 0, \"msg\": \"success\", \"data\": {\"status\": \"ok\"}}'"
      ]
     },
     "execution_count": 300,
     "metadata": {},
     "output_type": "execute_result"
    }
   ],
   "source": [
    "candidate_id='test_candidate2'\n",
    "candidate_name=candidate_id\n",
    "files = {'cv': open('test_cv.pdf','rb')}\n",
    "r = requests.post(url+api_dict['result_candidate'], data={\n",
    "    'accountID': account_id,\n",
    "    'jobID': job_id,\n",
    "    'candidateID': candidate_id,\n",
    "    'candidateName': candidate_name,\n",
    "    'phone': '139xxxx5556',\n",
    "    'wechat': '139xxxx5556'\n",
    "},files=files)\n",
    "r.text\n"
   ]
  },
  {
   "cell_type": "code",
   "execution_count": 273,
   "id": "a34ae427-05ce-47a8-979f-dddbd7af5f17",
   "metadata": {
    "tags": []
   },
   "outputs": [],
   "source": []
  },
  {
   "cell_type": "code",
   "execution_count": 273,
   "id": "5e1c3e94-9f4f-4209-8402-a73b53bce60a",
   "metadata": {
    "tags": []
   },
   "outputs": [],
   "source": []
  },
  {
   "cell_type": "code",
   "execution_count": 273,
   "id": "46336d7b-9d57-4c58-abdf-3969c034be26",
   "metadata": {
    "tags": []
   },
   "outputs": [],
   "source": []
  },
  {
   "cell_type": "code",
   "execution_count": 273,
   "id": "754087f2-c5a0-40b1-a1ec-c6db3e728582",
   "metadata": {
    "tags": []
   },
   "outputs": [],
   "source": []
  },
  {
   "cell_type": "code",
   "execution_count": 273,
   "id": "616734b6-33ee-4274-ade3-49b8170008e6",
   "metadata": {
    "tags": []
   },
   "outputs": [],
   "source": []
  },
  {
   "cell_type": "code",
   "execution_count": 273,
   "id": "d6755340-3378-4d6e-ab8a-6687d0235c92",
   "metadata": {
    "tags": []
   },
   "outputs": [],
   "source": []
  },
  {
   "cell_type": "code",
   "execution_count": 273,
   "id": "bdfe451b-9428-43d8-bd2e-555a5ecda4d9",
   "metadata": {
    "tags": []
   },
   "outputs": [],
   "source": []
  },
  {
   "cell_type": "code",
   "execution_count": 273,
   "id": "c0642146-7e06-4043-a0b7-cd592d178942",
   "metadata": {
    "tags": []
   },
   "outputs": [],
   "source": []
  },
  {
   "cell_type": "code",
   "execution_count": 273,
   "id": "ede0c966-e733-48a1-b49c-21876c65e8b4",
   "metadata": {
    "tags": []
   },
   "outputs": [],
   "source": []
  },
  {
   "cell_type": "code",
   "execution_count": 273,
   "id": "a3ff317d-c4fd-4ddc-9090-06c79f02b0a3",
   "metadata": {
    "tags": []
   },
   "outputs": [],
   "source": []
  },
  {
   "cell_type": "code",
   "execution_count": 273,
   "id": "cbf3b0ae-441a-4bf9-9017-f0b6b85938e4",
   "metadata": {
    "tags": []
   },
   "outputs": [],
   "source": []
  },
  {
   "cell_type": "code",
   "execution_count": 273,
   "id": "7118d632-2024-4d51-b7f5-72da0daf2445",
   "metadata": {
    "tags": []
   },
   "outputs": [],
   "source": []
  },
  {
   "cell_type": "code",
   "execution_count": 273,
   "id": "6ac330f2-9b94-4736-8ecd-224f54e3e297",
   "metadata": {
    "tags": []
   },
   "outputs": [],
   "source": []
  },
  {
   "cell_type": "code",
   "execution_count": 273,
   "id": "ece4c3aa-3896-4969-9163-a9817d7e3fdc",
   "metadata": {
    "tags": []
   },
   "outputs": [],
   "source": []
  },
  {
   "cell_type": "code",
   "execution_count": 273,
   "id": "c2cf3983-33d4-4a28-9e51-f700087047ab",
   "metadata": {
    "tags": []
   },
   "outputs": [],
   "source": []
  },
  {
   "cell_type": "code",
   "execution_count": 273,
   "id": "77268484-feae-43e6-8d5e-5e76db17d35f",
   "metadata": {
    "tags": []
   },
   "outputs": [],
   "source": []
  },
  {
   "cell_type": "code",
   "execution_count": 273,
   "id": "02d60545-d73c-444b-bb4d-4fb277c847b4",
   "metadata": {
    "tags": []
   },
   "outputs": [],
   "source": []
  },
  {
   "cell_type": "code",
   "execution_count": 273,
   "id": "b7a419d5-4e77-412b-b2e8-c0da9056f600",
   "metadata": {
    "tags": []
   },
   "outputs": [],
   "source": []
  },
  {
   "cell_type": "code",
   "execution_count": 273,
   "id": "f68624f9-848d-4562-9897-1a6ad0a349ac",
   "metadata": {
    "tags": []
   },
   "outputs": [],
   "source": []
  },
  {
   "cell_type": "code",
   "execution_count": 273,
   "id": "3c556d09-a6b7-4680-839e-9c59689c44b0",
   "metadata": {
    "tags": []
   },
   "outputs": [],
   "source": []
  },
  {
   "cell_type": "code",
   "execution_count": 273,
   "id": "2333d1c7-a716-4dc3-b43f-8be849f5e2bf",
   "metadata": {
    "tags": []
   },
   "outputs": [],
   "source": []
  },
  {
   "cell_type": "code",
   "execution_count": 273,
   "id": "96ddfd44-8a6f-478c-9c9c-c16ca99538db",
   "metadata": {
    "tags": []
   },
   "outputs": [],
   "source": []
  },
  {
   "cell_type": "code",
   "execution_count": null,
   "id": "46f43631-132a-4449-a670-71876a1447ee",
   "metadata": {
    "tags": []
   },
   "outputs": [],
   "source": []
  },
  {
   "cell_type": "code",
   "execution_count": null,
   "id": "b1240c44-3459-4594-a2d5-e3524cd8da72",
   "metadata": {
    "tags": []
   },
   "outputs": [],
   "source": []
  },
  {
   "cell_type": "code",
   "execution_count": null,
   "id": "a5fc36dc-9d0a-4018-bcf4-de5338f141c8",
   "metadata": {
    "tags": []
   },
   "outputs": [],
   "source": []
  },
  {
   "cell_type": "code",
   "execution_count": null,
   "id": "cee4f723-62be-4d4c-9e91-9def56586029",
   "metadata": {},
   "outputs": [],
   "source": []
  }
 ],
 "metadata": {
  "kernelspec": {
   "display_name": "audio_ana",
   "language": "python",
   "name": "audio_ana"
  },
  "language_info": {
   "codemirror_mode": {
    "name": "ipython",
    "version": 3
   },
   "file_extension": ".py",
   "mimetype": "text/x-python",
   "name": "python",
   "nbconvert_exporter": "python",
   "pygments_lexer": "ipython3",
   "version": "3.10.11"
  }
 },
 "nbformat": 4,
 "nbformat_minor": 5
}
