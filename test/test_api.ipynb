{
 "cells": [
  {
   "cell_type": "code",
   "execution_count": 2,
   "id": "f027cc33-9fe7-4c08-8d0c-82f7d0616d2c",
   "metadata": {
    "tags": []
   },
   "outputs": [],
   "source": [
    "import requests\n",
    "import json"
   ]
  },
  {
   "cell_type": "code",
   "execution_count": 3,
   "id": "2b160d77-8bc4-46ae-94fe-4c041a8e8fda",
   "metadata": {},
   "outputs": [],
   "source": [
    "def deal_json_invaild(data):\n",
    "    data = data.replace(' ','')\n",
    "    data = data.replace(\"\\n\", \"\\\\n\").replace(\"\\r\", \"\\\\r\").replace(\"\\n\\r\", \"\\\\n\\\\r\") \\\n",
    "        .replace(\"\\r\\n\", \"\\\\r\\\\n\") \\\n",
    "        .replace(\"\\t\", \"\\\\t\")\n",
    "    data = data.replace('\":\"', '&&testPassword1&&')\\\n",
    "        .replace('\":', '&&testPassword2&&')\\\n",
    "        .replace('\",\"', \"$$testPassword$$\")\\\n",
    "        .replace('{\"', \"@@testPassword@@\")\\\n",
    "        .replace('\"}', \"**testPassword**\")\n",
    "    # print(data)\n",
    "\n",
    "    data = data.replace('\"', r'\\\"')\\\n",
    "        .replace('&&testPassword1&&', '\":\"').replace('&&testPassword2&&','\":').replace('$$testPassword$$', '\",\"').replace('@@testPassword@@', '{\"').replace('**testPassword**', '\"}')\n",
    "    # print(data)\n",
    "    return data"
   ]
  },
  {
   "cell_type": "code",
   "execution_count": 4,
   "id": "5f5e2d9b-b7a6-4c25-b46f-34ceb9294bb0",
   "metadata": {
    "tags": []
   },
   "outputs": [],
   "source": [
    "def ensure_valid(raw_str):\n",
    "    return raw_str.replace(\"'\", \"\").replace(\" \", \"\")"
   ]
  },
  {
   "cell_type": "code",
   "execution_count": 4,
   "id": "bfde1e60-20bf-4923-874a-5a3a1997fa6f",
   "metadata": {},
   "outputs": [],
   "source": [
    "import oss2\n",
    "ali_user_name = 'LTAI5tRAbpW9MNjDDnDAVCsq'\n",
    "ali_pwd = '7RguIff46JiTrh43HkULgbXZPiIVqu'\n",
    "auth = oss2.Auth(ali_user_name, ali_pwd)\n",
    "# yourEndpoint填写Bucket所在地域对应的Endpoint。以华东1（杭州）为例，Endpoint填写为https://oss-cn-hangzhou.aliyuncs.com。\n",
    "# 填写Bucket名称。\n",
    "bucket = oss2.Bucket(auth, 'oss-ap-southeast-1.aliyuncs.com', 'aistormy2023')\n",
    "oss_url_prefix = \"https://aistormy2023.oss-ap-southeast-1.aliyuncs.com/\"\n",
    "\n",
    "file_name='test_cv.pdf'\n",
    "content = open(file_name, 'rb').read()\n",
    "ret = bucket.put_object(file_name, content)"
   ]
  },
  {
   "cell_type": "code",
   "execution_count": 97,
   "id": "814145a6-babb-4daa-87b1-55d830480a37",
   "metadata": {
    "tags": []
   },
   "outputs": [
    {
     "data": {
      "text/plain": [
       "'1-安排预定时间跟客户。\\n2-跟客户沟通解决问题。\\n3-安排接载客户跟司机。\\n4-回复客户whatsapp和别的软件的信息。'"
      ]
     },
     "execution_count": 97,
     "metadata": {},
     "output_type": "execute_result"
    }
   ],
   "source": [
    "ensure_valid(\"1-安排预定时间跟客户。 \\n2-跟客户沟通解决问题。 \\n3-安排接载客户跟司机 。 \\n4-回复客户 what's app  和别的软件的信息。\")"
   ]
  },
  {
   "cell_type": "code",
   "execution_count": 98,
   "id": "29c628ce-0745-43db-a088-1b3e3c97e8f4",
   "metadata": {
    "tags": []
   },
   "outputs": [
    {
     "data": {
      "text/plain": [
       "'1、一.负责热情招待客户，帮助客户设计挑选适合的服饰.\\n2、二.根据市场营销计划，完成部门销售指标；\\n3、三.做好店内货品整理陈列销售工作。每月底进行盘点核对库存电脑系统的正常运转操作。\\n4、四.发展新客户,增加产品销售范围；.'"
      ]
     },
     "execution_count": 98,
     "metadata": {},
     "output_type": "execute_result"
    }
   ],
   "source": [
    "ensure_valid(\"1、 一.负责热情招待客户，帮助客户设计挑选适合的'服饰.\\n2、 二.根据市场营销计划，完成部门销售指标；\\n3、 三.做好店内货品整理陈列销售工作。每月底进行盘点核对库存 电脑系统的正常运转操作。\\n4、 四.发展新客户,增加产品销售范 围；.\")"
   ]
  },
  {
   "cell_type": "code",
   "execution_count": 99,
   "id": "1a1086a0-3050-4320-8710-5e0629303ff1",
   "metadata": {
    "tags": []
   },
   "outputs": [
    {
     "data": {
      "text/plain": [
       "'主要负责前台服务、会议服务和管理、旅行服务与管理、收发服务等。接听电话、转接电话或记录信息，确保及时准确。做好接待、登记、引导等工作，及时向来访客人通报。维护公司的清洁卫生，展示公司的良好形象。管理每天的出勤情况。收发公司快递、信件、包裹等业务。协助主管做好公司各部门之间的协调工作，积极完成上级交办的各项任务。'"
      ]
     },
     "execution_count": 99,
     "metadata": {},
     "output_type": "execute_result"
    }
   ],
   "source": [
    "ensure_valid(\"主要负责前台服务、会议服务和管理、旅行服务与管理、收发服务等。接听电话、转接电话或记录信息，确保及 时准确。做好接待、登记、引导等工作，及时向来访客人通报。维护公司的清洁卫生，展示公司的良好形象。管理每天的出勤情况。收发公司快递、信件、包裹等业务。协助主管做好公司各部门之间的协调工作，积极完成上级交办的各项任务。\")"
   ]
  },
  {
   "cell_type": "code",
   "execution_count": null,
   "id": "e338caa7-54e2-4429-9e92-60e4127117f0",
   "metadata": {
    "tags": []
   },
   "outputs": [],
   "source": []
  },
  {
   "cell_type": "code",
   "execution_count": null,
   "id": "8851534e-0131-4e60-af32-1ebc8eaf177f",
   "metadata": {},
   "outputs": [],
   "source": []
  },
  {
   "cell_type": "code",
   "execution_count": null,
   "id": "c5d5e5b5-b247-472b-9ec1-31a561da7839",
   "metadata": {},
   "outputs": [],
   "source": []
  },
  {
   "attachments": {},
   "cell_type": "markdown",
   "id": "c0aca52a-1a4e-4984-b6c4-bd12058827f3",
   "metadata": {
    "tags": []
   },
   "source": [
    "# v2.0"
   ]
  },
  {
   "cell_type": "code",
   "execution_count": 5,
   "id": "0581726b-2990-40cd-9bc0-9b7e14c6676d",
   "metadata": {},
   "outputs": [],
   "source": [
    "# url = 'http://114.248.215.173:32040'\n",
    "url = 'http://192.168.0.109:2060'\n",
    "api_list = [\n",
    "\"/test\",\n",
    "\"/recruit/job/register\",\n",
    "\"/recruit/job/query\",\n",
    "\"/recruit/account/register\",\n",
    "\"/recruit/account/query\",\n",
    "\"/recruit/account/task/fetch\",\n",
    "\"/recruit/account/task/report\",\n",
    "\"/recruit/candidate/filter\",\n",
    "\"/recruit/candidate/chat\",\n",
    "\"/recruit/candidate/result\"\n",
    "]"
   ]
  },
  {
   "cell_type": "code",
   "execution_count": 6,
   "id": "f58b1166-8fb5-44a2-942c-47b7b336e94b",
   "metadata": {
    "tags": []
   },
   "outputs": [
    {
     "name": "stdout",
     "output_type": "stream",
     "text": [
      "test\t\t\t/test\n",
      "register_job\t\t\t/recruit/job/register\n",
      "query_job\t\t\t/recruit/job/query\n",
      "register_account\t\t\t/recruit/account/register\n",
      "query_account\t\t\t/recruit/account/query\n",
      "fetch_task\t\t\t/recruit/account/task/fetch\n",
      "report_task\t\t\t/recruit/account/task/report\n",
      "filter_candidate\t\t\t/recruit/candidate/filter\n",
      "chat_candidate\t\t\t/recruit/candidate/chat\n",
      "result_candidate\t\t\t/recruit/candidate/result\n"
     ]
    }
   ],
   "source": [
    "api_dict = {}\n",
    "for api in api_list:\n",
    "    sp = api[1:].split('/')\n",
    "    api_key = sp[-1]\n",
    "    if len(sp)>1:\n",
    "        api_key+=f'_{sp[-2]}'\n",
    "    api_dict[api_key]=api\n",
    "    print(f'{api_key}\\t\\t\\t{api}')"
   ]
  },
  {
   "attachments": {},
   "cell_type": "markdown",
   "id": "d8d5c878-c4f3-4065-9c36-d3c3276b1cab",
   "metadata": {},
   "source": [
    "## job op"
   ]
  },
  {
   "cell_type": "code",
   "execution_count": 11,
   "id": "004f0a5e-7e12-4298-856b-5418aca43066",
   "metadata": {
    "tags": []
   },
   "outputs": [
    {
     "data": {
      "text/plain": [
       "'{\"ret\": 0, \"msg\": \"success\", \"data\": {\"jobID\": \"job_Boss_general-beijing-kefu-manual-id\"}}'"
      ]
     },
     "execution_count": 11,
     "metadata": {},
     "output_type": "execute_result"
    }
   ],
   "source": [
    "r = requests.post(url+api_dict['register_job'],json={\n",
    "    'platformType': 'Boss',\n",
    "    'platformID': 'general-beijing-kefu-manual-id',\n",
    "    'jobName': '通用北京客服',\n",
    "    'jd': '''岗位名称：客服\n",
    "岗位职责：负责接听热线，解答解决用户的查询、咨询和业务办理及疑难问题\n",
    "岗位要求：38岁以下，中专及以上学历，普通话标准，良好的沟通表达能力\n",
    "薪资福利：综合薪资6000-20000\n",
    "工作时间：每天8小时，不加班\n",
    "\n",
    "打招呼\n",
    "我正在招客服专员，学历要求中专，薪资6000-20000，入职缴纳五险一金\n",
    "看您信息非常符合，请问您是否有兴趣进一步沟通？''',\n",
    "    'robotApi': '/vision/chat/receive/message/generic/v1',\n",
    "    'jobConfig': {\"group_msg\":\"beijing\",\"filter_config\":\"common_custom_service_filter\"}\n",
    "})\n",
    "r.text"
   ]
  },
  {
   "cell_type": "code",
   "execution_count": 7,
   "id": "3c51dd80-123c-42f5-8597-1238d64fcfbc",
   "metadata": {
    "tags": []
   },
   "outputs": [
    {
     "data": {
      "text/plain": [
       "'{\"ret\": 0, \"msg\": \"success\", \"data\": {\"jobID\": \"job_Boss_general-beijing-kefu-manual-id\"}}'"
      ]
     },
     "execution_count": 7,
     "metadata": {},
     "output_type": "execute_result"
    }
   ],
   "source": [
    "r = requests.post(url+api_dict['query_job'],json={\n",
    "    'platformType': 'Boss',\n",
    "    'platformID': 'general-beijing-kefu-manual-id'\n",
    "})\n",
    "r.text"
   ]
  },
  {
   "cell_type": "code",
   "execution_count": 8,
   "id": "77da84c7-ba32-47b3-89e0-28cfe233f452",
   "metadata": {
    "tags": []
   },
   "outputs": [],
   "source": [
    "job_id=\"job_Boss_general-beijing-kefu-manual-id\""
   ]
  },
  {
   "attachments": {},
   "cell_type": "markdown",
   "id": "2cdb5dcb-b5c3-49ab-ac47-4b703a3954fe",
   "metadata": {},
   "source": [
    "## account op"
   ]
  },
  {
   "cell_type": "code",
   "execution_count": 15,
   "id": "3848a37e",
   "metadata": {},
   "outputs": [
    {
     "data": {
      "text/plain": [
       "[{'helloSum': 50,\n",
       "  'taskType': 'batchTouch',\n",
       "  'timeMount': [{'time': '09:00', 'mount': 25},\n",
       "   {'time': '16:00', 'mount': 25}],\n",
       "  'filter': {'city': {'area': '北京'},\n",
       "   'education': ['中专/中技', '高中', '大专', '本科', '硕士', '博士'],\n",
       "   'pay': ['5-10K'],\n",
       "   'status': ['离职-随时到岗']},\n",
       "  'jobID': 'job_Boss_general-beijing-kefu-manual-id'}]"
      ]
     },
     "execution_count": 15,
     "metadata": {},
     "output_type": "execute_result"
    }
   ],
   "source": [
    "task_config = [{\"helloSum\": 50, \"taskType\": \"batchTouch\", \"timeMount\": [{\"time\": \"09:00\", \"mount\": 25}, {\"time\": \"16:00\", \"mount\": 25}], \"filter\": {\"city\": {\"area\": \"北京\"}, \"education\": [\"中专/中技\", \"高中\", \"大专\", \"本科\", \"硕士\", \"博士\"], \"pay\": [\"5-10K\"], \"status\": [\"离职-随时到岗\"]}, \"jobID\": job_id}]\n",
    "task_config"
   ]
  },
  {
   "cell_type": "code",
   "execution_count": 17,
   "id": "cd5f378b-32b5-4899-b14b-70fab444948f",
   "metadata": {
    "tags": []
   },
   "outputs": [
    {
     "data": {
      "text/plain": [
       "'{\"ret\": 0, \"msg\": \"success\", \"data\": {\"accountID\": \"account_Boss_test_id\"}}'"
      ]
     },
     "execution_count": 17,
     "metadata": {},
     "output_type": "execute_result"
    }
   ],
   "source": [
    "r = requests.post(url+api_dict['register_account'],json={\n",
    "    'platformType': 'Boss',\n",
    "    'platformID': 'test_id',\n",
    "    'jobs': [job_id],\n",
    "    'desc': '测试人员',\n",
    "    'taskConfig': task_config\n",
    "})\n",
    "r.text"
   ]
  },
  {
   "cell_type": "code",
   "execution_count": 9,
   "id": "5e4c6d3a-b3e0-49a2-a835-bd3275663c28",
   "metadata": {},
   "outputs": [],
   "source": [
    "account_id='account_Boss_test_id'"
   ]
  },
  {
   "cell_type": "code",
   "execution_count": null,
   "id": "56675052-dc1c-46fe-86fd-2e6bd0868262",
   "metadata": {},
   "outputs": [],
   "source": []
  },
  {
   "cell_type": "code",
   "execution_count": 90,
   "id": "831df4ac-01a1-46a8-9aa5-45c016dd591e",
   "metadata": {
    "tags": []
   },
   "outputs": [],
   "source": [
    "shijiazhuang_task_config = [{\"helloSum\": 50, \"taskType\": \"batchTouch\", \"timeMount\": [{\"time\": \"09:00\", \"mount\": 25}, {\"time\": \"16:00\", \"mount\": 25}], \"filter\": {\"city\": {\"area\": \"石家庄\"}, \"education\": [\"中专/中技\", \"高中\", \"大专\", \"本科\", \"硕士\", \"博士\"], \"pay\": [\"5-10K\"], \"status\": [\"离职-随时到岗\"]}, \"jobID\": shijiazhuang_job_id}]\n",
    "                             \n",
    "                             "
   ]
  },
  {
   "cell_type": "code",
   "execution_count": 91,
   "id": "76531abf-1e5f-4a95-98f4-742e580ef65c",
   "metadata": {
    "tags": []
   },
   "outputs": [
    {
     "data": {
      "text/plain": [
       "[{'helloSum': 50,\n",
       "  'taskType': 'batchTouch',\n",
       "  'timeMount': [{'time': '09:00', 'mount': 25},\n",
       "   {'time': '16:00', 'mount': 25}],\n",
       "  'filter': {'city': {'area': '石家庄'},\n",
       "   'education': ['中专/中技', '高中', '大专', '本科', '硕士', '博士'],\n",
       "   'pay': ['5-10K'],\n",
       "   'status': ['离职-随时到岗']},\n",
       "  'jobID': 'job_Boss_unicom-kefu-manual-id'}]"
      ]
     },
     "execution_count": 91,
     "metadata": {},
     "output_type": "execute_result"
    }
   ],
   "source": [
    "shijiazhuang_task_config"
   ]
  },
  {
   "cell_type": "code",
   "execution_count": 19,
   "id": "324a6735-1883-4081-bb9e-9e8c7acf4536",
   "metadata": {
    "tags": []
   },
   "outputs": [],
   "source": [
    "# r = requests.post(url+api_dict['register_account'],json={\n",
    "#     'platformType': 'Boss',\n",
    "#     'platformID': '19887133',\n",
    "#     'jobs': [shijiazhuang_job_id],\n",
    "#     'desc': '陈旭彤',\n",
    "#     'taskConfig': shijiazhuang_task_config\n",
    "# })\n",
    "# r.text"
   ]
  },
  {
   "cell_type": "code",
   "execution_count": 20,
   "id": "52b43526-05f3-494b-8a18-9b6622754090",
   "metadata": {
    "tags": []
   },
   "outputs": [],
   "source": [
    "# r = requests.post(url+api_dict['register_account'],json={\n",
    "#     'platformType': 'Boss',\n",
    "#     'platformID': '4431156',\n",
    "#     'jobs': [shijiazhuang_job_id],\n",
    "#     'desc': '田润和',\n",
    "#     'taskConfig': shijiazhuang_task_config\n",
    "# })\n",
    "# r.text"
   ]
  },
  {
   "cell_type": "code",
   "execution_count": 21,
   "id": "75a7bee3-a572-4a51-af77-491618b02783",
   "metadata": {
    "tags": []
   },
   "outputs": [],
   "source": [
    "# account_id=\"account_Boss_27175761\""
   ]
  },
  {
   "attachments": {},
   "cell_type": "markdown",
   "id": "97799980-e752-4efc-ab88-cd02202fa1f8",
   "metadata": {},
   "source": [
    "## task op"
   ]
  },
  {
   "cell_type": "code",
   "execution_count": 22,
   "id": "e1243385-4bc2-4841-b8b9-5703adc2264b",
   "metadata": {
    "tags": []
   },
   "outputs": [
    {
     "data": {
      "text/plain": [
       "'{\"ret\": 0, \"msg\": \"success\", \"data\": {\"task\": [{\"helloSum\": 50, \"taskType\": \"batchTouch\", \"timeMount\": [{\"time\": \"09:00\", \"mount\": 25}, {\"time\": \"16:00\", \"mount\": 25}], \"filter\": {\"city\": {\"area\": \"\\\\u5317\\\\u4eac\"}, \"education\": [\"\\\\u4e2d\\\\u4e13/\\\\u4e2d\\\\u6280\", \"\\\\u9ad8\\\\u4e2d\", \"\\\\u5927\\\\u4e13\", \"\\\\u672c\\\\u79d1\", \"\\\\u7855\\\\u58eb\", \"\\\\u535a\\\\u58eb\"], \"pay\": [\"5-10K\"], \"status\": [\"\\\\u79bb\\\\u804c-\\\\u968f\\\\u65f6\\\\u5230\\\\u5c97\"]}, \"jobID\": \"job_Boss_general-beijing-kefu-manual-id\"}]}}'"
      ]
     },
     "execution_count": 22,
     "metadata": {},
     "output_type": "execute_result"
    }
   ],
   "source": [
    "r = requests.post(url+api_dict['fetch_task'],json={\n",
    "    'accountID': account_id,\n",
    "})"
   ]
  },
  {
   "cell_type": "code",
   "execution_count": 23,
   "id": "4bafbe1f",
   "metadata": {},
   "outputs": [
    {
     "data": {
      "text/plain": [
       "{'ret': 0,\n",
       " 'msg': 'success',\n",
       " 'data': {'task': [{'helloSum': 50,\n",
       "    'taskType': 'batchTouch',\n",
       "    'timeMount': [{'time': '09:00', 'mount': 25},\n",
       "     {'time': '16:00', 'mount': 25}],\n",
       "    'filter': {'city': {'area': '北京'},\n",
       "     'education': ['中专/中技', '高中', '大专', '本科', '硕士', '博士'],\n",
       "     'pay': ['5-10K'],\n",
       "     'status': ['离职-随时到岗']},\n",
       "    'jobID': 'job_Boss_general-beijing-kefu-manual-id'}]}}"
      ]
     },
     "execution_count": 23,
     "metadata": {},
     "output_type": "execute_result"
    }
   ],
   "source": [
    "r.json()"
   ]
  },
  {
   "cell_type": "code",
   "execution_count": null,
   "id": "79a63eba-bafb-496c-934a-f612fa98eeb9",
   "metadata": {
    "tags": []
   },
   "outputs": [],
   "source": []
  },
  {
   "cell_type": "code",
   "execution_count": 31,
   "id": "19675278-24b0-464d-bec0-cc760863a59c",
   "metadata": {
    "tags": []
   },
   "outputs": [
    {
     "data": {
      "text/plain": [
       "'{\"ret\": 0, \"msg\": \"success\", \"data\": {\"status\": \"ok\"}}'"
      ]
     },
     "execution_count": 31,
     "metadata": {},
     "output_type": "execute_result"
    }
   ],
   "source": [
    "r = requests.post(url+api_dict['report_task'],json={\n",
    "    'accountID': account_id,\n",
    "    'taskStatus': [{\n",
    "        'taskType': 'batchTouch',\n",
    "        'details': {\n",
    "            'candidateList': ['mock-589791359']\n",
    "        }\n",
    "    }]\n",
    "})\n",
    "r.text"
   ]
  },
  {
   "cell_type": "code",
   "execution_count": 55,
   "id": "75277429-95e8-4c5e-9a16-652fd138c677",
   "metadata": {
    "tags": []
   },
   "outputs": [
    {
     "data": {
      "text/plain": [
       "'{\"ret\": 0, \"msg\": \"success\", \"data\": {\"task\": [{\"helloSum\": 50, \"taskType\": \"batchTouch\", \"timeMount\": [{\"time\": \"09:00\", \"mount\": 25}, {\"time\": \"16:00\", \"mount\": 25}], \"jobID\": \"job_Boss_minsheng-kefu-manual-id\"}]}}'"
      ]
     },
     "execution_count": 55,
     "metadata": {},
     "output_type": "execute_result"
    }
   ],
   "source": [
    "r = requests.post(url+api_dict['fetch_task'],json={\n",
    "    'accountID': account_id,\n",
    "})\n",
    "r.text"
   ]
  },
  {
   "attachments": {},
   "cell_type": "markdown",
   "id": "e50cbaf0-4538-47e6-88ba-f407428028dc",
   "metadata": {},
   "source": [
    "## candidate filter"
   ]
  },
  {
   "cell_type": "code",
   "execution_count": 53,
   "id": "83351a44-b335-4a12-ab92-761f0dc1d5e7",
   "metadata": {
    "tags": []
   },
   "outputs": [],
   "source": [
    "# boss_candidate_info = json.loads(open('test_candidate.json').read())\n",
    "# r = requests.post(url+api_dict['filter_candidate'],json={\n",
    "#     'accountID': account_id,\n",
    "#     'jobID': job_id,\n",
    "#     'candidateInfo': boss_candidate_info,\n",
    "    \n",
    "# })\n",
    "# r.text"
   ]
  },
  {
   "cell_type": "code",
   "execution_count": 24,
   "id": "09d9e594-0db0-4c73-be99-b1a4aceeb8bd",
   "metadata": {
    "tags": []
   },
   "outputs": [
    {
     "name": "stdout",
     "output_type": "stream",
     "text": [
      "item /home/human/workspace/hunter_robot.v2.0/test/fail/533012382_王文瑷.json return {\"ret\": 0, \"msg\": \"success\", \"data\": {\"touch\": false}}\n",
      "item /home/human/workspace/hunter_robot.v2.0/test/fail/554580321_徐希纯.json return {\"ret\": 0, \"msg\": \"success\", \"data\": {\"touch\": false}}\n",
      "item /home/human/workspace/hunter_robot.v2.0/test/fail/544308346_张志茹.json return {\"ret\": 0, \"msg\": \"success\", \"data\": {\"touch\": false}}\n",
      "item /home/human/workspace/hunter_robot.v2.0/test/fail/205728403_邓蕾.json return {\"ret\": 0, \"msg\": \"success\", \"data\": {\"touch\": false}}\n",
      "item /home/human/workspace/hunter_robot.v2.0/test/fail/76267731_赵女士.json return {\"ret\": 0, \"msg\": \"success\", \"data\": {\"touch\": false}}\n",
      "item /home/human/workspace/hunter_robot.v2.0/test/fail/511864841_王静.json return {\"ret\": 0, \"msg\": \"success\", \"data\": {\"touch\": false}}\n",
      "item /home/human/workspace/hunter_robot.v2.0/test/fail/539376409_吴征服.json return {\"ret\": 0, \"msg\": \"success\", \"data\": {\"touch\": false}}\n",
      "item /home/human/workspace/hunter_robot.v2.0/test/fail/63089625_Lisa.json return {\"ret\": 0, \"msg\": \"success\", \"data\": {\"touch\": false}}\n",
      "item /home/human/workspace/hunter_robot.v2.0/test/fail/606516534_程子硕.json return {\"ret\": 0, \"msg\": \"success\", \"data\": {\"touch\": false}}\n",
      "item /home/human/workspace/hunter_robot.v2.0/test/fail/64057657_厉建超.json return {\"ret\": 0, \"msg\": \"success\", \"data\": {\"touch\": false}}\n",
      "item /home/human/workspace/hunter_robot.v2.0/test/fail/92751612_玲玲.json return {\"ret\": 0, \"msg\": \"success\", \"data\": {\"touch\": false}}\n",
      "item /home/human/workspace/hunter_robot.v2.0/test/fail/582329069_冯研.json return {\"ret\": 0, \"msg\": \"success\", \"data\": {\"touch\": false}}\n",
      "item /home/human/workspace/hunter_robot.v2.0/test/fail/27028881_韩韶洋.json return {\"ret\": 0, \"msg\": \"success\", \"data\": {\"touch\": false}}\n",
      "item /home/human/workspace/hunter_robot.v2.0/test/fail/558718219_李轻.json return {\"ret\": 0, \"msg\": \"success\", \"data\": {\"touch\": false}}\n",
      "item /home/human/workspace/hunter_robot.v2.0/test/fail/586932216_李虎.json return {\"ret\": 0, \"msg\": \"success\", \"data\": {\"touch\": false}}\n",
      "item /home/human/workspace/hunter_robot.v2.0/test/fail/528001370_李维维.json return {\"ret\": 0, \"msg\": \"success\", \"data\": {\"touch\": false}}\n",
      "item /home/human/workspace/hunter_robot.v2.0/test/fail/582100269_奥特曼.json return {\"ret\": 0, \"msg\": \"success\", \"data\": {\"touch\": false}}\n",
      "item /home/human/workspace/hunter_robot.v2.0/test/fail/559785607_李子航.json return {\"ret\": 0, \"msg\": \"success\", \"data\": {\"touch\": false}}\n",
      "item /home/human/workspace/hunter_robot.v2.0/test/fail/11882573_马良.json return {\"ret\": 0, \"msg\": \"success\", \"data\": {\"touch\": false}}\n",
      "item /home/human/workspace/hunter_robot.v2.0/test/fail/36083841_刘海军.json return {\"ret\": 0, \"msg\": \"success\", \"data\": {\"touch\": false}}\n",
      "item /home/human/workspace/hunter_robot.v2.0/test/fail/552529324_许雷广.json return {\"ret\": 0, \"msg\": \"success\", \"data\": {\"touch\": false}}\n",
      "item /home/human/workspace/hunter_robot.v2.0/test/fail/75137378_成先生.json return {\"ret\": 0, \"msg\": \"success\", \"data\": {\"touch\": false}}\n",
      "item /home/human/workspace/hunter_robot.v2.0/test/fail/112507135_冯女士.json return {\"ret\": 0, \"msg\": \"success\", \"data\": {\"touch\": false}}\n",
      "item /home/human/workspace/hunter_robot.v2.0/test/fail/68926941_郑子彤.json return {\"ret\": 0, \"msg\": \"success\", \"data\": {\"touch\": false}}\n",
      "item /home/human/workspace/hunter_robot.v2.0/test/fail/588331646_朱云博.json return {\"ret\": 0, \"msg\": \"success\", \"data\": {\"touch\": false}}\n",
      "item /home/human/workspace/hunter_robot.v2.0/test/fail/557436007_吴曼.json return {\"ret\": 0, \"msg\": \"success\", \"data\": {\"touch\": false}}\n",
      "item /home/human/workspace/hunter_robot.v2.0/test/fail/105979089_潘硕.json return {\"ret\": 0, \"msg\": \"success\", \"data\": {\"touch\": false}}\n",
      "item /home/human/workspace/hunter_robot.v2.0/test/fail/561966084_吕新星.json return {\"ret\": 0, \"msg\": \"success\", \"data\": {\"touch\": false}}\n",
      "item /home/human/workspace/hunter_robot.v2.0/test/fail/94075465_赵玉琪.json return {\"ret\": 0, \"msg\": \"success\", \"data\": {\"touch\": false}}\n",
      "item /home/human/workspace/hunter_robot.v2.0/test/fail/585733498_烨会美.json return {\"ret\": 0, \"msg\": \"success\", \"data\": {\"touch\": false}}\n",
      "item /home/human/workspace/hunter_robot.v2.0/test/fail/525939187_张佳琦.json return {\"ret\": 0, \"msg\": \"success\", \"data\": {\"touch\": false}}\n",
      "item /home/human/workspace/hunter_robot.v2.0/test/fail/81251945_胡翼翔.json return {\"ret\": 0, \"msg\": \"success\", \"data\": {\"touch\": false}}\n",
      "item /home/human/workspace/hunter_robot.v2.0/test/fail/608678706_张梓玄.json return {\"ret\": 0, \"msg\": \"success\", \"data\": {\"touch\": false}}\n",
      "item /home/human/workspace/hunter_robot.v2.0/test/fail/558596540_黄女士.json return {\"ret\": 0, \"msg\": \"success\", \"data\": {\"touch\": false}}\n",
      "item /home/human/workspace/hunter_robot.v2.0/test/fail/503941524_续王腾.json return {\"ret\": 0, \"msg\": \"success\", \"data\": {\"touch\": false}}\n",
      "item /home/human/workspace/hunter_robot.v2.0/test/fail/506783818_奚女士.json return {\"ret\": 0, \"msg\": \"success\", \"data\": {\"touch\": false}}\n",
      "item /home/human/workspace/hunter_robot.v2.0/test/fail/37292178_张洪波.json return {\"ret\": 0, \"msg\": \"success\", \"data\": {\"touch\": false}}\n",
      "item /home/human/workspace/hunter_robot.v2.0/test/fail/600682291_zzzz.json return {\"ret\": 0, \"msg\": \"success\", \"data\": {\"touch\": false}}\n",
      "item /home/human/workspace/hunter_robot.v2.0/test/fail/26521075_金英梅.json return {\"ret\": 0, \"msg\": \"success\", \"data\": {\"touch\": false}}\n",
      "item /home/human/workspace/hunter_robot.v2.0/test/fail/1706687_李惠.json return {\"ret\": 0, \"msg\": \"success\", \"data\": {\"touch\": false}}\n",
      "item /home/human/workspace/hunter_robot.v2.0/test/fail/601206759_杨泽康.json return {\"ret\": 0, \"msg\": \"success\", \"data\": {\"touch\": false}}\n",
      "item /home/human/workspace/hunter_robot.v2.0/test/fail/20841873_李京.json return {\"ret\": 0, \"msg\": \"success\", \"data\": {\"touch\": false}}\n",
      "item /home/human/workspace/hunter_robot.v2.0/test/fail/124371592_郭鹏宇.json return {\"ret\": 0, \"msg\": \"success\", \"data\": {\"touch\": false}}\n",
      "item /home/human/workspace/hunter_robot.v2.0/test/fail/510626430_王辉.json return {\"ret\": 0, \"msg\": \"success\", \"data\": {\"touch\": false}}\n",
      "item /home/human/workspace/hunter_robot.v2.0/test/fail/27827670_张女士.json return {\"ret\": 0, \"msg\": \"success\", \"data\": {\"touch\": false}}\n",
      "item /home/human/workspace/hunter_robot.v2.0/test/fail/12046765_张雯婷.json return {\"ret\": 0, \"msg\": \"success\", \"data\": {\"touch\": false}}\n",
      "item /home/human/workspace/hunter_robot.v2.0/test/fail/119568378_魏晨阳.json return {\"ret\": 0, \"msg\": \"success\", \"data\": {\"touch\": false}}\n",
      "item /home/human/workspace/hunter_robot.v2.0/test/fail/543918352_贾瑛莹.json return {\"ret\": 0, \"msg\": \"success\", \"data\": {\"touch\": false}}\n",
      "item /home/human/workspace/hunter_robot.v2.0/test/fail/542039725_张幸淞.json return {\"ret\": 0, \"msg\": \"success\", \"data\": {\"touch\": false}}\n",
      "item /home/human/workspace/hunter_robot.v2.0/test/fail/545849940_齐世豪.json return {\"ret\": 0, \"msg\": \"success\", \"data\": {\"touch\": false}}\n",
      "item /home/human/workspace/hunter_robot.v2.0/test/fail/580033674_李玲茹.json return {\"ret\": 0, \"msg\": \"success\", \"data\": {\"touch\": false}}\n",
      "item /home/human/workspace/hunter_robot.v2.0/test/fail/613698950_仇雨生.json return {\"ret\": 0, \"msg\": \"success\", \"data\": {\"touch\": false}}\n",
      "item /home/human/workspace/hunter_robot.v2.0/test/fail/606333710_张硕培.json return {\"ret\": 0, \"msg\": \"success\", \"data\": {\"touch\": false}}\n",
      "item /home/human/workspace/hunter_robot.v2.0/test/fail/114202004_陈天.json return {\"ret\": 0, \"msg\": \"success\", \"data\": {\"touch\": false}}\n",
      "item /home/human/workspace/hunter_robot.v2.0/test/fail/576461637_张彤彤.json return {\"ret\": 0, \"msg\": \"success\", \"data\": {\"touch\": false}}\n",
      "item /home/human/workspace/hunter_robot.v2.0/test/fail/109692544_马煜.json return {\"ret\": 0, \"msg\": \"success\", \"data\": {\"touch\": false}}\n",
      "item /home/human/workspace/hunter_robot.v2.0/test/fail/614193128_吴慧抒.json return {\"ret\": 0, \"msg\": \"success\", \"data\": {\"touch\": false}}\n",
      "item /home/human/workspace/hunter_robot.v2.0/test/fail/75775353_王晓婵.json return {\"ret\": 0, \"msg\": \"success\", \"data\": {\"touch\": false}}\n",
      "item /home/human/workspace/hunter_robot.v2.0/test/fail/105757493_郭朝阳.json return {\"ret\": 0, \"msg\": \"success\", \"data\": {\"touch\": false}}\n",
      "item /home/human/workspace/hunter_robot.v2.0/test/fail/524551708_杜梦楠.json return {\"ret\": 0, \"msg\": \"success\", \"data\": {\"touch\": false}}\n",
      "item /home/human/workspace/hunter_robot.v2.0/test/fail/612621845_李天祥.json return {\"ret\": 0, \"msg\": \"success\", \"data\": {\"touch\": false}}\n",
      "item /home/human/workspace/hunter_robot.v2.0/test/fail/29193922_高琳喆.json return {\"ret\": 0, \"msg\": \"success\", \"data\": {\"touch\": false}}\n",
      "item /home/human/workspace/hunter_robot.v2.0/test/fail/84694337_杨宁.json return {\"ret\": 0, \"msg\": \"success\", \"data\": {\"touch\": false}}\n",
      "item /home/human/workspace/hunter_robot.v2.0/test/fail/613484013_韦佳萌.json return {\"ret\": 0, \"msg\": \"success\", \"data\": {\"touch\": false}}\n",
      "item /home/human/workspace/hunter_robot.v2.0/test/fail/98690401_刘钰.json return {\"ret\": 0, \"msg\": \"success\", \"data\": {\"touch\": false}}\n",
      "item /home/human/workspace/hunter_robot.v2.0/test/fail/579576144_秦向华.json return {\"ret\": 0, \"msg\": \"success\", \"data\": {\"touch\": false}}\n",
      "item /home/human/workspace/hunter_robot.v2.0/test/fail/50622026_王莹莹.json return {\"ret\": 0, \"msg\": \"success\", \"data\": {\"touch\": false}}\n",
      "item /home/human/workspace/hunter_robot.v2.0/test/fail/501785525_贾卉.json return {\"ret\": 0, \"msg\": \"success\", \"data\": {\"touch\": false}}\n",
      "item /home/human/workspace/hunter_robot.v2.0/test/fail/61922510_张艳思.json return {\"ret\": 0, \"msg\": \"success\", \"data\": {\"touch\": false}}\n",
      "item /home/human/workspace/hunter_robot.v2.0/test/fail/508542604_晓晓.json return {\"ret\": 0, \"msg\": \"success\", \"data\": {\"touch\": false}}\n",
      "item /home/human/workspace/hunter_robot.v2.0/test/fail/606214390_娜娜.json return {\"ret\": 0, \"msg\": \"success\", \"data\": {\"touch\": false}}\n",
      "item /home/human/workspace/hunter_robot.v2.0/test/fail/118900317_高文倩.json return {\"ret\": 0, \"msg\": \"success\", \"data\": {\"touch\": false}}\n",
      "item /home/human/workspace/hunter_robot.v2.0/test/fail/76927972_路毕彤.json return {\"ret\": 0, \"msg\": \"success\", \"data\": {\"touch\": false}}\n",
      "item /home/human/workspace/hunter_robot.v2.0/test/fail/27764585_白浩楠.json return {\"ret\": 0, \"msg\": \"success\", \"data\": {\"touch\": false}}\n",
      "item /home/human/workspace/hunter_robot.v2.0/test/fail/579041520_崔沂冰.json return {\"ret\": 0, \"msg\": \"success\", \"data\": {\"touch\": false}}\n",
      "item /home/human/workspace/hunter_robot.v2.0/test/fail/46850637_李向炜.json return {\"ret\": 0, \"msg\": \"success\", \"data\": {\"touch\": false}}\n",
      "item /home/human/workspace/hunter_robot.v2.0/test/fail/575364172_吕若鑫.json return {\"ret\": 0, \"msg\": \"success\", \"data\": {\"touch\": false}}\n",
      "item /home/human/workspace/hunter_robot.v2.0/test/fail/538720220_王如钰.json return {\"ret\": 0, \"msg\": \"success\", \"data\": {\"touch\": false}}\n",
      "item /home/human/workspace/hunter_robot.v2.0/test/fail/516734615_朱学良.json return {\"ret\": 0, \"msg\": \"success\", \"data\": {\"touch\": false}}\n",
      "item /home/human/workspace/hunter_robot.v2.0/test/fail/51306749_刘三琴.json return {\"ret\": 0, \"msg\": \"success\", \"data\": {\"touch\": false}}\n",
      "item /home/human/workspace/hunter_robot.v2.0/test/fail/508366686_杨佳佳.json return {\"ret\": 0, \"msg\": \"success\", \"data\": {\"touch\": false}}\n",
      "item /home/human/workspace/hunter_robot.v2.0/test/fail/613156899_俎立月.json return {\"ret\": 0, \"msg\": \"success\", \"data\": {\"touch\": false}}\n",
      "item /home/human/workspace/hunter_robot.v2.0/test/fail/92823537_店铺.json return {\"ret\": 0, \"msg\": \"success\", \"data\": {\"touch\": false}}\n",
      "item /home/human/workspace/hunter_robot.v2.0/test/fail/48388537_许小姐.json return {\"ret\": 0, \"msg\": \"success\", \"data\": {\"touch\": false}}\n",
      "item /home/human/workspace/hunter_robot.v2.0/test/fail/75755314_王欣雪.json return {\"ret\": 0, \"msg\": \"success\", \"data\": {\"touch\": false}}\n",
      "item /home/human/workspace/hunter_robot.v2.0/test/fail/28198640_王晓斌.json return {\"ret\": 0, \"msg\": \"success\", \"data\": {\"touch\": false}}\n",
      "item /home/human/workspace/hunter_robot.v2.0/test/fail/32371176_樊小岑.json return {\"ret\": 0, \"msg\": \"success\", \"data\": {\"touch\": false}}\n",
      "item /home/human/workspace/hunter_robot.v2.0/test/fail/53420954_郑子润.json return {\"ret\": 0, \"msg\": \"success\", \"data\": {\"touch\": false}}\n",
      "item /home/human/workspace/hunter_robot.v2.0/test/fail/208206226_张会敏.json return {\"ret\": 0, \"msg\": \"success\", \"data\": {\"touch\": false}}\n",
      "item /home/human/workspace/hunter_robot.v2.0/test/fail/580331624_吴雪云.json return {\"ret\": 0, \"msg\": \"success\", \"data\": {\"touch\": false}}\n",
      "item /home/human/workspace/hunter_robot.v2.0/test/fail/531148303_高丹.json return {\"ret\": 0, \"msg\": \"success\", \"data\": {\"touch\": false}}\n",
      "item /home/human/workspace/hunter_robot.v2.0/test/fail/522459043_和涣睿.json return {\"ret\": 0, \"msg\": \"success\", \"data\": {\"touch\": false}}\n",
      "item /home/human/workspace/hunter_robot.v2.0/test/fail/59570984_汪逸飞.json return {\"ret\": 0, \"msg\": \"success\", \"data\": {\"touch\": false}}\n",
      "item /home/human/workspace/hunter_robot.v2.0/test/fail/71579957_李金华.json return {\"ret\": 0, \"msg\": \"success\", \"data\": {\"touch\": false}}\n",
      "item /home/human/workspace/hunter_robot.v2.0/test/fail/43526995_范先生.json return {\"ret\": 0, \"msg\": \"success\", \"data\": {\"touch\": false}}\n",
      "item /home/human/workspace/hunter_robot.v2.0/test/fail/592546218_李静娜.json return {\"ret\": 0, \"msg\": \"success\", \"data\": {\"touch\": false}}\n",
      "item /home/human/workspace/hunter_robot.v2.0/test/fail/591998525_郭丽妍.json return {\"ret\": 0, \"msg\": \"success\", \"data\": {\"touch\": false}}\n",
      "item /home/human/workspace/hunter_robot.v2.0/test/fail/522807272_王少鹏.json return {\"ret\": 0, \"msg\": \"success\", \"data\": {\"touch\": false}}\n",
      "item /home/human/workspace/hunter_robot.v2.0/test/fail/541114923_小董.json return {\"ret\": 0, \"msg\": \"success\", \"data\": {\"touch\": false}}\n",
      "item /home/human/workspace/hunter_robot.v2.0/test/fail/555990587_汪珊珊.json return {\"ret\": 0, \"msg\": \"success\", \"data\": {\"touch\": false}}\n",
      "item /home/human/workspace/hunter_robot.v2.0/test/fail/12924029_付晓燕.json return {\"ret\": 0, \"msg\": \"success\", \"data\": {\"touch\": false}}\n",
      "item /home/human/workspace/hunter_robot.v2.0/test/fail/115518045_张新龙.json return {\"ret\": 0, \"msg\": \"success\", \"data\": {\"touch\": false}}\n",
      "item /home/human/workspace/hunter_robot.v2.0/test/fail/31398275_娇娇.json return {\"ret\": 0, \"msg\": \"success\", \"data\": {\"touch\": false}}\n",
      "item /home/human/workspace/hunter_robot.v2.0/test/fail/48240018_曹泽雨.json return {\"ret\": 0, \"msg\": \"success\", \"data\": {\"touch\": false}}\n",
      "item /home/human/workspace/hunter_robot.v2.0/test/fail/21734053_薛计凯.json return {\"ret\": 0, \"msg\": \"success\", \"data\": {\"touch\": false}}\n",
      "item /home/human/workspace/hunter_robot.v2.0/test/fail/43186816_李昂.json return {\"ret\": 0, \"msg\": \"success\", \"data\": {\"touch\": false}}\n",
      "item /home/human/workspace/hunter_robot.v2.0/test/fail/124814947_王路路.json return {\"ret\": 0, \"msg\": \"success\", \"data\": {\"touch\": false}}\n",
      "item /home/human/workspace/hunter_robot.v2.0/test/fail/578754042_彭念念.json return {\"ret\": 0, \"msg\": \"success\", \"data\": {\"touch\": false}}\n",
      "item /home/human/workspace/hunter_robot.v2.0/test/fail/70480487_肖女士.json return {\"ret\": 0, \"msg\": \"success\", \"data\": {\"touch\": false}}\n",
      "item /home/human/workspace/hunter_robot.v2.0/test/fail/568283988_刘女士.json return {\"ret\": 0, \"msg\": \"success\", \"data\": {\"touch\": false}}\n",
      "item /home/human/workspace/hunter_robot.v2.0/test/fail/46146647_李静.json return {\"ret\": 0, \"msg\": \"success\", \"data\": {\"touch\": false}}\n",
      "item /home/human/workspace/hunter_robot.v2.0/test/fail/522504742_韩雨桐.json return {\"ret\": 0, \"msg\": \"success\", \"data\": {\"touch\": false}}\n",
      "item /home/human/workspace/hunter_robot.v2.0/test/fail/48969217_杜茜玲.json return {\"ret\": 0, \"msg\": \"success\", \"data\": {\"touch\": false}}\n",
      "item /home/human/workspace/hunter_robot.v2.0/test/fail/55933453_郑俏.json return {\"ret\": 0, \"msg\": \"success\", \"data\": {\"touch\": false}}\n",
      "item /home/human/workspace/hunter_robot.v2.0/test/fail/577894288_李普京.json return {\"ret\": 0, \"msg\": \"success\", \"data\": {\"touch\": false}}\n",
      "item /home/human/workspace/hunter_robot.v2.0/test/fail/517979552_李景.json return {\"ret\": 0, \"msg\": \"success\", \"data\": {\"touch\": false}}\n",
      "item /home/human/workspace/hunter_robot.v2.0/test/fail/538084564_牛江豪.json return {\"ret\": 0, \"msg\": \"success\", \"data\": {\"touch\": false}}\n",
      "item /home/human/workspace/hunter_robot.v2.0/test/fail/537446162_孙金龙.json return {\"ret\": 0, \"msg\": \"success\", \"data\": {\"touch\": false}}\n",
      "item /home/human/workspace/hunter_robot.v2.0/test/fail/587819302_王文琦.json return {\"ret\": 0, \"msg\": \"success\", \"data\": {\"touch\": false}}\n",
      "item /home/human/workspace/hunter_robot.v2.0/test/fail/107486382_李娜.json return {\"ret\": 0, \"msg\": \"success\", \"data\": {\"touch\": false}}\n",
      "item /home/human/workspace/hunter_robot.v2.0/test/fail/601489083_小陈.json return {\"ret\": 0, \"msg\": \"success\", \"data\": {\"touch\": false}}\n",
      "item /home/human/workspace/hunter_robot.v2.0/test/fail/549075442_孙卓.json return {\"ret\": 0, \"msg\": \"success\", \"data\": {\"touch\": false}}\n",
      "item /home/human/workspace/hunter_robot.v2.0/test/fail/113774088_狂吃不胖.json return {\"ret\": 0, \"msg\": \"success\", \"data\": {\"touch\": false}}\n",
      "item /home/human/workspace/hunter_robot.v2.0/test/fail/596143049_张小小.json return {\"ret\": 0, \"msg\": \"success\", \"data\": {\"touch\": false}}\n",
      "item /home/human/workspace/hunter_robot.v2.0/test/fail/602308387_周懿洁.json return {\"ret\": 0, \"msg\": \"success\", \"data\": {\"touch\": false}}\n",
      "item /home/human/workspace/hunter_robot.v2.0/test/fail/567522459_卢晓聪.json return {\"ret\": 0, \"msg\": \"success\", \"data\": {\"touch\": false}}\n",
      "item /home/human/workspace/hunter_robot.v2.0/test/fail/560115885_徐立军.json return {\"ret\": 0, \"msg\": \"success\", \"data\": {\"touch\": false}}\n",
      "item /home/human/workspace/hunter_robot.v2.0/test/fail/85352778_张丽丽.json return {\"ret\": 0, \"msg\": \"success\", \"data\": {\"touch\": false}}\n",
      "item /home/human/workspace/hunter_robot.v2.0/test/fail/53434732_张女士.json return {\"ret\": 0, \"msg\": \"success\", \"data\": {\"touch\": false}}\n",
      "item /home/human/workspace/hunter_robot.v2.0/test/fail/118791943_姚佳朋.json return {\"ret\": 0, \"msg\": \"success\", \"data\": {\"touch\": false}}\n",
      "item /home/human/workspace/hunter_robot.v2.0/test/fail/76314351_李小蕾.json return {\"ret\": 0, \"msg\": \"success\", \"data\": {\"touch\": false}}\n",
      "item /home/human/workspace/hunter_robot.v2.0/test/fail/596201579_文延恒.json return {\"ret\": 0, \"msg\": \"success\", \"data\": {\"touch\": false}}\n",
      "item /home/human/workspace/hunter_robot.v2.0/test/fail/564214793_李硕.json return {\"ret\": 0, \"msg\": \"success\", \"data\": {\"touch\": false}}\n",
      "item /home/human/workspace/hunter_robot.v2.0/test/fail/120054019_张先生.json return {\"ret\": 0, \"msg\": \"success\", \"data\": {\"touch\": false}}\n",
      "item /home/human/workspace/hunter_robot.v2.0/test/fail/600497753_刘利芳.json return {\"ret\": 0, \"msg\": \"success\", \"data\": {\"touch\": false}}\n",
      "item /home/human/workspace/hunter_robot.v2.0/test/fail/573808696_刘天浩.json return {\"ret\": 0, \"msg\": \"success\", \"data\": {\"touch\": false}}\n",
      "item /home/human/workspace/hunter_robot.v2.0/test/fail/504466194_翟凯轩.json return {\"ret\": 0, \"msg\": \"success\", \"data\": {\"touch\": false}}\n",
      "item /home/human/workspace/hunter_robot.v2.0/test/fail/43333197_赵艳杰.json return {\"ret\": 0, \"msg\": \"success\", \"data\": {\"touch\": false}}\n",
      "item /home/human/workspace/hunter_robot.v2.0/test/fail/565326004_谷翠军.json return {\"ret\": 0, \"msg\": \"success\", \"data\": {\"touch\": false}}\n",
      "item /home/human/workspace/hunter_robot.v2.0/test/fail/70652729_张子豪.json return {\"ret\": 0, \"msg\": \"success\", \"data\": {\"touch\": false}}\n",
      "item /home/human/workspace/hunter_robot.v2.0/test/fail/115546839_李晓敏.json return {\"ret\": 0, \"msg\": \"success\", \"data\": {\"touch\": false}}\n",
      "item /home/human/workspace/hunter_robot.v2.0/test/fail/556349936_徐女士.json return {\"ret\": 0, \"msg\": \"success\", \"data\": {\"touch\": false}}\n",
      "item /home/human/workspace/hunter_robot.v2.0/test/fail/589941683_曹静.json return {\"ret\": 0, \"msg\": \"success\", \"data\": {\"touch\": false}}\n",
      "item /home/human/workspace/hunter_robot.v2.0/test/fail/21424343_万泳.json return {\"ret\": 0, \"msg\": \"success\", \"data\": {\"touch\": false}}\n",
      "item /home/human/workspace/hunter_robot.v2.0/test/fail/556114903_张原慷.json return {\"ret\": 0, \"msg\": \"success\", \"data\": {\"touch\": false}}\n",
      "item /home/human/workspace/hunter_robot.v2.0/test/fail/567477209_张朔豪.json return {\"ret\": 0, \"msg\": \"success\", \"data\": {\"touch\": false}}\n",
      "item /home/human/workspace/hunter_robot.v2.0/test/fail/52088754_张妍.json return {\"ret\": 0, \"msg\": \"success\", \"data\": {\"touch\": false}}\n",
      "item /home/human/workspace/hunter_robot.v2.0/test/fail/600850061_张锦荣.json return {\"ret\": 0, \"msg\": \"success\", \"data\": {\"touch\": false}}\n",
      "item /home/human/workspace/hunter_robot.v2.0/test/fail/215138117_张雪迪.json return {\"ret\": 0, \"msg\": \"success\", \"data\": {\"touch\": false}}\n",
      "item /home/human/workspace/hunter_robot.v2.0/test/fail/579324782_朱盈盈.json return {\"ret\": 0, \"msg\": \"success\", \"data\": {\"touch\": false}}\n",
      "item /home/human/workspace/hunter_robot.v2.0/test/fail/545298139_李瑞芳.json return {\"ret\": 0, \"msg\": \"success\", \"data\": {\"touch\": false}}\n",
      "item /home/human/workspace/hunter_robot.v2.0/test/fail/83529440_陈佳瑶.json return {\"ret\": 0, \"msg\": \"success\", \"data\": {\"touch\": false}}\n",
      "item /home/human/workspace/hunter_robot.v2.0/test/fail/27738369_刘灵珊.json return {\"ret\": 0, \"msg\": \"success\", \"data\": {\"touch\": false}}\n",
      "item /home/human/workspace/hunter_robot.v2.0/test/fail/21706150_齐亭亭.json return {\"ret\": 0, \"msg\": \"success\", \"data\": {\"touch\": false}}\n",
      "item /home/human/workspace/hunter_robot.v2.0/test/fail/31309106_杨雪纯.json return {\"ret\": 0, \"msg\": \"success\", \"data\": {\"touch\": false}}\n",
      "item /home/human/workspace/hunter_robot.v2.0/test/fail/606187985_赵佳然.json return {\"ret\": 0, \"msg\": \"success\", \"data\": {\"touch\": false}}\n",
      "item /home/human/workspace/hunter_robot.v2.0/test/fail/27822986_狄博.json return {\"ret\": 0, \"msg\": \"success\", \"data\": {\"touch\": false}}\n",
      "item /home/human/workspace/hunter_robot.v2.0/test/fail/562853939_飞飞.json return {\"ret\": 0, \"msg\": \"success\", \"data\": {\"touch\": false}}\n",
      "item /home/human/workspace/hunter_robot.v2.0/test/fail/94165400_焦跃文.json return {\"ret\": 0, \"msg\": \"success\", \"data\": {\"touch\": false}}\n",
      "item /home/human/workspace/hunter_robot.v2.0/test/fail/67136820_刘泽鹏.json return {\"ret\": 0, \"msg\": \"success\", \"data\": {\"touch\": false}}\n",
      "item /home/human/workspace/hunter_robot.v2.0/test/fail/570118869_王辉.json return {\"ret\": 0, \"msg\": \"success\", \"data\": {\"touch\": false}}\n",
      "item /home/human/workspace/hunter_robot.v2.0/test/fail/553356869_韩旭东.json return {\"ret\": 0, \"msg\": \"success\", \"data\": {\"touch\": false}}\n",
      "item /home/human/workspace/hunter_robot.v2.0/test/fail/570041738_李蓉.json return {\"ret\": 0, \"msg\": \"success\", \"data\": {\"touch\": false}}\n",
      "item /home/human/workspace/hunter_robot.v2.0/test/fail/124666185_张歧锋.json return {\"ret\": 0, \"msg\": \"success\", \"data\": {\"touch\": false}}\n",
      "item /home/human/workspace/hunter_robot.v2.0/test/fail/92040760_张祎.json return {\"ret\": 0, \"msg\": \"success\", \"data\": {\"touch\": false}}\n",
      "item /home/human/workspace/hunter_robot.v2.0/test/fail/43830339_李女士.json return {\"ret\": 0, \"msg\": \"success\", \"data\": {\"touch\": false}}\n",
      "item /home/human/workspace/hunter_robot.v2.0/test/fail/559181789_小小王.json return {\"ret\": 0, \"msg\": \"success\", \"data\": {\"touch\": false}}\n",
      "item /home/human/workspace/hunter_robot.v2.0/test/fail/553348433_吴玥洋.json return {\"ret\": 0, \"msg\": \"success\", \"data\": {\"touch\": false}}\n",
      "item /home/human/workspace/hunter_robot.v2.0/test/fail/12079554_于禄.json return {\"ret\": 0, \"msg\": \"success\", \"data\": {\"touch\": false}}\n"
     ]
    }
   ],
   "source": [
    "import glob\n",
    "for item in glob.glob('/home/human/workspace/hunter_robot.v2.0/test/fail/*.json'):\n",
    "    boss_candidate_info = json.loads(open(item).read())\n",
    "    r = requests.post(url+api_dict['filter_candidate'],json={\n",
    "        'accountID': account_id,\n",
    "        'candidateInfo': boss_candidate_info\n",
    "    })\n",
    "    print(f'item {item} return {r.text}')"
   ]
  },
  {
   "cell_type": "code",
   "execution_count": null,
   "id": "c874c92b-5e17-4179-b133-8a0d08065db3",
   "metadata": {
    "tags": []
   },
   "outputs": [],
   "source": []
  },
  {
   "attachments": {},
   "cell_type": "markdown",
   "id": "75370539-ad84-449b-a38d-57a8f3c707de",
   "metadata": {},
   "source": [
    "## chat"
   ]
  },
  {
   "attachments": {},
   "cell_type": "markdown",
   "id": "4669cf00-bd88-40e1-b098-6de8d4c5a644",
   "metadata": {},
   "source": [
    "### search chat"
   ]
  },
  {
   "cell_type": "code",
   "execution_count": 27,
   "id": "16b910e4-0e89-47e2-a732-883fb9dd6867",
   "metadata": {
    "tags": []
   },
   "outputs": [
    {
     "data": {
      "text/plain": [
       "'{\"ret\": 0, \"msg\": \"success\", \"data\": {\"nextStep\": \"need_contact\", \"nextStepContent\": \"\\\\u54b1\\\\u80fd\\\\u4e0d\\\\u80fd\\\\u7559\\\\u4e2a\\\\u7b80\\\\u5386\\\\u548c\\\\u8054\\\\u7cfb\\\\u65b9\\\\u5f0f\\\\u5462\"}}'"
      ]
     },
     "execution_count": 27,
     "metadata": {},
     "output_type": "execute_result"
    }
   ],
   "source": [
    "candidate_id='mock-589791359'\n",
    "candidate_name=candidate_id\n",
    "history=[{'speaker': 'robot','msg':'这里是一家很牛逼的企业，看上你了，来吧老弟'}, {'speaker':'user','msg':'没啥兴趣'}]\n",
    "r = requests.post(url+api_dict['chat_candidate'],json={\n",
    "    'accountID': account_id,\n",
    "    'candidateID': candidate_id,\n",
    "    'candidateName': candidate_name,\n",
    "    'historyMsg': history\n",
    "})"
   ]
  },
  {
   "cell_type": "code",
   "execution_count": 28,
   "id": "dd212b7f-f87b-4e02-9b41-34d67446d08d",
   "metadata": {},
   "outputs": [
    {
     "data": {
      "text/plain": [
       "{'ret': 0,\n",
       " 'msg': 'success',\n",
       " 'data': {'nextStep': 'need_contact', 'nextStepContent': '咱能不能留个简历和联系方式呢'}}"
      ]
     },
     "execution_count": 28,
     "metadata": {},
     "output_type": "execute_result"
    }
   ],
   "source": [
    "r.json()"
   ]
  },
  {
   "attachments": {},
   "cell_type": "markdown",
   "id": "d61d5ab5-4b77-4a73-bad7-f83cc1020d6e",
   "metadata": {},
   "source": [
    "### user ask chat"
   ]
  },
  {
   "cell_type": "code",
   "execution_count": 30,
   "id": "7c1f3ef9-f16c-4417-9cfa-f85beddf39ff",
   "metadata": {
    "tags": []
   },
   "outputs": [
    {
     "data": {
      "text/plain": [
       "{'ret': 0,\n",
       " 'msg': 'success',\n",
       " 'data': {'nextStep': 'need_contact',\n",
       "  'nextStepContent': '我们有多个客服岗位，岗位综合薪资是6000-20000元。咱能不能留个简历和联系方式呢'}}"
      ]
     },
     "execution_count": 30,
     "metadata": {},
     "output_type": "execute_result"
    }
   ],
   "source": [
    "candidate_id='mock-cand2'\n",
    "candidate_name=candidate_id\n",
    "history=[{'speaker': 'user','msg':'你们这里客服薪资什么样呢'}]\n",
    "r = requests.post(url+api_dict['chat_candidate'],json={\n",
    "    'accountID': account_id,\n",
    "    'jobID': job_id,\n",
    "    'candidateID': candidate_id,\n",
    "    'candidateName': candidate_name,\n",
    "    'historyMsg': history\n",
    "})\n",
    "r.json()"
   ]
  },
  {
   "cell_type": "code",
   "execution_count": null,
   "id": "826a8273",
   "metadata": {},
   "outputs": [],
   "source": []
  },
  {
   "cell_type": "code",
   "execution_count": 20,
   "id": "489c0544",
   "metadata": {},
   "outputs": [
    {
     "name": "stdout",
     "output_type": "stream",
     "text": [
      "None 您好\n",
      "\t\t\t\t\t你们这里还招人么\n",
      "normal_chat 您好！感谢您对我们公司的关注。我们目前正在招聘客服专员岗位，如果您对这个职位感兴趣，可以将您的简历发送给我，我们会尽快安排面试。\n",
      "\t\t\t\t\t一个月多少钱啊\n",
      "normal_chat 我们有多个客服岗位，岗位综合薪资是6000-20000元。\n",
      "\t\t\t\t\t包吃住么\n",
      "normal_chat 我们提供住宿福利，一般宿舍费用为400元左右一个月。\n",
      "\t\t\t\t\t我上班几点到几点呢\n",
      "normal_chat 面试时间会根据候选人和面试官的时间安排来确定，具体上班时间需要和面试官沟通确认。我们hr会尽快跟您联系\n",
      "\t\t\t\t\t感觉不太符合我的需求\n",
      "normal_chat \n"
     ]
    }
   ],
   "source": [
    "from datetime import  datetime\n",
    "\n",
    "candidate_id='mock-mutli-id5'\n",
    "candidate_name=candidate_id\n",
    "ask_list1 = ['你们这里还招人么', '一个月多少钱啊', '包吃住么', '我上班几点到几点呢', '感觉不太符合我的需求']\n",
    "ask_list2 = ['你们这里还招人么', '一个月多少钱啊', '包吃住么', '我上班几点到几点呢', '谢谢']\n",
    "history = []\n",
    "\n",
    "def format_time(time_obj, f_str='%Y-%m-%d %H:%M:%S'):\n",
    "    return time_obj.strftime(f_str)\n",
    "def show_conv(msg, next_step = None):\n",
    "    speaker = msg['speaker']\n",
    "    content = msg['msg']\n",
    "    if speaker=='robot':\n",
    "        print(f'{next_step} {content}')\n",
    "    else:\n",
    "        print(f'\\t\\t\\t\\t\\t{content}')\n",
    "        \n",
    "first = '您好'\n",
    "cur = {'speaker': 'robot', 'msg': first, 'time': 1000*int(datetime.timestamp(datetime.now()))}\n",
    "history.append(cur)\n",
    "show_conv(cur)\n",
    "for i, ask in enumerate(ask_list1):\n",
    "    cur = {'speaker': 'user', 'msg': ask, 'time': 1000*int(datetime.timestamp(datetime.now()))}\n",
    "    if i==3:\n",
    "        history.append({'speaker': 'system', 'msg': '候选人主动给简历'})\n",
    "    history.append(cur)\n",
    "    show_conv(cur)\n",
    "    r = requests.post(url+api_dict['chat_candidate'], json={\n",
    "        'accountID': account_id,\n",
    "        'jobID': job_id,\n",
    "        'candidateID': candidate_id,\n",
    "        'candidateName': candidate_name,\n",
    "        'historyMsg': history\n",
    "    })\n",
    "    assert r.status_code==200\n",
    "    next_step = r.json()['data']['nextStep']\n",
    "    msg = r.json()['data']['nextStepContent']\n",
    "    cur = {'speaker': 'robot', 'msg': msg, 'time': 1000*int(datetime.timestamp(datetime.now()))}\n",
    "    history.append(cur)\n",
    "    show_conv(cur, next_step)"
   ]
  },
  {
   "attachments": {},
   "cell_type": "markdown",
   "id": "693f9495-04f9-469b-abee-1fc9216af7d9",
   "metadata": {},
   "source": [
    "## chat result"
   ]
  },
  {
   "cell_type": "code",
   "execution_count": 21,
   "id": "b4513ce1-73fa-45a8-a881-3508a5ba0eba",
   "metadata": {
    "tags": []
   },
   "outputs": [
    {
     "data": {
      "text/plain": [
       "'{\"ret\": 0, \"msg\": \"success\", \"data\": {\"status\": \"ok\"}}'"
      ]
     },
     "execution_count": 21,
     "metadata": {},
     "output_type": "execute_result"
    }
   ],
   "source": [
    "candidate_id='mock-589791359'\n",
    "candidate_name=candidate_id\n",
    "files = {'cv': open('../../hunter_robot.v2.0/test/test_cv.pdf','rb')}\n",
    "r = requests.post(url+api_dict['result_candidate'], data={\n",
    "    'accountID': account_id,\n",
    "    # 'jobID': job_id,\n",
    "    'candidateID': candidate_id,\n",
    "    'candidateName': candidate_name,\n",
    "    'phone': '139xxxx5556',\n",
    "    'wechat': '139xxxx5556'\n",
    "},files=files)\n",
    "r.text\n"
   ]
  },
  {
   "cell_type": "code",
   "execution_count": 82,
   "id": "a34ae427-05ce-47a8-979f-dddbd7af5f17",
   "metadata": {
    "tags": []
   },
   "outputs": [
    {
     "data": {
      "text/plain": [
       "'{\"ret\": 0, \"msg\": \"success\", \"data\": {\"status\": \"ok\"}}'"
      ]
     },
     "execution_count": 82,
     "metadata": {},
     "output_type": "execute_result"
    }
   ],
   "source": [
    "files = {'cv': open('test_cv.pdf','rb')}\n",
    "r = requests.post(url+api_dict['result_candidate'], data={\n",
    "    'accountID': 'account_Boss_27175761',\n",
    "    'candidateID': '111735749',\n",
    "    'candidateName': '李顺东',\n",
    "},files=files)\n",
    "r.text"
   ]
  },
  {
   "cell_type": "code",
   "execution_count": 273,
   "id": "5e1c3e94-9f4f-4209-8402-a73b53bce60a",
   "metadata": {
    "tags": []
   },
   "outputs": [],
   "source": []
  },
  {
   "cell_type": "code",
   "execution_count": 273,
   "id": "46336d7b-9d57-4c58-abdf-3969c034be26",
   "metadata": {
    "tags": []
   },
   "outputs": [],
   "source": []
  },
  {
   "cell_type": "code",
   "execution_count": 273,
   "id": "754087f2-c5a0-40b1-a1ec-c6db3e728582",
   "metadata": {
    "tags": []
   },
   "outputs": [],
   "source": []
  },
  {
   "cell_type": "code",
   "execution_count": 273,
   "id": "616734b6-33ee-4274-ade3-49b8170008e6",
   "metadata": {
    "tags": []
   },
   "outputs": [],
   "source": []
  },
  {
   "cell_type": "code",
   "execution_count": 273,
   "id": "d6755340-3378-4d6e-ab8a-6687d0235c92",
   "metadata": {
    "tags": []
   },
   "outputs": [],
   "source": []
  },
  {
   "cell_type": "code",
   "execution_count": 273,
   "id": "bdfe451b-9428-43d8-bd2e-555a5ecda4d9",
   "metadata": {
    "tags": []
   },
   "outputs": [],
   "source": []
  },
  {
   "cell_type": "code",
   "execution_count": 273,
   "id": "c0642146-7e06-4043-a0b7-cd592d178942",
   "metadata": {
    "tags": []
   },
   "outputs": [],
   "source": []
  },
  {
   "cell_type": "code",
   "execution_count": 273,
   "id": "ede0c966-e733-48a1-b49c-21876c65e8b4",
   "metadata": {
    "tags": []
   },
   "outputs": [],
   "source": []
  },
  {
   "cell_type": "code",
   "execution_count": 273,
   "id": "a3ff317d-c4fd-4ddc-9090-06c79f02b0a3",
   "metadata": {
    "tags": []
   },
   "outputs": [],
   "source": []
  },
  {
   "cell_type": "code",
   "execution_count": 273,
   "id": "cbf3b0ae-441a-4bf9-9017-f0b6b85938e4",
   "metadata": {
    "tags": []
   },
   "outputs": [],
   "source": []
  },
  {
   "cell_type": "code",
   "execution_count": 273,
   "id": "7118d632-2024-4d51-b7f5-72da0daf2445",
   "metadata": {
    "tags": []
   },
   "outputs": [],
   "source": []
  },
  {
   "cell_type": "code",
   "execution_count": 273,
   "id": "6ac330f2-9b94-4736-8ecd-224f54e3e297",
   "metadata": {
    "tags": []
   },
   "outputs": [],
   "source": []
  },
  {
   "cell_type": "code",
   "execution_count": 273,
   "id": "ece4c3aa-3896-4969-9163-a9817d7e3fdc",
   "metadata": {
    "tags": []
   },
   "outputs": [],
   "source": []
  },
  {
   "cell_type": "code",
   "execution_count": 273,
   "id": "c2cf3983-33d4-4a28-9e51-f700087047ab",
   "metadata": {
    "tags": []
   },
   "outputs": [],
   "source": []
  },
  {
   "cell_type": "code",
   "execution_count": 273,
   "id": "77268484-feae-43e6-8d5e-5e76db17d35f",
   "metadata": {
    "tags": []
   },
   "outputs": [],
   "source": []
  },
  {
   "cell_type": "code",
   "execution_count": 273,
   "id": "02d60545-d73c-444b-bb4d-4fb277c847b4",
   "metadata": {
    "tags": []
   },
   "outputs": [],
   "source": []
  },
  {
   "cell_type": "code",
   "execution_count": 273,
   "id": "b7a419d5-4e77-412b-b2e8-c0da9056f600",
   "metadata": {
    "tags": []
   },
   "outputs": [],
   "source": []
  },
  {
   "cell_type": "code",
   "execution_count": 273,
   "id": "f68624f9-848d-4562-9897-1a6ad0a349ac",
   "metadata": {
    "tags": []
   },
   "outputs": [],
   "source": []
  },
  {
   "cell_type": "code",
   "execution_count": 273,
   "id": "3c556d09-a6b7-4680-839e-9c59689c44b0",
   "metadata": {
    "tags": []
   },
   "outputs": [],
   "source": []
  },
  {
   "cell_type": "code",
   "execution_count": 273,
   "id": "2333d1c7-a716-4dc3-b43f-8be849f5e2bf",
   "metadata": {
    "tags": []
   },
   "outputs": [],
   "source": []
  },
  {
   "cell_type": "code",
   "execution_count": 273,
   "id": "96ddfd44-8a6f-478c-9c9c-c16ca99538db",
   "metadata": {
    "tags": []
   },
   "outputs": [],
   "source": []
  },
  {
   "cell_type": "code",
   "execution_count": null,
   "id": "46f43631-132a-4449-a670-71876a1447ee",
   "metadata": {
    "tags": []
   },
   "outputs": [],
   "source": []
  },
  {
   "cell_type": "code",
   "execution_count": null,
   "id": "b1240c44-3459-4594-a2d5-e3524cd8da72",
   "metadata": {
    "tags": []
   },
   "outputs": [],
   "source": []
  },
  {
   "cell_type": "code",
   "execution_count": null,
   "id": "a5fc36dc-9d0a-4018-bcf4-de5338f141c8",
   "metadata": {
    "tags": []
   },
   "outputs": [],
   "source": []
  },
  {
   "cell_type": "code",
   "execution_count": null,
   "id": "cee4f723-62be-4d4c-9e91-9def56586029",
   "metadata": {},
   "outputs": [],
   "source": []
  }
 ],
 "metadata": {
  "kernelspec": {
   "display_name": "hunter_robot",
   "language": "python",
   "name": "python3"
  },
  "language_info": {
   "codemirror_mode": {
    "name": "ipython",
    "version": 3
   },
   "file_extension": ".py",
   "mimetype": "text/x-python",
   "name": "python",
   "nbconvert_exporter": "python",
   "pygments_lexer": "ipython3",
   "version": "3.10.12"
  }
 },
 "nbformat": 4,
 "nbformat_minor": 5
}
