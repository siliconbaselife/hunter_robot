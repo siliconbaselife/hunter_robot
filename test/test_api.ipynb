{
 "cells": [
  {
   "cell_type": "code",
   "execution_count": 16,
   "id": "f027cc33-9fe7-4c08-8d0c-82f7d0616d2c",
   "metadata": {
    "tags": []
   },
   "outputs": [],
   "source": [
    "import requests\n",
    "import json"
   ]
  },
  {
   "cell_type": "code",
   "execution_count": 2,
   "id": "2b160d77-8bc4-46ae-94fe-4c041a8e8fda",
   "metadata": {},
   "outputs": [],
   "source": [
    "def deal_json_invaild(data):\n",
    "    data = data.replace(' ','')\n",
    "    data = data.replace(\"\\n\", \"\\\\n\").replace(\"\\r\", \"\\\\r\").replace(\"\\n\\r\", \"\\\\n\\\\r\") \\\n",
    "        .replace(\"\\r\\n\", \"\\\\r\\\\n\") \\\n",
    "        .replace(\"\\t\", \"\\\\t\")\n",
    "    data = data.replace('\":\"', '&&testPassword1&&')\\\n",
    "        .replace('\":', '&&testPassword2&&')\\\n",
    "        .replace('\",\"', \"$$testPassword$$\")\\\n",
    "        .replace('{\"', \"@@testPassword@@\")\\\n",
    "        .replace('\"}', \"**testPassword**\")\n",
    "    # print(data)\n",
    "\n",
    "    data = data.replace('\"', r'\\\"')\\\n",
    "        .replace('&&testPassword1&&', '\":\"').replace('&&testPassword2&&','\":').replace('$$testPassword$$', '\",\"').replace('@@testPassword@@', '{\"').replace('**testPassword**', '\"}')\n",
    "    # print(data)\n",
    "    return data"
   ]
  },
  {
   "cell_type": "code",
   "execution_count": 4,
   "id": "bfde1e60-20bf-4923-874a-5a3a1997fa6f",
   "metadata": {},
   "outputs": [],
   "source": [
    "import oss2\n",
    "ali_user_name = 'LTAI5tRAbpW9MNjDDnDAVCsq'\n",
    "ali_pwd = '7RguIff46JiTrh43HkULgbXZPiIVqu'\n",
    "auth = oss2.Auth(ali_user_name, ali_pwd)\n",
    "# yourEndpoint填写Bucket所在地域对应的Endpoint。以华东1（杭州）为例，Endpoint填写为https://oss-cn-hangzhou.aliyuncs.com。\n",
    "# 填写Bucket名称。\n",
    "bucket = oss2.Bucket(auth, 'oss-ap-southeast-1.aliyuncs.com', 'aistormy2023')\n",
    "oss_url_prefix = \"https://aistormy2023.oss-ap-southeast-1.aliyuncs.com/\"\n",
    "\n",
    "file_name='test_cv.pdf'\n",
    "content = open(file_name, 'rb').read()\n",
    "ret = bucket.put_object(file_name, content)"
   ]
  },
  {
   "cell_type": "code",
   "execution_count": null,
   "id": "814145a6-babb-4daa-87b1-55d830480a37",
   "metadata": {
    "tags": []
   },
   "outputs": [],
   "source": []
  },
  {
   "cell_type": "markdown",
   "id": "c0aca52a-1a4e-4984-b6c4-bd12058827f3",
   "metadata": {
    "tags": []
   },
   "source": [
    "# v2.0"
   ]
  },
  {
   "cell_type": "code",
   "execution_count": 19,
   "id": "0581726b-2990-40cd-9bc0-9b7e14c6676d",
   "metadata": {},
   "outputs": [],
   "source": [
    "url = 'http://114.248.215.173:32040'\n",
    "api_list = [\n",
    "\"/test\",\n",
    "\"/recruit/job/register\",\n",
    "\"/recruit/job/query\",\n",
    "\"/recruit/account/register\",\n",
    "\"/recruit/account/query\",\n",
    "\"/recruit/account/task/fetch\",\n",
    "\"/recruit/account/task/report\",\n",
    "\"/recruit/candidate/filter\",\n",
    "\"/recruit/candidate/chat\",\n",
    "\"/recruit/candidate/result\"\n",
    "]"
   ]
  },
  {
   "cell_type": "code",
   "execution_count": 20,
   "id": "f58b1166-8fb5-44a2-942c-47b7b336e94b",
   "metadata": {
    "tags": []
   },
   "outputs": [
    {
     "name": "stdout",
     "output_type": "stream",
     "text": [
      "test\t\t\t/test\n",
      "register_job\t\t\t/recruit/job/register\n",
      "query_job\t\t\t/recruit/job/query\n",
      "register_account\t\t\t/recruit/account/register\n",
      "query_account\t\t\t/recruit/account/query\n",
      "fetch_task\t\t\t/recruit/account/task/fetch\n",
      "report_task\t\t\t/recruit/account/task/report\n",
      "filter_candidate\t\t\t/recruit/candidate/filter\n",
      "chat_candidate\t\t\t/recruit/candidate/chat\n",
      "result_candidate\t\t\t/recruit/candidate/result\n"
     ]
    }
   ],
   "source": [
    "api_dict = {}\n",
    "for api in api_list:\n",
    "    sp = api[1:].split('/')\n",
    "    api_key = sp[-1]\n",
    "    if len(sp)>1:\n",
    "        api_key+=f'_{sp[-2]}'\n",
    "    api_dict[api_key]=api\n",
    "    print(f'{api_key}\\t\\t\\t{api}')"
   ]
  },
  {
   "cell_type": "markdown",
   "id": "d8d5c878-c4f3-4065-9c36-d3c3276b1cab",
   "metadata": {},
   "source": [
    "## job op"
   ]
  },
  {
   "cell_type": "code",
   "execution_count": 43,
   "id": "004f0a5e-7e12-4298-856b-5418aca43066",
   "metadata": {
    "tags": []
   },
   "outputs": [
    {
     "data": {
      "text/plain": [
       "'{\"ret\": 0, \"msg\": \"success\", \"data\": {\"jobID\": \"job_Boss_minsheng-kefu-manual-id\"}}'"
      ]
     },
     "execution_count": 43,
     "metadata": {},
     "output_type": "execute_result"
    }
   ],
   "source": [
    "r = requests.post(url+api_dict['register_job'],json={\n",
    "    'platformType': 'Boss',\n",
    "    'platformID': 'minsheng-kefu-manual-id',\n",
    "    'jobName': '民生银行-外呼客服',\n",
    "    'jd': '''银行岗位jd\n",
    "招聘公司：知名大型商业银行\n",
    "岗位名称：外呼客服\n",
    "岗位职责：通过银行外呼系统对已经使用信用卡产生消费账单的用户，让用户办理分期还款，减轻还款压力。\n",
    "岗位要求：年龄18-35周岁，大专及以上学历，普通话标准，良好的沟通表达能力\n",
    "薪资福利：综合薪资8000-20000，上不封顶，入职缴纳北京五险一金，享受法定节假日\n",
    "工作时间：早9晚6''',\n",
    "    'robotApi': '/vision/chat/receive/message/minsheng/v1'\n",
    "})\n",
    "r.text"
   ]
  },
  {
   "cell_type": "code",
   "execution_count": 44,
   "id": "3c51dd80-123c-42f5-8597-1238d64fcfbc",
   "metadata": {
    "tags": []
   },
   "outputs": [
    {
     "data": {
      "text/plain": [
       "'{\"ret\": 0, \"msg\": \"success\", \"data\": {\"jobID\": \"job_Boss_minsheng-kefu-manual-id\"}}'"
      ]
     },
     "execution_count": 44,
     "metadata": {},
     "output_type": "execute_result"
    }
   ],
   "source": [
    "r = requests.post(url+api_dict['query_job'],json={\n",
    "    'platformType': 'Boss',\n",
    "    'platformID': 'minsheng-kefu-manual-id'\n",
    "})\n",
    "r.text"
   ]
  },
  {
   "cell_type": "code",
   "execution_count": 45,
   "id": "77da84c7-ba32-47b3-89e0-28cfe233f452",
   "metadata": {
    "tags": []
   },
   "outputs": [],
   "source": [
    "job_id=\"job_Boss_minsheng-kefu-manual-id\""
   ]
  },
  {
   "cell_type": "markdown",
   "id": "2cdb5dcb-b5c3-49ab-ac47-4b703a3954fe",
   "metadata": {},
   "source": [
    "## account op"
   ]
  },
  {
   "cell_type": "code",
   "execution_count": 46,
   "id": "cd5f378b-32b5-4899-b14b-70fab444948f",
   "metadata": {
    "tags": []
   },
   "outputs": [
    {
     "data": {
      "text/plain": [
       "'{\"ret\": 0, \"msg\": \"success\", \"data\": {\"accountID\": \"account_Boss_27175761\"}}'"
      ]
     },
     "execution_count": 46,
     "metadata": {},
     "output_type": "execute_result"
    }
   ],
   "source": [
    "r = requests.post(url+api_dict['register_account'],json={\n",
    "    'platformType': 'Boss',\n",
    "    'platformID': '27175761',\n",
    "    'jobs': [job_id]\n",
    "})\n",
    "r.text"
   ]
  },
  {
   "cell_type": "code",
   "execution_count": 47,
   "id": "d6180758-c437-4903-9034-02bfd4da3278",
   "metadata": {
    "tags": []
   },
   "outputs": [
    {
     "data": {
      "text/plain": [
       "'{\"ret\": 0, \"msg\": \"success\", \"data\": {\"accountID\": \"account_Boss_27175761\"}}'"
      ]
     },
     "execution_count": 47,
     "metadata": {},
     "output_type": "execute_result"
    }
   ],
   "source": [
    "r = requests.post(url+api_dict['query_account'],json={\n",
    "    'platformType': 'Boss',\n",
    "    'platformID': '27175761',\n",
    "})\n",
    "r.text"
   ]
  },
  {
   "cell_type": "code",
   "execution_count": 48,
   "id": "75a7bee3-a572-4a51-af77-491618b02783",
   "metadata": {
    "tags": []
   },
   "outputs": [],
   "source": [
    "account_id=\"account_Boss_27175761\""
   ]
  },
  {
   "cell_type": "markdown",
   "id": "97799980-e752-4efc-ab88-cd02202fa1f8",
   "metadata": {},
   "source": [
    "## task op"
   ]
  },
  {
   "cell_type": "code",
   "execution_count": 49,
   "id": "e1243385-4bc2-4841-b8b9-5703adc2264b",
   "metadata": {
    "tags": []
   },
   "outputs": [
    {
     "data": {
      "text/plain": [
       "'{\"ret\": 0, \"msg\": \"success\", \"data\": {\"task\": [{\"helloSum\": 50, \"taskType\": \"batchTouch\", \"timeMount\": [{\"time\": \"09:00\", \"mount\": 25}, {\"time\": \"16:00\", \"mount\": 25}], \"jobID\": \"job_Boss_minsheng-kefu-manual-id\"}]}}'"
      ]
     },
     "execution_count": 49,
     "metadata": {},
     "output_type": "execute_result"
    }
   ],
   "source": [
    "r = requests.post(url+api_dict['fetch_task'],json={\n",
    "    'accountID': account_id,\n",
    "})\n",
    "r.text"
   ]
  },
  {
   "cell_type": "code",
   "execution_count": 31,
   "id": "19675278-24b0-464d-bec0-cc760863a59c",
   "metadata": {
    "tags": []
   },
   "outputs": [
    {
     "data": {
      "text/plain": [
       "'{\"ret\": 0, \"msg\": \"success\", \"data\": {\"status\": \"ok\"}}'"
      ]
     },
     "execution_count": 31,
     "metadata": {},
     "output_type": "execute_result"
    }
   ],
   "source": [
    "r = requests.post(url+api_dict['report_task'],json={\n",
    "    'accountID': account_id,\n",
    "    'taskStatus': [{\n",
    "        'taskType': 'batchTouch',\n",
    "        'details': {\n",
    "            'candidateList': ['mock-589791359']\n",
    "        }\n",
    "    }]\n",
    "})\n",
    "r.text"
   ]
  },
  {
   "cell_type": "code",
   "execution_count": 24,
   "id": "75277429-95e8-4c5e-9a16-652fd138c677",
   "metadata": {
    "tags": []
   },
   "outputs": [
    {
     "data": {
      "text/plain": [
       "'{\"ret\": 0, \"msg\": \"success\", \"data\": {\"task\": [{\"jobID\": \"job_boss_test-job-id\", \"taskType\": \"batchTouch\", \"helloSum\": 49, \"timeMount\": []}]}}'"
      ]
     },
     "execution_count": 24,
     "metadata": {},
     "output_type": "execute_result"
    }
   ],
   "source": [
    "r = requests.post(url+api_dict['fetch_task'],json={\n",
    "    'accountID': account_id,\n",
    "})\n",
    "r.text"
   ]
  },
  {
   "cell_type": "markdown",
   "id": "e50cbaf0-4538-47e6-88ba-f407428028dc",
   "metadata": {},
   "source": [
    "## candidate filter"
   ]
  },
  {
   "cell_type": "code",
   "execution_count": 29,
   "id": "83351a44-b335-4a12-ab92-761f0dc1d5e7",
   "metadata": {
    "tags": []
   },
   "outputs": [
    {
     "data": {
      "text/plain": [
       "'{\"ret\": 0, \"msg\": \"success\", \"data\": {\"touch\": false}}'"
      ]
     },
     "execution_count": 29,
     "metadata": {},
     "output_type": "execute_result"
    }
   ],
   "source": [
    "boss_candidate_info = json.loads(open('test_candidate.json').read())\n",
    "r = requests.post(url+api_dict['filter_candidate'],json={\n",
    "    'accountID': account_id,\n",
    "    'jobID': job_id,\n",
    "    'candidateInfo': boss_candidate_info,\n",
    "    \n",
    "})\n",
    "r.text"
   ]
  },
  {
   "cell_type": "code",
   "execution_count": 30,
   "id": "09d9e594-0db0-4c73-be99-b1a4aceeb8bd",
   "metadata": {
    "tags": []
   },
   "outputs": [
    {
     "data": {
      "text/plain": [
       "'{\"ret\": 0, \"msg\": \"success\", \"data\": {\"touch\": true}}'"
      ]
     },
     "execution_count": 30,
     "metadata": {},
     "output_type": "execute_result"
    }
   ],
   "source": [
    "boss_candidate_info = json.loads(open('test_candidate_touch.json').read())\n",
    "r = requests.post(url+api_dict['filter_candidate'],json={\n",
    "    'accountID': account_id,\n",
    "    'jobID': job_id,\n",
    "    'candidateInfo': boss_candidate_info,\n",
    "    \n",
    "})\n",
    "r.text"
   ]
  },
  {
   "cell_type": "code",
   "execution_count": null,
   "id": "c874c92b-5e17-4179-b133-8a0d08065db3",
   "metadata": {},
   "outputs": [],
   "source": [
    "boss_candidate_info = json.loads(open('test_candidate_new.json.jso').read())\n",
    "r = requests.post(url+api_dict['filter_candidate'],json={\n",
    "    'accountID': account_id,\n",
    "    'jobID': job_id,\n",
    "    'candidateInfo': boss_candidate_info,\n",
    "    \n",
    "})\n",
    "r.text"
   ]
  },
  {
   "cell_type": "markdown",
   "id": "75370539-ad84-449b-a38d-57a8f3c707de",
   "metadata": {},
   "source": [
    "## chat"
   ]
  },
  {
   "cell_type": "markdown",
   "id": "4669cf00-bd88-40e1-b098-6de8d4c5a644",
   "metadata": {},
   "source": [
    "### search chat"
   ]
  },
  {
   "cell_type": "code",
   "execution_count": 38,
   "id": "16b910e4-0e89-47e2-a732-883fb9dd6867",
   "metadata": {
    "tags": []
   },
   "outputs": [
    {
     "data": {
      "text/plain": [
       "'{\"ret\": 0, \"msg\": \"success\", \"data\": {\"nextStep\": \"normal_chat\", \"nextStepContent\": \"\"}}'"
      ]
     },
     "execution_count": 38,
     "metadata": {},
     "output_type": "execute_result"
    }
   ],
   "source": [
    "candidate_id='mock-589791359'\n",
    "candidate_name=candidate_id\n",
    "history=[{'speaker': 'robot','msg':'这里是一家很牛逼的企业，看上你了，来吧老弟'}, {'speaker':'user','msg':'滚'}]\n",
    "r = requests.post(url+api_dict['chat_candidate'],json={\n",
    "    'accountID': account_id,\n",
    "    'jobID': job_id,\n",
    "    'candidateID': candidate_id,\n",
    "    'candidateName': candidate_name,\n",
    "    'historyMsg': history\n",
    "})\n",
    "r.text"
   ]
  },
  {
   "cell_type": "code",
   "execution_count": null,
   "id": "dd212b7f-f87b-4e02-9b41-34d67446d08d",
   "metadata": {},
   "outputs": [],
   "source": []
  },
  {
   "cell_type": "markdown",
   "id": "d61d5ab5-4b77-4a73-bad7-f83cc1020d6e",
   "metadata": {},
   "source": [
    "### user ask chat"
   ]
  },
  {
   "cell_type": "code",
   "execution_count": 39,
   "id": "7c1f3ef9-f16c-4417-9cfa-f85beddf39ff",
   "metadata": {
    "tags": []
   },
   "outputs": [
    {
     "data": {
      "text/plain": [
       "'{\"ret\": 0, \"msg\": \"success\", \"data\": {\"nextStep\": \"normal_chat\", \"nextStepContent\": \"\\\\u4e0d\\\\u597d\\\\u610f\\\\u601d\\\\uff0c\\\\u6211\\\\u4eec\\\\u516c\\\\u53f8\\\\u7684\\\\u5ba2\\\\u670d\\\\u4e13\\\\u5458\\\\u5c97\\\\u4f4d\\\\u7684\\\\u7efc\\\\u5408\\\\u85aa\\\\u8d44\\\\u8303\\\\u56f4\\\\u662f4000-7000\\\\u5143\\\\u3002\"}}'"
      ]
     },
     "execution_count": 39,
     "metadata": {},
     "output_type": "execute_result"
    }
   ],
   "source": [
    "candidate_id='mock-589791359'\n",
    "candidate_name=candidate_id\n",
    "history=[{'speaker': 'user','msg':'你们这里上班月薪有100万么'}]\n",
    "r = requests.post(url+api_dict['chat_candidate'],json={\n",
    "    'accountID': account_id,\n",
    "    'jobID': job_id,\n",
    "    'candidateID': candidate_id,\n",
    "    'candidateName': candidate_name,\n",
    "    'historyMsg': history\n",
    "})\n",
    "r.text"
   ]
  },
  {
   "cell_type": "markdown",
   "id": "693f9495-04f9-469b-abee-1fc9216af7d9",
   "metadata": {},
   "source": [
    "## chat result"
   ]
  },
  {
   "cell_type": "code",
   "execution_count": 41,
   "id": "b4513ce1-73fa-45a8-a881-3508a5ba0eba",
   "metadata": {
    "tags": []
   },
   "outputs": [
    {
     "data": {
      "text/plain": [
       "'{\"ret\": 0, \"msg\": \"success\", \"data\": {\"status\": \"ok\"}}'"
      ]
     },
     "execution_count": 41,
     "metadata": {},
     "output_type": "execute_result"
    }
   ],
   "source": [
    "candidate_id='mock-589791359'\n",
    "candidate_name=candidate_id\n",
    "files = {'cv': open('test_cv.pdf','rb')}\n",
    "r = requests.post(url+api_dict['result_candidate'], data={\n",
    "    'accountID': account_id,\n",
    "    'jobID': job_id,\n",
    "    'candidateID': candidate_id,\n",
    "    'candidateName': candidate_name,\n",
    "    'phone': '139xxxx5556',\n",
    "    'wechat': '139xxxx5556'\n",
    "},files=files)\n",
    "r.text\n"
   ]
  },
  {
   "cell_type": "code",
   "execution_count": 273,
   "id": "a34ae427-05ce-47a8-979f-dddbd7af5f17",
   "metadata": {
    "tags": []
   },
   "outputs": [],
   "source": []
  },
  {
   "cell_type": "code",
   "execution_count": 273,
   "id": "5e1c3e94-9f4f-4209-8402-a73b53bce60a",
   "metadata": {
    "tags": []
   },
   "outputs": [],
   "source": []
  },
  {
   "cell_type": "code",
   "execution_count": 273,
   "id": "46336d7b-9d57-4c58-abdf-3969c034be26",
   "metadata": {
    "tags": []
   },
   "outputs": [],
   "source": []
  },
  {
   "cell_type": "code",
   "execution_count": 273,
   "id": "754087f2-c5a0-40b1-a1ec-c6db3e728582",
   "metadata": {
    "tags": []
   },
   "outputs": [],
   "source": []
  },
  {
   "cell_type": "code",
   "execution_count": 273,
   "id": "616734b6-33ee-4274-ade3-49b8170008e6",
   "metadata": {
    "tags": []
   },
   "outputs": [],
   "source": []
  },
  {
   "cell_type": "code",
   "execution_count": 273,
   "id": "d6755340-3378-4d6e-ab8a-6687d0235c92",
   "metadata": {
    "tags": []
   },
   "outputs": [],
   "source": []
  },
  {
   "cell_type": "code",
   "execution_count": 273,
   "id": "bdfe451b-9428-43d8-bd2e-555a5ecda4d9",
   "metadata": {
    "tags": []
   },
   "outputs": [],
   "source": []
  },
  {
   "cell_type": "code",
   "execution_count": 273,
   "id": "c0642146-7e06-4043-a0b7-cd592d178942",
   "metadata": {
    "tags": []
   },
   "outputs": [],
   "source": []
  },
  {
   "cell_type": "code",
   "execution_count": 273,
   "id": "ede0c966-e733-48a1-b49c-21876c65e8b4",
   "metadata": {
    "tags": []
   },
   "outputs": [],
   "source": []
  },
  {
   "cell_type": "code",
   "execution_count": 273,
   "id": "a3ff317d-c4fd-4ddc-9090-06c79f02b0a3",
   "metadata": {
    "tags": []
   },
   "outputs": [],
   "source": []
  },
  {
   "cell_type": "code",
   "execution_count": 273,
   "id": "cbf3b0ae-441a-4bf9-9017-f0b6b85938e4",
   "metadata": {
    "tags": []
   },
   "outputs": [],
   "source": []
  },
  {
   "cell_type": "code",
   "execution_count": 273,
   "id": "7118d632-2024-4d51-b7f5-72da0daf2445",
   "metadata": {
    "tags": []
   },
   "outputs": [],
   "source": []
  },
  {
   "cell_type": "code",
   "execution_count": 273,
   "id": "6ac330f2-9b94-4736-8ecd-224f54e3e297",
   "metadata": {
    "tags": []
   },
   "outputs": [],
   "source": []
  },
  {
   "cell_type": "code",
   "execution_count": 273,
   "id": "ece4c3aa-3896-4969-9163-a9817d7e3fdc",
   "metadata": {
    "tags": []
   },
   "outputs": [],
   "source": []
  },
  {
   "cell_type": "code",
   "execution_count": 273,
   "id": "c2cf3983-33d4-4a28-9e51-f700087047ab",
   "metadata": {
    "tags": []
   },
   "outputs": [],
   "source": []
  },
  {
   "cell_type": "code",
   "execution_count": 273,
   "id": "77268484-feae-43e6-8d5e-5e76db17d35f",
   "metadata": {
    "tags": []
   },
   "outputs": [],
   "source": []
  },
  {
   "cell_type": "code",
   "execution_count": 273,
   "id": "02d60545-d73c-444b-bb4d-4fb277c847b4",
   "metadata": {
    "tags": []
   },
   "outputs": [],
   "source": []
  },
  {
   "cell_type": "code",
   "execution_count": 273,
   "id": "b7a419d5-4e77-412b-b2e8-c0da9056f600",
   "metadata": {
    "tags": []
   },
   "outputs": [],
   "source": []
  },
  {
   "cell_type": "code",
   "execution_count": 273,
   "id": "f68624f9-848d-4562-9897-1a6ad0a349ac",
   "metadata": {
    "tags": []
   },
   "outputs": [],
   "source": []
  },
  {
   "cell_type": "code",
   "execution_count": 273,
   "id": "3c556d09-a6b7-4680-839e-9c59689c44b0",
   "metadata": {
    "tags": []
   },
   "outputs": [],
   "source": []
  },
  {
   "cell_type": "code",
   "execution_count": 273,
   "id": "2333d1c7-a716-4dc3-b43f-8be849f5e2bf",
   "metadata": {
    "tags": []
   },
   "outputs": [],
   "source": []
  },
  {
   "cell_type": "code",
   "execution_count": 273,
   "id": "96ddfd44-8a6f-478c-9c9c-c16ca99538db",
   "metadata": {
    "tags": []
   },
   "outputs": [],
   "source": []
  },
  {
   "cell_type": "code",
   "execution_count": null,
   "id": "46f43631-132a-4449-a670-71876a1447ee",
   "metadata": {
    "tags": []
   },
   "outputs": [],
   "source": []
  },
  {
   "cell_type": "code",
   "execution_count": null,
   "id": "b1240c44-3459-4594-a2d5-e3524cd8da72",
   "metadata": {
    "tags": []
   },
   "outputs": [],
   "source": []
  },
  {
   "cell_type": "code",
   "execution_count": null,
   "id": "a5fc36dc-9d0a-4018-bcf4-de5338f141c8",
   "metadata": {
    "tags": []
   },
   "outputs": [],
   "source": []
  },
  {
   "cell_type": "code",
   "execution_count": null,
   "id": "cee4f723-62be-4d4c-9e91-9def56586029",
   "metadata": {},
   "outputs": [],
   "source": []
  }
 ],
 "metadata": {
  "kernelspec": {
   "display_name": "audio_ana",
   "language": "python",
   "name": "audio_ana"
  },
  "language_info": {
   "codemirror_mode": {
    "name": "ipython",
    "version": 3
   },
   "file_extension": ".py",
   "mimetype": "text/x-python",
   "name": "python",
   "nbconvert_exporter": "python",
   "pygments_lexer": "ipython3",
   "version": "3.10.11"
  }
 },
 "nbformat": 4,
 "nbformat_minor": 5
}
